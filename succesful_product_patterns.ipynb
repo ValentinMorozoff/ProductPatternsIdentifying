{
 "cells": [
  {
   "cell_type": "markdown",
   "metadata": {},
   "source": [
    "# Выявление определяющих закономерностей успешного продукта на примере компьютерных игр\n",
    "\n",
    "Из открытых источников доступны исторические данные о продажах игр, оценки пользователей и экспертов, жанры и платформы. Необходимо выявить определяющие успешность игры закономерности.\n",
    "\n",
    "## Чтение данных"
   ]
  },
  {
   "cell_type": "code",
   "execution_count": 1,
   "metadata": {},
   "outputs": [],
   "source": [
    "# импорт необходимых для исследования библиотек\n",
    "import pandas as pd\n",
    "import numpy as np\n",
    "import scipy.stats as st\n",
    "import matplotlib.pyplot as plt\n",
    "import seaborn as sns"
   ]
  },
  {
   "cell_type": "code",
   "execution_count": 2,
   "metadata": {},
   "outputs": [
    {
     "data": {
      "text/html": [
       "<div>\n",
       "<style scoped>\n",
       "    .dataframe tbody tr th:only-of-type {\n",
       "        vertical-align: middle;\n",
       "    }\n",
       "\n",
       "    .dataframe tbody tr th {\n",
       "        vertical-align: top;\n",
       "    }\n",
       "\n",
       "    .dataframe thead th {\n",
       "        text-align: right;\n",
       "    }\n",
       "</style>\n",
       "<table border=\"1\" class=\"dataframe\">\n",
       "  <thead>\n",
       "    <tr style=\"text-align: right;\">\n",
       "      <th></th>\n",
       "      <th>Name</th>\n",
       "      <th>Platform</th>\n",
       "      <th>Year_of_Release</th>\n",
       "      <th>Genre</th>\n",
       "      <th>NA_sales</th>\n",
       "      <th>EU_sales</th>\n",
       "      <th>JP_sales</th>\n",
       "      <th>Other_sales</th>\n",
       "      <th>Critic_Score</th>\n",
       "      <th>User_Score</th>\n",
       "      <th>Rating</th>\n",
       "    </tr>\n",
       "  </thead>\n",
       "  <tbody>\n",
       "    <tr>\n",
       "      <th>0</th>\n",
       "      <td>Wii Sports</td>\n",
       "      <td>Wii</td>\n",
       "      <td>2006.0</td>\n",
       "      <td>Sports</td>\n",
       "      <td>41.36</td>\n",
       "      <td>28.96</td>\n",
       "      <td>3.77</td>\n",
       "      <td>8.45</td>\n",
       "      <td>76.0</td>\n",
       "      <td>8</td>\n",
       "      <td>E</td>\n",
       "    </tr>\n",
       "    <tr>\n",
       "      <th>1</th>\n",
       "      <td>Super Mario Bros.</td>\n",
       "      <td>NES</td>\n",
       "      <td>1985.0</td>\n",
       "      <td>Platform</td>\n",
       "      <td>29.08</td>\n",
       "      <td>3.58</td>\n",
       "      <td>6.81</td>\n",
       "      <td>0.77</td>\n",
       "      <td>NaN</td>\n",
       "      <td>NaN</td>\n",
       "      <td>NaN</td>\n",
       "    </tr>\n",
       "    <tr>\n",
       "      <th>2</th>\n",
       "      <td>Mario Kart Wii</td>\n",
       "      <td>Wii</td>\n",
       "      <td>2008.0</td>\n",
       "      <td>Racing</td>\n",
       "      <td>15.68</td>\n",
       "      <td>12.76</td>\n",
       "      <td>3.79</td>\n",
       "      <td>3.29</td>\n",
       "      <td>82.0</td>\n",
       "      <td>8.3</td>\n",
       "      <td>E</td>\n",
       "    </tr>\n",
       "    <tr>\n",
       "      <th>3</th>\n",
       "      <td>Wii Sports Resort</td>\n",
       "      <td>Wii</td>\n",
       "      <td>2009.0</td>\n",
       "      <td>Sports</td>\n",
       "      <td>15.61</td>\n",
       "      <td>10.93</td>\n",
       "      <td>3.28</td>\n",
       "      <td>2.95</td>\n",
       "      <td>80.0</td>\n",
       "      <td>8</td>\n",
       "      <td>E</td>\n",
       "    </tr>\n",
       "    <tr>\n",
       "      <th>4</th>\n",
       "      <td>Pokemon Red/Pokemon Blue</td>\n",
       "      <td>GB</td>\n",
       "      <td>1996.0</td>\n",
       "      <td>Role-Playing</td>\n",
       "      <td>11.27</td>\n",
       "      <td>8.89</td>\n",
       "      <td>10.22</td>\n",
       "      <td>1.00</td>\n",
       "      <td>NaN</td>\n",
       "      <td>NaN</td>\n",
       "      <td>NaN</td>\n",
       "    </tr>\n",
       "  </tbody>\n",
       "</table>\n",
       "</div>"
      ],
      "text/plain": [
       "                       Name Platform  Year_of_Release         Genre  NA_sales  \\\n",
       "0                Wii Sports      Wii           2006.0        Sports     41.36   \n",
       "1         Super Mario Bros.      NES           1985.0      Platform     29.08   \n",
       "2            Mario Kart Wii      Wii           2008.0        Racing     15.68   \n",
       "3         Wii Sports Resort      Wii           2009.0        Sports     15.61   \n",
       "4  Pokemon Red/Pokemon Blue       GB           1996.0  Role-Playing     11.27   \n",
       "\n",
       "   EU_sales  JP_sales  Other_sales  Critic_Score User_Score Rating  \n",
       "0     28.96      3.77         8.45          76.0          8      E  \n",
       "1      3.58      6.81         0.77           NaN        NaN    NaN  \n",
       "2     12.76      3.79         3.29          82.0        8.3      E  \n",
       "3     10.93      3.28         2.95          80.0          8      E  \n",
       "4      8.89     10.22         1.00           NaN        NaN    NaN  "
      ]
     },
     "execution_count": 2,
     "metadata": {},
     "output_type": "execute_result"
    }
   ],
   "source": [
    "# чтение представлено на анализ файла\n",
    "df = pd.read_csv('/datasets/games.csv')\n",
    "df.head()"
   ]
  },
  {
   "cell_type": "markdown",
   "metadata": {},
   "source": [
    "Файл прочитался корректно.\n",
    "\n",
    "## Предобработка данных\n",
    "\n",
    "### Приведение название колонок к стандарту применяемого языка анализа"
   ]
  },
  {
   "cell_type": "code",
   "execution_count": 3,
   "metadata": {},
   "outputs": [],
   "source": [
    "# приведение название колонок к нижнему регистру\n",
    "df.columns = df.columns.str.lower()"
   ]
  },
  {
   "cell_type": "markdown",
   "metadata": {},
   "source": [
    "Описание данных:\n",
    "\n",
    "- name — название игры;\n",
    "- platform — платформа;\n",
    "- year_of_release — год выпуска;\n",
    "- genre — жанр игры;\n",
    "- na_sales — продажи в Северной Америке (миллионы проданных копий);\n",
    "- eu_sales — продажи в Европе (миллионы проданных копий);\n",
    "- jp_sales — продажи в Японии (миллионы проданных копий);\n",
    "- other_sales — продажи в других странах (миллионы проданных копий);\n",
    "- critic_score — оценка критиков (максимум 100);\n",
    "- user_score — оценка пользователей (максимум 10);\n",
    "- rating — рейтинг от организации ESRB (англ. Entertainment Software Rating Board).\n",
    "\n",
    "### Выявление дубликатов в данных. Анализ и обработка пропущенных значений\n",
    "\n",
    "Проверим данные на янвные(полные) дубликаты и пропущенные значения."
   ]
  },
  {
   "cell_type": "code",
   "execution_count": 4,
   "metadata": {},
   "outputs": [
    {
     "data": {
      "text/plain": [
       "0"
      ]
     },
     "execution_count": 4,
     "metadata": {},
     "output_type": "execute_result"
    }
   ],
   "source": [
    "# определение явных(полных) дубликатов\n",
    "df.duplicated().sum()"
   ]
  },
  {
   "cell_type": "code",
   "execution_count": 5,
   "metadata": {},
   "outputs": [
    {
     "data": {
      "text/html": [
       "<div>\n",
       "<style scoped>\n",
       "    .dataframe tbody tr th:only-of-type {\n",
       "        vertical-align: middle;\n",
       "    }\n",
       "\n",
       "    .dataframe tbody tr th {\n",
       "        vertical-align: top;\n",
       "    }\n",
       "\n",
       "    .dataframe thead th {\n",
       "        text-align: right;\n",
       "    }\n",
       "</style>\n",
       "<table border=\"1\" class=\"dataframe\">\n",
       "  <thead>\n",
       "    <tr style=\"text-align: right;\">\n",
       "      <th></th>\n",
       "      <th>NaN_count</th>\n",
       "      <th>NaN_share</th>\n",
       "    </tr>\n",
       "  </thead>\n",
       "  <tbody>\n",
       "    <tr>\n",
       "      <th>name</th>\n",
       "      <td>2</td>\n",
       "      <td>0.000120</td>\n",
       "    </tr>\n",
       "    <tr>\n",
       "      <th>platform</th>\n",
       "      <td>0</td>\n",
       "      <td>0.000000</td>\n",
       "    </tr>\n",
       "    <tr>\n",
       "      <th>year_of_release</th>\n",
       "      <td>269</td>\n",
       "      <td>0.016093</td>\n",
       "    </tr>\n",
       "    <tr>\n",
       "      <th>genre</th>\n",
       "      <td>2</td>\n",
       "      <td>0.000120</td>\n",
       "    </tr>\n",
       "    <tr>\n",
       "      <th>na_sales</th>\n",
       "      <td>0</td>\n",
       "      <td>0.000000</td>\n",
       "    </tr>\n",
       "    <tr>\n",
       "      <th>eu_sales</th>\n",
       "      <td>0</td>\n",
       "      <td>0.000000</td>\n",
       "    </tr>\n",
       "    <tr>\n",
       "      <th>jp_sales</th>\n",
       "      <td>0</td>\n",
       "      <td>0.000000</td>\n",
       "    </tr>\n",
       "    <tr>\n",
       "      <th>other_sales</th>\n",
       "      <td>0</td>\n",
       "      <td>0.000000</td>\n",
       "    </tr>\n",
       "    <tr>\n",
       "      <th>critic_score</th>\n",
       "      <td>8578</td>\n",
       "      <td>0.513192</td>\n",
       "    </tr>\n",
       "    <tr>\n",
       "      <th>user_score</th>\n",
       "      <td>6701</td>\n",
       "      <td>0.400897</td>\n",
       "    </tr>\n",
       "    <tr>\n",
       "      <th>rating</th>\n",
       "      <td>6766</td>\n",
       "      <td>0.404786</td>\n",
       "    </tr>\n",
       "  </tbody>\n",
       "</table>\n",
       "</div>"
      ],
      "text/plain": [
       "                 NaN_count  NaN_share\n",
       "name                     2   0.000120\n",
       "platform                 0   0.000000\n",
       "year_of_release        269   0.016093\n",
       "genre                    2   0.000120\n",
       "na_sales                 0   0.000000\n",
       "eu_sales                 0   0.000000\n",
       "jp_sales                 0   0.000000\n",
       "other_sales              0   0.000000\n",
       "critic_score          8578   0.513192\n",
       "user_score            6701   0.400897\n",
       "rating                6766   0.404786"
      ]
     },
     "execution_count": 5,
     "metadata": {},
     "output_type": "execute_result"
    }
   ],
   "source": [
    "# определение пропущенных значений\n",
    "pd.DataFrame({'NaN_count': df.isna().sum(),\n",
    "               'NaN_share':df.isna().mean()})"
   ]
  },
  {
   "cell_type": "markdown",
   "metadata": {},
   "source": [
    "Явные (полные) дубликаты отсутвуют.\n",
    "\n",
    "Ряд колонок имеют пропуски. Название и жанр игры имеют по два пропуска. Проверим, одни и те же это объекты?"
   ]
  },
  {
   "cell_type": "code",
   "execution_count": 6,
   "metadata": {},
   "outputs": [
    {
     "data": {
      "text/html": [
       "<div>\n",
       "<style scoped>\n",
       "    .dataframe tbody tr th:only-of-type {\n",
       "        vertical-align: middle;\n",
       "    }\n",
       "\n",
       "    .dataframe tbody tr th {\n",
       "        vertical-align: top;\n",
       "    }\n",
       "\n",
       "    .dataframe thead th {\n",
       "        text-align: right;\n",
       "    }\n",
       "</style>\n",
       "<table border=\"1\" class=\"dataframe\">\n",
       "  <thead>\n",
       "    <tr style=\"text-align: right;\">\n",
       "      <th></th>\n",
       "      <th>name</th>\n",
       "      <th>platform</th>\n",
       "      <th>year_of_release</th>\n",
       "      <th>genre</th>\n",
       "      <th>na_sales</th>\n",
       "      <th>eu_sales</th>\n",
       "      <th>jp_sales</th>\n",
       "      <th>other_sales</th>\n",
       "      <th>critic_score</th>\n",
       "      <th>user_score</th>\n",
       "      <th>rating</th>\n",
       "    </tr>\n",
       "  </thead>\n",
       "  <tbody>\n",
       "    <tr>\n",
       "      <th>659</th>\n",
       "      <td>NaN</td>\n",
       "      <td>GEN</td>\n",
       "      <td>1993.0</td>\n",
       "      <td>NaN</td>\n",
       "      <td>1.78</td>\n",
       "      <td>0.53</td>\n",
       "      <td>0.00</td>\n",
       "      <td>0.08</td>\n",
       "      <td>NaN</td>\n",
       "      <td>NaN</td>\n",
       "      <td>NaN</td>\n",
       "    </tr>\n",
       "    <tr>\n",
       "      <th>14244</th>\n",
       "      <td>NaN</td>\n",
       "      <td>GEN</td>\n",
       "      <td>1993.0</td>\n",
       "      <td>NaN</td>\n",
       "      <td>0.00</td>\n",
       "      <td>0.00</td>\n",
       "      <td>0.03</td>\n",
       "      <td>0.00</td>\n",
       "      <td>NaN</td>\n",
       "      <td>NaN</td>\n",
       "      <td>NaN</td>\n",
       "    </tr>\n",
       "  </tbody>\n",
       "</table>\n",
       "</div>"
      ],
      "text/plain": [
       "      name platform  year_of_release genre  na_sales  eu_sales  jp_sales  \\\n",
       "659    NaN      GEN           1993.0   NaN      1.78      0.53      0.00   \n",
       "14244  NaN      GEN           1993.0   NaN      0.00      0.00      0.03   \n",
       "\n",
       "       other_sales  critic_score user_score rating  \n",
       "659           0.08           NaN        NaN    NaN  \n",
       "14244         0.00           NaN        NaN    NaN  "
      ]
     },
     "execution_count": 6,
     "metadata": {},
     "output_type": "execute_result"
    }
   ],
   "source": [
    "# проверка на симметрию пропусков названия и жанра игры\n",
    "df[df['name'].isna()]"
   ]
  },
  {
   "cell_type": "markdown",
   "metadata": {},
   "source": [
    "Действительно, игры без названия также имеют пропуске в колонке с жанром и не имеют скоров и рейтингов, кроме того выпущены в далеком 1993 году, избавимся от них без сожаления."
   ]
  },
  {
   "cell_type": "code",
   "execution_count": 7,
   "metadata": {},
   "outputs": [],
   "source": [
    "# удаление строк с пропусками в названии игр и жанров\n",
    "df = df.drop(df[df['name'].isna()].index)"
   ]
  },
  {
   "cell_type": "markdown",
   "metadata": {},
   "source": [
    "Колонка с годами выпуска игр имеет 269 пропущеных значения. Обратимся к столбцу с названием игр. Некоторые игры содержат числовые наименования, очень похожие на год... Выделим \"года\" игр из названия игр и заменим ими пропуски в годах релиза."
   ]
  },
  {
   "cell_type": "code",
   "execution_count": 8,
   "metadata": {},
   "outputs": [],
   "source": [
    "# выделение из название игр числовых значений\n",
    "df['year_from_name'] = df['name'].str.extract('([0-9]{4})')\n",
    "\n",
    "# замена пропусков на значения годов из названия игр\n",
    "df.loc[df['year_of_release'].isna(), 'year_of_release'] = df['year_from_name']\n",
    "\n",
    "# удаление временной (технической) колонки\n",
    "df = df.drop('year_from_name', axis=1)"
   ]
  },
  {
   "cell_type": "code",
   "execution_count": 9,
   "metadata": {},
   "outputs": [
    {
     "data": {
      "text/html": [
       "<div>\n",
       "<style scoped>\n",
       "    .dataframe tbody tr th:only-of-type {\n",
       "        vertical-align: middle;\n",
       "    }\n",
       "\n",
       "    .dataframe tbody tr th {\n",
       "        vertical-align: top;\n",
       "    }\n",
       "\n",
       "    .dataframe thead th {\n",
       "        text-align: right;\n",
       "    }\n",
       "</style>\n",
       "<table border=\"1\" class=\"dataframe\">\n",
       "  <thead>\n",
       "    <tr style=\"text-align: right;\">\n",
       "      <th></th>\n",
       "      <th>NaN_count</th>\n",
       "      <th>NaN_share</th>\n",
       "    </tr>\n",
       "  </thead>\n",
       "  <tbody>\n",
       "    <tr>\n",
       "      <th>name</th>\n",
       "      <td>0</td>\n",
       "      <td>0.000000</td>\n",
       "    </tr>\n",
       "    <tr>\n",
       "      <th>platform</th>\n",
       "      <td>0</td>\n",
       "      <td>0.000000</td>\n",
       "    </tr>\n",
       "    <tr>\n",
       "      <th>year_of_release</th>\n",
       "      <td>252</td>\n",
       "      <td>0.015078</td>\n",
       "    </tr>\n",
       "    <tr>\n",
       "      <th>genre</th>\n",
       "      <td>0</td>\n",
       "      <td>0.000000</td>\n",
       "    </tr>\n",
       "    <tr>\n",
       "      <th>na_sales</th>\n",
       "      <td>0</td>\n",
       "      <td>0.000000</td>\n",
       "    </tr>\n",
       "    <tr>\n",
       "      <th>eu_sales</th>\n",
       "      <td>0</td>\n",
       "      <td>0.000000</td>\n",
       "    </tr>\n",
       "    <tr>\n",
       "      <th>jp_sales</th>\n",
       "      <td>0</td>\n",
       "      <td>0.000000</td>\n",
       "    </tr>\n",
       "    <tr>\n",
       "      <th>other_sales</th>\n",
       "      <td>0</td>\n",
       "      <td>0.000000</td>\n",
       "    </tr>\n",
       "    <tr>\n",
       "      <th>critic_score</th>\n",
       "      <td>8576</td>\n",
       "      <td>0.513133</td>\n",
       "    </tr>\n",
       "    <tr>\n",
       "      <th>user_score</th>\n",
       "      <td>6699</td>\n",
       "      <td>0.400826</td>\n",
       "    </tr>\n",
       "    <tr>\n",
       "      <th>rating</th>\n",
       "      <td>6764</td>\n",
       "      <td>0.404715</td>\n",
       "    </tr>\n",
       "  </tbody>\n",
       "</table>\n",
       "</div>"
      ],
      "text/plain": [
       "                 NaN_count  NaN_share\n",
       "name                     0   0.000000\n",
       "platform                 0   0.000000\n",
       "year_of_release        252   0.015078\n",
       "genre                    0   0.000000\n",
       "na_sales                 0   0.000000\n",
       "eu_sales                 0   0.000000\n",
       "jp_sales                 0   0.000000\n",
       "other_sales              0   0.000000\n",
       "critic_score          8576   0.513133\n",
       "user_score            6699   0.400826\n",
       "rating                6764   0.404715"
      ]
     },
     "execution_count": 9,
     "metadata": {},
     "output_type": "execute_result"
    }
   ],
   "source": [
    "# определения пропущенных значений\n",
    "pd.DataFrame({'NaN_count': df.isna().sum(),\n",
    "               'NaN_share':df.isna().mean()})"
   ]
  },
  {
   "cell_type": "markdown",
   "metadata": {},
   "source": [
    "Количество пропусков в колонке с годами выхда игр снизилось до 252.\n",
    "\n",
    "Колонки со скорами и рейтингом игр заполнять не стоит, чтобы не исказить результат исследования. \n",
    "\n",
    "Опора при определнии успешности продукта будет на сведения об объемах продажах.\n",
    "\n",
    "Объемы реализации продукта рассмотрим в разрезе жанров, платформах, днамики по годам, что и определит паттерны высоких продаж. Скоры и рейтинги будут дополнительным (косвенным) свидетельством успешности игры.\n",
    "\n",
    "Далее преобразуем типы данных.\n",
    "\n",
    "### Преобразование типов данных"
   ]
  },
  {
   "cell_type": "code",
   "execution_count": 10,
   "metadata": {},
   "outputs": [
    {
     "data": {
      "text/plain": [
       "name                object\n",
       "platform            object\n",
       "year_of_release     object\n",
       "genre               object\n",
       "na_sales           float64\n",
       "eu_sales           float64\n",
       "jp_sales           float64\n",
       "other_sales        float64\n",
       "critic_score       float64\n",
       "user_score          object\n",
       "rating              object\n",
       "dtype: object"
      ]
     },
     "execution_count": 10,
     "metadata": {},
     "output_type": "execute_result"
    }
   ],
   "source": [
    "# изучение типов данных\n",
    "df.dtypes"
   ]
  },
  {
   "cell_type": "markdown",
   "metadata": {},
   "source": [
    "Стоит сменить тип данных года выпуска с непрерывного (числа с плавающей точкой) на дискретный, а также пользовательский скор с объекта (строчный тип) на непрерывный.\n",
    "\n",
    "Дополнительно отметим, что колонка с оценкой игры игроками содержит аббревиатуру tbd, что определяется, как to be determined / to be decided. То есть оценка еще игроками не выставлена, очевидно, пользователи еще не достаточно изучили продукт для оценки, либо на момент формирования датасета оценка игры пользователями находяиться в расчетной стадии. Заменит акроним на пропуски (нет данных). \n",
    "\n",
    "Колонка с рейтингами имеет пропущенные значения. Возмжно, игры без рейтинга не представляют интереса для ESRB, либо по иной причине не имеют рейтинга. Заменим пропущенные значения на запись об отсутвие рейтинга."
   ]
  },
  {
   "cell_type": "code",
   "execution_count": 11,
   "metadata": {},
   "outputs": [],
   "source": [
    "# замена пропущеных значений\n",
    "df['user_score'] = df['user_score'].replace('tbd', np.nan)\n",
    "df['rating'] = df['rating'].replace(np.nan, 'not determined')\n",
    "\n",
    "# приведение типов данных к соответсвующим\n",
    "df['year_of_release'] = df['year_of_release'].fillna(0).astype(int).replace(0, np.nan).astype('Int64')\n",
    "df['user_score'] = df['user_score'].astype(float)"
   ]
  },
  {
   "cell_type": "markdown",
   "metadata": {},
   "source": [
    "### Расчет объема мировых продаж"
   ]
  },
  {
   "cell_type": "code",
   "execution_count": 12,
   "metadata": {},
   "outputs": [],
   "source": [
    "# рассчет суммарных продаж по всм регионам\n",
    "df['sales_total'] = (df[['na_sales', 'eu_sales', 'jp_sales', 'other_sales']]).sum(axis=1)"
   ]
  },
  {
   "cell_type": "markdown",
   "metadata": {},
   "source": [
    "### Выводы по результатам предобработки данных"
   ]
  },
  {
   "cell_type": "code",
   "execution_count": 13,
   "metadata": {},
   "outputs": [
    {
     "name": "stdout",
     "output_type": "stream",
     "text": [
      "<class 'pandas.core.frame.DataFrame'>\n",
      "Int64Index: 16713 entries, 0 to 16714\n",
      "Data columns (total 12 columns):\n",
      " #   Column           Non-Null Count  Dtype  \n",
      "---  ------           --------------  -----  \n",
      " 0   name             16713 non-null  object \n",
      " 1   platform         16713 non-null  object \n",
      " 2   year_of_release  16461 non-null  Int64  \n",
      " 3   genre            16713 non-null  object \n",
      " 4   na_sales         16713 non-null  float64\n",
      " 5   eu_sales         16713 non-null  float64\n",
      " 6   jp_sales         16713 non-null  float64\n",
      " 7   other_sales      16713 non-null  float64\n",
      " 8   critic_score     8137 non-null   float64\n",
      " 9   user_score       7590 non-null   float64\n",
      " 10  rating           16713 non-null  object \n",
      " 11  sales_total      16713 non-null  float64\n",
      "dtypes: Int64(1), float64(7), object(4)\n",
      "memory usage: 2.2+ MB\n"
     ]
    }
   ],
   "source": [
    "# общая информация о данных\n",
    "df.info()"
   ]
  },
  {
   "cell_type": "markdown",
   "metadata": {},
   "source": [
    "Подведем итог. Представленные на исследование данные содержат 16713 записей (наблюдений) об играх с собранными 12 признаками наблюдений.\n",
    "\n",
    "Даные приведены к соответсвующим типам. Пропущенные значения предобработаны."
   ]
  },
  {
   "cell_type": "markdown",
   "metadata": {},
   "source": [
    "## Исследовательский анализ данных\n",
    "\n",
    "### Динамика выпуска игр по годам"
   ]
  },
  {
   "cell_type": "code",
   "execution_count": 14,
   "metadata": {
    "scrolled": false
   },
   "outputs": [
    {
     "data": {
      "image/png": "[encoded data removed]",
      "text/plain": [
       "<Figure size 1080x432 with 1 Axes>"
      ]
     },
     "metadata": {
      "needs_background": "light"
     },
     "output_type": "display_data"
    }
   ],
   "source": [
    "# расчет объема продаж игр по годам\n",
    "sales_per_years = df.groupby('year_of_release').agg(na_sales_total = ('na_sales', 'sum'),\n",
    "                                 eu_sales_total = ('eu_sales', 'sum'),\n",
    "                                 jp_sales_total = ('jp_sales', 'sum'),\n",
    "                                 other_sales_total = ('other_sales', 'sum'))\n",
    "\n",
    "# визуализация расчетов\n",
    "plt.figure(figsize=(15, 6))\n",
    "plt.plot(sales_per_years)\n",
    "plt.title('Динамика продаж игр, млн. копий', fontsize=15)\n",
    "plt.xlabel('Год выхода в релиз')\n",
    "plt.legend(['Северная Америка', 'Европа', 'Япония', 'Остальной мир'])\n",
    "plt.show()"
   ]
  },
  {
   "cell_type": "markdown",
   "metadata": {},
   "source": [
    "В период 80-х и начала 90-х годов, активных релизов игр не происходило. Продажи игр начинают активно расти, начиная с 1995 года. Лидером роста продаж выступает Северо-Американский регион, Япония конкурирует с прочими мировыми регионами, проигрывая 2007-2009 года. Промежуточное положение занимают объемы продаж в Европе. Пиковым годом продаж стоит признать сезон 2008-2009 годов, после которого настует спад.\n",
    "\n",
    "Ограничим горизонт анализа периодом 1996 года. Периодом начала бурного роста."
   ]
  },
  {
   "cell_type": "code",
   "execution_count": 15,
   "metadata": {},
   "outputs": [
    {
     "data": {
      "image/png": "[encoded data removed]",
      "text/plain": [
       "<Figure size 1080x432 with 1 Axes>"
      ]
     },
     "metadata": {
      "needs_background": "light"
     },
     "output_type": "display_data"
    },
    {
     "data": {
      "text/html": [
       "<style  type=\"text/css\" >\n",
       "#T_77d34_row0_col1,#T_77d34_row2_col2{\n",
       "            background-color:  #dce9f6;\n",
       "            color:  #000000;\n",
       "        }#T_77d34_row0_col2,#T_77d34_row0_col4,#T_77d34_row20_col1,#T_77d34_row20_col3,#T_77d34_row20_col5{\n",
       "            background-color:  #f7fbff;\n",
       "            color:  #000000;\n",
       "        }#T_77d34_row0_col3{\n",
       "            background-color:  #2e7ebc;\n",
       "            color:  #000000;\n",
       "        }#T_77d34_row0_col5{\n",
       "            background-color:  #deebf7;\n",
       "            color:  #000000;\n",
       "        }#T_77d34_row1_col1,#T_77d34_row4_col1{\n",
       "            background-color:  #d7e6f5;\n",
       "            color:  #000000;\n",
       "        }#T_77d34_row1_col2{\n",
       "            background-color:  #f6faff;\n",
       "            color:  #000000;\n",
       "        }#T_77d34_row1_col3{\n",
       "            background-color:  #5da5d1;\n",
       "            color:  #000000;\n",
       "        }#T_77d34_row1_col4{\n",
       "            background-color:  #f4f9fe;\n",
       "            color:  #000000;\n",
       "        }#T_77d34_row1_col5,#T_77d34_row4_col5{\n",
       "            background-color:  #ddeaf7;\n",
       "            color:  #000000;\n",
       "        }#T_77d34_row2_col1{\n",
       "            background-color:  #bed8ec;\n",
       "            color:  #000000;\n",
       "        }#T_77d34_row2_col3,#T_77d34_row6_col1{\n",
       "            background-color:  #56a0ce;\n",
       "            color:  #000000;\n",
       "        }#T_77d34_row2_col4{\n",
       "            background-color:  #eef5fc;\n",
       "            color:  #000000;\n",
       "        }#T_77d34_row2_col5{\n",
       "            background-color:  #caddf0;\n",
       "            color:  #000000;\n",
       "        }#T_77d34_row3_col1,#T_77d34_row6_col4{\n",
       "            background-color:  #c1d9ed;\n",
       "            color:  #000000;\n",
       "        }#T_77d34_row3_col2{\n",
       "            background-color:  #e2edf8;\n",
       "            color:  #000000;\n",
       "        }#T_77d34_row3_col3,#T_77d34_row9_col5{\n",
       "            background-color:  #4896c8;\n",
       "            color:  #000000;\n",
       "        }#T_77d34_row3_col4{\n",
       "            background-color:  #f1f7fd;\n",
       "            color:  #000000;\n",
       "        }#T_77d34_row3_col5{\n",
       "            background-color:  #cbdef1;\n",
       "            color:  #000000;\n",
       "        }#T_77d34_row4_col2{\n",
       "            background-color:  #eff6fc;\n",
       "            color:  #000000;\n",
       "        }#T_77d34_row4_col3{\n",
       "            background-color:  #87bddc;\n",
       "            color:  #000000;\n",
       "        }#T_77d34_row4_col4{\n",
       "            background-color:  #edf4fc;\n",
       "            color:  #000000;\n",
       "        }#T_77d34_row5_col1,#T_77d34_row7_col5{\n",
       "            background-color:  #8abfdd;\n",
       "            color:  #000000;\n",
       "        }#T_77d34_row5_col2{\n",
       "            background-color:  #aacfe5;\n",
       "            color:  #000000;\n",
       "        }#T_77d34_row5_col3{\n",
       "            background-color:  #9dcae1;\n",
       "            color:  #000000;\n",
       "        }#T_77d34_row5_col4,#T_77d34_row19_col1{\n",
       "            background-color:  #cfe1f2;\n",
       "            color:  #000000;\n",
       "        }#T_77d34_row5_col5,#T_77d34_row18_col3,#T_77d34_row18_col5{\n",
       "            background-color:  #9fcae1;\n",
       "            color:  #000000;\n",
       "        }#T_77d34_row6_col2,#T_77d34_row8_col2,#T_77d34_row9_col4{\n",
       "            background-color:  #82bbdb;\n",
       "            color:  #000000;\n",
       "        }#T_77d34_row6_col3,#T_77d34_row8_col3{\n",
       "            background-color:  #8fc2de;\n",
       "            color:  #000000;\n",
       "        }#T_77d34_row6_col5{\n",
       "            background-color:  #6fb0d7;\n",
       "            color:  #000000;\n",
       "        }#T_77d34_row7_col1{\n",
       "            background-color:  #6dafd7;\n",
       "            color:  #000000;\n",
       "        }#T_77d34_row7_col2{\n",
       "            background-color:  #92c4de;\n",
       "            color:  #000000;\n",
       "        }#T_77d34_row7_col3,#T_77d34_row19_col3{\n",
       "            background-color:  #bfd8ed;\n",
       "            color:  #000000;\n",
       "        }#T_77d34_row7_col4{\n",
       "            background-color:  #c6dbef;\n",
       "            color:  #000000;\n",
       "        }#T_77d34_row8_col1{\n",
       "            background-color:  #4a98c9;\n",
       "            color:  #000000;\n",
       "        }#T_77d34_row8_col4{\n",
       "            background-color:  #5aa2cf;\n",
       "            color:  #000000;\n",
       "        }#T_77d34_row8_col5{\n",
       "            background-color:  #5ba3d0;\n",
       "            color:  #000000;\n",
       "        }#T_77d34_row9_col1{\n",
       "            background-color:  #3b8bc2;\n",
       "            color:  #000000;\n",
       "        }#T_77d34_row9_col2{\n",
       "            background-color:  #63a8d3;\n",
       "            color:  #000000;\n",
       "        }#T_77d34_row9_col3{\n",
       "            background-color:  #3d8dc4;\n",
       "            color:  #000000;\n",
       "        }#T_77d34_row10_col1,#T_77d34_row10_col5{\n",
       "            background-color:  #2979b9;\n",
       "            color:  #000000;\n",
       "        }#T_77d34_row10_col2{\n",
       "            background-color:  #519ccc;\n",
       "            color:  #000000;\n",
       "        }#T_77d34_row10_col3,#T_77d34_row12_col1,#T_77d34_row12_col4,#T_77d34_row12_col5,#T_77d34_row13_col2{\n",
       "            background-color:  #08306b;\n",
       "            color:  #f1f1f1;\n",
       "        }#T_77d34_row10_col4{\n",
       "            background-color:  #3f8fc5;\n",
       "            color:  #000000;\n",
       "        }#T_77d34_row11_col1{\n",
       "            background-color:  #08519c;\n",
       "            color:  #f1f1f1;\n",
       "        }#T_77d34_row11_col2{\n",
       "            background-color:  #1a68ae;\n",
       "            color:  #f1f1f1;\n",
       "        }#T_77d34_row11_col3,#T_77d34_row12_col3{\n",
       "            background-color:  #2070b4;\n",
       "            color:  #f1f1f1;\n",
       "        }#T_77d34_row11_col4{\n",
       "            background-color:  #084184;\n",
       "            color:  #f1f1f1;\n",
       "        }#T_77d34_row11_col5{\n",
       "            background-color:  #08509b;\n",
       "            color:  #f1f1f1;\n",
       "        }#T_77d34_row12_col2{\n",
       "            background-color:  #083c7d;\n",
       "            color:  #f1f1f1;\n",
       "        }#T_77d34_row13_col1{\n",
       "            background-color:  #083b7c;\n",
       "            color:  #f1f1f1;\n",
       "        }#T_77d34_row13_col3{\n",
       "            background-color:  #1967ad;\n",
       "            color:  #f1f1f1;\n",
       "        }#T_77d34_row13_col4{\n",
       "            background-color:  #084c95;\n",
       "            color:  #f1f1f1;\n",
       "        }#T_77d34_row13_col5{\n",
       "            background-color:  #083573;\n",
       "            color:  #f1f1f1;\n",
       "        }#T_77d34_row14_col1{\n",
       "            background-color:  #0e59a2;\n",
       "            color:  #f1f1f1;\n",
       "        }#T_77d34_row14_col2{\n",
       "            background-color:  #084f99;\n",
       "            color:  #f1f1f1;\n",
       "        }#T_77d34_row14_col3{\n",
       "            background-color:  #2474b7;\n",
       "            color:  #f1f1f1;\n",
       "        }#T_77d34_row14_col4{\n",
       "            background-color:  #3181bd;\n",
       "            color:  #000000;\n",
       "        }#T_77d34_row14_col5{\n",
       "            background-color:  #0d57a1;\n",
       "            color:  #f1f1f1;\n",
       "        }#T_77d34_row15_col1{\n",
       "            background-color:  #3e8ec4;\n",
       "            color:  #000000;\n",
       "        }#T_77d34_row15_col2{\n",
       "            background-color:  #125ea6;\n",
       "            color:  #f1f1f1;\n",
       "        }#T_77d34_row15_col3{\n",
       "            background-color:  #4493c7;\n",
       "            color:  #000000;\n",
       "        }#T_77d34_row15_col4{\n",
       "            background-color:  #4695c8;\n",
       "            color:  #000000;\n",
       "        }#T_77d34_row15_col5{\n",
       "            background-color:  #2f7fbc;\n",
       "            color:  #000000;\n",
       "        }#T_77d34_row16_col1,#T_77d34_row17_col1{\n",
       "            background-color:  #a4cce3;\n",
       "            color:  #000000;\n",
       "        }#T_77d34_row16_col2{\n",
       "            background-color:  #74b3d8;\n",
       "            color:  #000000;\n",
       "        }#T_77d34_row16_col3{\n",
       "            background-color:  #4b98ca;\n",
       "            color:  #000000;\n",
       "        }#T_77d34_row16_col4{\n",
       "            background-color:  #9ac8e0;\n",
       "            color:  #000000;\n",
       "        }#T_77d34_row16_col5,#T_77d34_row17_col4{\n",
       "            background-color:  #8dc1dd;\n",
       "            color:  #000000;\n",
       "        }#T_77d34_row17_col2{\n",
       "            background-color:  #61a7d2;\n",
       "            color:  #000000;\n",
       "        }#T_77d34_row17_col3{\n",
       "            background-color:  #64a9d3;\n",
       "            color:  #000000;\n",
       "        }#T_77d34_row17_col5{\n",
       "            background-color:  #89bedc;\n",
       "            color:  #000000;\n",
       "        }#T_77d34_row18_col1{\n",
       "            background-color:  #bad6eb;\n",
       "            color:  #000000;\n",
       "        }#T_77d34_row18_col2{\n",
       "            background-color:  #5fa6d1;\n",
       "            color:  #000000;\n",
       "        }#T_77d34_row18_col4{\n",
       "            background-color:  #95c5df;\n",
       "            color:  #000000;\n",
       "        }#T_77d34_row19_col2{\n",
       "            background-color:  #a6cee4;\n",
       "            color:  #000000;\n",
       "        }#T_77d34_row19_col4{\n",
       "            background-color:  #b4d3e9;\n",
       "            color:  #000000;\n",
       "        }#T_77d34_row19_col5{\n",
       "            background-color:  #c4daee;\n",
       "            color:  #000000;\n",
       "        }#T_77d34_row20_col2{\n",
       "            background-color:  #f2f7fd;\n",
       "            color:  #000000;\n",
       "        }#T_77d34_row20_col4{\n",
       "            background-color:  #e5eff9;\n",
       "            color:  #000000;\n",
       "        }</style><table id=\"T_77d34_\" ><thead>    <tr>        <th class=\"blank level0\" ></th>        <th class=\"col_heading level0 col0\" >year_of_release</th>        <th class=\"col_heading level0 col1\" >na_sales_total</th>        <th class=\"col_heading level0 col2\" >eu_sales_total</th>        <th class=\"col_heading level0 col3\" >jp_sales_total</th>        <th class=\"col_heading level0 col4\" >other_sales_total</th>        <th class=\"col_heading level0 col5\" >world_sales_total</th>    </tr></thead><tbody>\n",
       "                <tr>\n",
       "                        <th id=\"T_77d34_level0_row0\" class=\"row_heading level0 row0\" >0</th>\n",
       "                        <td id=\"T_77d34_row0_col0\" class=\"data row0 col0\" >1996</td>\n",
       "                        <td id=\"T_77d34_row0_col1\" class=\"data row0 col1\" >86.760000</td>\n",
       "                        <td id=\"T_77d34_row0_col2\" class=\"data row0 col2\" >47.260000</td>\n",
       "                        <td id=\"T_77d34_row0_col3\" class=\"data row0 col3\" >57.440000</td>\n",
       "                        <td id=\"T_77d34_row0_col4\" class=\"data row0 col4\" >7.690000</td>\n",
       "                        <td id=\"T_77d34_row0_col5\" class=\"data row0 col5\" >199.150000</td>\n",
       "            </tr>\n",
       "            <tr>\n",
       "                        <th id=\"T_77d34_level0_row1\" class=\"row_heading level0 row1\" >1</th>\n",
       "                        <td id=\"T_77d34_row1_col0\" class=\"data row1 col0\" >1997</td>\n",
       "                        <td id=\"T_77d34_row1_col1\" class=\"data row1 col1\" >94.750000</td>\n",
       "                        <td id=\"T_77d34_row1_col2\" class=\"data row1 col2\" >48.320000</td>\n",
       "                        <td id=\"T_77d34_row1_col3\" class=\"data row1 col3\" >48.870000</td>\n",
       "                        <td id=\"T_77d34_row1_col4\" class=\"data row1 col4\" >9.130000</td>\n",
       "                        <td id=\"T_77d34_row1_col5\" class=\"data row1 col5\" >201.070000</td>\n",
       "            </tr>\n",
       "            <tr>\n",
       "                        <th id=\"T_77d34_level0_row2\" class=\"row_heading level0 row2\" >2</th>\n",
       "                        <td id=\"T_77d34_row2_col0\" class=\"data row2 col0\" >1998</td>\n",
       "                        <td id=\"T_77d34_row2_col1\" class=\"data row2 col1\" >128.360000</td>\n",
       "                        <td id=\"T_77d34_row2_col2\" class=\"data row2 col2\" >66.900000</td>\n",
       "                        <td id=\"T_77d34_row2_col3\" class=\"data row2 col3\" >50.040000</td>\n",
       "                        <td id=\"T_77d34_row2_col4\" class=\"data row2 col4\" >11.010000</td>\n",
       "                        <td id=\"T_77d34_row2_col5\" class=\"data row2 col5\" >256.310000</td>\n",
       "            </tr>\n",
       "            <tr>\n",
       "                        <th id=\"T_77d34_level0_row3\" class=\"row_heading level0 row3\" >3</th>\n",
       "                        <td id=\"T_77d34_row3_col0\" class=\"data row3 col0\" >1999</td>\n",
       "                        <td id=\"T_77d34_row3_col1\" class=\"data row3 col1\" >126.060000</td>\n",
       "                        <td id=\"T_77d34_row3_col2\" class=\"data row3 col2\" >62.670000</td>\n",
       "                        <td id=\"T_77d34_row3_col3\" class=\"data row3 col3\" >52.340000</td>\n",
       "                        <td id=\"T_77d34_row3_col4\" class=\"data row3 col4\" >10.040000</td>\n",
       "                        <td id=\"T_77d34_row3_col5\" class=\"data row3 col5\" >251.110000</td>\n",
       "            </tr>\n",
       "            <tr>\n",
       "                        <th id=\"T_77d34_level0_row4\" class=\"row_heading level0 row4\" >4</th>\n",
       "                        <td id=\"T_77d34_row4_col0\" class=\"data row4 col0\" >2000</td>\n",
       "                        <td id=\"T_77d34_row4_col1\" class=\"data row4 col1\" >94.500000</td>\n",
       "                        <td id=\"T_77d34_row4_col2\" class=\"data row4 col2\" >52.770000</td>\n",
       "                        <td id=\"T_77d34_row4_col3\" class=\"data row4 col3\" >42.770000</td>\n",
       "                        <td id=\"T_77d34_row4_col4\" class=\"data row4 col4\" >11.620000</td>\n",
       "                        <td id=\"T_77d34_row4_col5\" class=\"data row4 col5\" >201.660000</td>\n",
       "            </tr>\n",
       "            <tr>\n",
       "                        <th id=\"T_77d34_level0_row5\" class=\"row_heading level0 row5\" >5</th>\n",
       "                        <td id=\"T_77d34_row5_col0\" class=\"data row5 col0\" >2001</td>\n",
       "                        <td id=\"T_77d34_row5_col1\" class=\"data row5 col1\" >173.980000</td>\n",
       "                        <td id=\"T_77d34_row5_col2\" class=\"data row5 col2\" >94.890000</td>\n",
       "                        <td id=\"T_77d34_row5_col3\" class=\"data row5 col3\" >39.860000</td>\n",
       "                        <td id=\"T_77d34_row5_col4\" class=\"data row5 col4\" >22.730000</td>\n",
       "                        <td id=\"T_77d34_row5_col5\" class=\"data row5 col5\" >331.460000</td>\n",
       "            </tr>\n",
       "            <tr>\n",
       "                        <th id=\"T_77d34_level0_row6\" class=\"row_heading level0 row6\" >6</th>\n",
       "                        <td id=\"T_77d34_row6_col0\" class=\"data row6 col0\" >2002</td>\n",
       "                        <td id=\"T_77d34_row6_col1\" class=\"data row6 col1\" >216.720000</td>\n",
       "                        <td id=\"T_77d34_row6_col2\" class=\"data row6 col2\" >109.770000</td>\n",
       "                        <td id=\"T_77d34_row6_col3\" class=\"data row6 col3\" >41.760000</td>\n",
       "                        <td id=\"T_77d34_row6_col4\" class=\"data row6 col4\" >27.300000</td>\n",
       "                        <td id=\"T_77d34_row6_col5\" class=\"data row6 col5\" >395.550000</td>\n",
       "            </tr>\n",
       "            <tr>\n",
       "                        <th id=\"T_77d34_level0_row7\" class=\"row_heading level0 row7\" >7</th>\n",
       "                        <td id=\"T_77d34_row7_col0\" class=\"data row7 col0\" >2003</td>\n",
       "                        <td id=\"T_77d34_row7_col1\" class=\"data row7 col1\" >194.950000</td>\n",
       "                        <td id=\"T_77d34_row7_col2\" class=\"data row7 col2\" >104.520000</td>\n",
       "                        <td id=\"T_77d34_row7_col3\" class=\"data row7 col3\" >34.200000</td>\n",
       "                        <td id=\"T_77d34_row7_col4\" class=\"data row7 col4\" >26.150000</td>\n",
       "                        <td id=\"T_77d34_row7_col5\" class=\"data row7 col5\" >359.820000</td>\n",
       "            </tr>\n",
       "            <tr>\n",
       "                        <th id=\"T_77d34_level0_row8\" class=\"row_heading level0 row8\" >8</th>\n",
       "                        <td id=\"T_77d34_row8_col0\" class=\"data row8 col0\" >2004</td>\n",
       "                        <td id=\"T_77d34_row8_col1\" class=\"data row8 col1\" >227.360000</td>\n",
       "                        <td id=\"T_77d34_row8_col2\" class=\"data row8 col2\" >109.900000</td>\n",
       "                        <td id=\"T_77d34_row8_col3\" class=\"data row8 col3\" >41.700000</td>\n",
       "                        <td id=\"T_77d34_row8_col4\" class=\"data row8 col4\" >48.460000</td>\n",
       "                        <td id=\"T_77d34_row8_col5\" class=\"data row8 col5\" >427.420000</td>\n",
       "            </tr>\n",
       "            <tr>\n",
       "                        <th id=\"T_77d34_level0_row9\" class=\"row_heading level0 row9\" >9</th>\n",
       "                        <td id=\"T_77d34_row9_col0\" class=\"data row9 col0\" >2005</td>\n",
       "                        <td id=\"T_77d34_row9_col1\" class=\"data row9 col1\" >242.420000</td>\n",
       "                        <td id=\"T_77d34_row9_col2\" class=\"data row9 col2\" >121.260000</td>\n",
       "                        <td id=\"T_77d34_row9_col3\" class=\"data row9 col3\" >54.270000</td>\n",
       "                        <td id=\"T_77d34_row9_col4\" class=\"data row9 col4\" >40.340000</td>\n",
       "                        <td id=\"T_77d34_row9_col5\" class=\"data row9 col5\" >458.290000</td>\n",
       "            </tr>\n",
       "            <tr>\n",
       "                        <th id=\"T_77d34_level0_row10\" class=\"row_heading level0 row10\" >10</th>\n",
       "                        <td id=\"T_77d34_row10_col0\" class=\"data row10 col0\" >2006</td>\n",
       "                        <td id=\"T_77d34_row10_col1\" class=\"data row10 col1\" >263.700000</td>\n",
       "                        <td id=\"T_77d34_row10_col2\" class=\"data row10 col2\" >128.910000</td>\n",
       "                        <td id=\"T_77d34_row10_col3\" class=\"data row10 col3\" >73.780000</td>\n",
       "                        <td id=\"T_77d34_row10_col4\" class=\"data row10 col4\" >54.360000</td>\n",
       "                        <td id=\"T_77d34_row10_col5\" class=\"data row10 col5\" >520.750000</td>\n",
       "            </tr>\n",
       "            <tr>\n",
       "                        <th id=\"T_77d34_level0_row11\" class=\"row_heading level0 row11\" >11</th>\n",
       "                        <td id=\"T_77d34_row11_col0\" class=\"data row11 col0\" >2007</td>\n",
       "                        <td id=\"T_77d34_row11_col1\" class=\"data row11 col1\" >309.890000</td>\n",
       "                        <td id=\"T_77d34_row11_col2\" class=\"data row11 col2\" >157.830000</td>\n",
       "                        <td id=\"T_77d34_row11_col3\" class=\"data row11 col3\" >60.290000</td>\n",
       "                        <td id=\"T_77d34_row11_col4\" class=\"data row11 col4\" >76.750000</td>\n",
       "                        <td id=\"T_77d34_row11_col5\" class=\"data row11 col5\" >604.760000</td>\n",
       "            </tr>\n",
       "            <tr>\n",
       "                        <th id=\"T_77d34_level0_row12\" class=\"row_heading level0 row12\" >12</th>\n",
       "                        <td id=\"T_77d34_row12_col0\" class=\"data row12 col0\" >2008</td>\n",
       "                        <td id=\"T_77d34_row12_col1\" class=\"data row12 col1\" >348.710000</td>\n",
       "                        <td id=\"T_77d34_row12_col2\" class=\"data row12 col2\" >181.140000</td>\n",
       "                        <td id=\"T_77d34_row12_col3\" class=\"data row12 col3\" >60.250000</td>\n",
       "                        <td id=\"T_77d34_row12_col4\" class=\"data row12 col4\" >81.420000</td>\n",
       "                        <td id=\"T_77d34_row12_col5\" class=\"data row12 col5\" >671.520000</td>\n",
       "            </tr>\n",
       "            <tr>\n",
       "                        <th id=\"T_77d34_level0_row13\" class=\"row_heading level0 row13\" >13</th>\n",
       "                        <td id=\"T_77d34_row13_col0\" class=\"data row13 col0\" >2009</td>\n",
       "                        <td id=\"T_77d34_row13_col1\" class=\"data row13 col1\" >335.590000</td>\n",
       "                        <td id=\"T_77d34_row13_col2\" class=\"data row13 col2\" >188.270000</td>\n",
       "                        <td id=\"T_77d34_row13_col3\" class=\"data row13 col3\" >62.150000</td>\n",
       "                        <td id=\"T_77d34_row13_col4\" class=\"data row13 col4\" >73.610000</td>\n",
       "                        <td id=\"T_77d34_row13_col5\" class=\"data row13 col5\" >659.620000</td>\n",
       "            </tr>\n",
       "            <tr>\n",
       "                        <th id=\"T_77d34_level0_row14\" class=\"row_heading level0 row14\" >14</th>\n",
       "                        <td id=\"T_77d34_row14_col0\" class=\"data row14 col0\" >2010</td>\n",
       "                        <td id=\"T_77d34_row14_col1\" class=\"data row14 col1\" >300.650000</td>\n",
       "                        <td id=\"T_77d34_row14_col2\" class=\"data row14 col2\" >171.420000</td>\n",
       "                        <td id=\"T_77d34_row14_col3\" class=\"data row14 col3\" >59.490000</td>\n",
       "                        <td id=\"T_77d34_row14_col4\" class=\"data row14 col4\" >58.570000</td>\n",
       "                        <td id=\"T_77d34_row14_col5\" class=\"data row14 col5\" >590.130000</td>\n",
       "            </tr>\n",
       "            <tr>\n",
       "                        <th id=\"T_77d34_level0_row15\" class=\"row_heading level0 row15\" >15</th>\n",
       "                        <td id=\"T_77d34_row15_col0\" class=\"data row15 col0\" >2011</td>\n",
       "                        <td id=\"T_77d34_row15_col1\" class=\"data row15 col1\" >238.790000</td>\n",
       "                        <td id=\"T_77d34_row15_col2\" class=\"data row15 col2\" >163.010000</td>\n",
       "                        <td id=\"T_77d34_row15_col3\" class=\"data row15 col3\" >53.070000</td>\n",
       "                        <td id=\"T_77d34_row15_col4\" class=\"data row15 col4\" >52.760000</td>\n",
       "                        <td id=\"T_77d34_row15_col5\" class=\"data row15 col5\" >507.630000</td>\n",
       "            </tr>\n",
       "            <tr>\n",
       "                        <th id=\"T_77d34_level0_row16\" class=\"row_heading level0 row16\" >16</th>\n",
       "                        <td id=\"T_77d34_row16_col0\" class=\"data row16 col0\" >2012</td>\n",
       "                        <td id=\"T_77d34_row16_col1\" class=\"data row16 col1\" >153.260000</td>\n",
       "                        <td id=\"T_77d34_row16_col2\" class=\"data row16 col2\" >114.590000</td>\n",
       "                        <td id=\"T_77d34_row16_col3\" class=\"data row16 col3\" >51.800000</td>\n",
       "                        <td id=\"T_77d34_row16_col4\" class=\"data row16 col4\" >36.190000</td>\n",
       "                        <td id=\"T_77d34_row16_col5\" class=\"data row16 col5\" >355.840000</td>\n",
       "            </tr>\n",
       "            <tr>\n",
       "                        <th id=\"T_77d34_level0_row17\" class=\"row_heading level0 row17\" >17</th>\n",
       "                        <td id=\"T_77d34_row17_col0\" class=\"data row17 col0\" >2013</td>\n",
       "                        <td id=\"T_77d34_row17_col1\" class=\"data row17 col1\" >153.710000</td>\n",
       "                        <td id=\"T_77d34_row17_col2\" class=\"data row17 col2\" >121.800000</td>\n",
       "                        <td id=\"T_77d34_row17_col3\" class=\"data row17 col3\" >47.690000</td>\n",
       "                        <td id=\"T_77d34_row17_col4\" class=\"data row17 col4\" >38.390000</td>\n",
       "                        <td id=\"T_77d34_row17_col5\" class=\"data row17 col5\" >361.590000</td>\n",
       "            </tr>\n",
       "            <tr>\n",
       "                        <th id=\"T_77d34_level0_row18\" class=\"row_heading level0 row18\" >18</th>\n",
       "                        <td id=\"T_77d34_row18_col0\" class=\"data row18 col0\" >2014</td>\n",
       "                        <td id=\"T_77d34_row18_col1\" class=\"data row18 col1\" >132.270000</td>\n",
       "                        <td id=\"T_77d34_row18_col2\" class=\"data row18 col2\" >122.740000</td>\n",
       "                        <td id=\"T_77d34_row18_col3\" class=\"data row18 col3\" >39.690000</td>\n",
       "                        <td id=\"T_77d34_row18_col4\" class=\"data row18 col4\" >36.830000</td>\n",
       "                        <td id=\"T_77d34_row18_col5\" class=\"data row18 col5\" >331.530000</td>\n",
       "            </tr>\n",
       "            <tr>\n",
       "                        <th id=\"T_77d34_level0_row19\" class=\"row_heading level0 row19\" >19</th>\n",
       "                        <td id=\"T_77d34_row19_col0\" class=\"data row19 col0\" >2015</td>\n",
       "                        <td id=\"T_77d34_row19_col1\" class=\"data row19 col1\" >106.860000</td>\n",
       "                        <td id=\"T_77d34_row19_col2\" class=\"data row19 col2\" >96.720000</td>\n",
       "                        <td id=\"T_77d34_row19_col3\" class=\"data row19 col3\" >34.090000</td>\n",
       "                        <td id=\"T_77d34_row19_col4\" class=\"data row19 col4\" >30.310000</td>\n",
       "                        <td id=\"T_77d34_row19_col5\" class=\"data row19 col5\" >267.980000</td>\n",
       "            </tr>\n",
       "            <tr>\n",
       "                        <th id=\"T_77d34_level0_row20\" class=\"row_heading level0 row20\" >20</th>\n",
       "                        <td id=\"T_77d34_row20_col0\" class=\"data row20 col0\" >2016</td>\n",
       "                        <td id=\"T_77d34_row20_col1\" class=\"data row20 col1\" >44.930000</td>\n",
       "                        <td id=\"T_77d34_row20_col2\" class=\"data row20 col2\" >51.220000</td>\n",
       "                        <td id=\"T_77d34_row20_col3\" class=\"data row20 col3\" >19.310000</td>\n",
       "                        <td id=\"T_77d34_row20_col4\" class=\"data row20 col4\" >14.480000</td>\n",
       "                        <td id=\"T_77d34_row20_col5\" class=\"data row20 col5\" >129.940000</td>\n",
       "            </tr>\n",
       "    </tbody></table>"
      ],
      "text/plain": [
       "<pandas.io.formats.style.Styler at 0x7fd943238af0>"
      ]
     },
     "execution_count": 15,
     "metadata": {},
     "output_type": "execute_result"
    }
   ],
   "source": [
    "# расчет объема продаж, начиная с 1996 года\n",
    "sales_per_years_from_1995 = (\n",
    "    df[df['year_of_release'] > 1995]\n",
    "    .groupby('year_of_release')\n",
    "    .agg(na_sales_total = ('na_sales', 'sum'),\n",
    "         eu_sales_total = ('eu_sales', 'sum'),\n",
    "         jp_sales_total = ('jp_sales', 'sum'),\n",
    "         other_sales_total = ('other_sales', 'sum'),\n",
    "        world_sales_total = ('sales_total', 'sum'))\n",
    "    .reset_index()\n",
    ")\n",
    "\n",
    "# визуализация расчетов\n",
    "plt.figure(figsize=(15, 6))\n",
    "plt.bar(sales_per_years_from_1995['year_of_release'], sales_per_years_from_1995['na_sales_total'])\n",
    "plt.bar(sales_per_years_from_1995['year_of_release'], sales_per_years_from_1995['eu_sales_total'])\n",
    "plt.bar(sales_per_years_from_1995['year_of_release'], sales_per_years_from_1995['jp_sales_total'])\n",
    "plt.bar(sales_per_years_from_1995['year_of_release'], sales_per_years_from_1995['other_sales_total'])\n",
    "plt.title('Динамика продаж игр, млн. копий', fontsize=15)\n",
    "plt.xlabel('Год выхода в релиз')\n",
    "plt.legend(['Северная Америка', 'Европа', 'Япония', 'Остальной мир'])\n",
    "plt.show()\n",
    "\n",
    "# расчетная таблица\n",
    "(\n",
    "    sales_per_years_from_1995\n",
    "    .style\n",
    "    .background_gradient(cmap='Blues', subset=['na_sales_total',\n",
    "                                               'eu_sales_total',\n",
    "                                               'jp_sales_total',\n",
    "                                               'other_sales_total',\n",
    "                                               'world_sales_total'])\n",
    ")"
   ]
  },
  {
   "cell_type": "markdown",
   "metadata": {},
   "source": [
    "Начина с 1996 года в игровой индустрии наметился рост. Суммарные продажи стартовали с отметки в 199 млн. копий в том числе 86 млн. - Северная Америка, 47 млн. - Европа, 57 млн. - Япония и  7 млн. - прочие регионы. И уже к 2004 году инлустрия удвоила продажи - 427 млн., в том числе 227 млн. -  Северная Америка, 109 млн. - Европа, 41 млн. - Япония, 48 млн. - прочие регионы. \n",
    "\n",
    "Лучшим годом за анализируемый период беспорно явлется 2008 - 671 млн. копий игр реализовано во всем мире. Этот же год топый для северо-американского региона - 348 млн. игр реализовано в этом году и остального мира - 81 млн. В Европе таким годом явлется 2009 - 188 млн, в Японии - 2006 год - 73 млн.\n",
    "\n",
    "Начиная с периода конца десятых годов двадцать первого столетия в игровой индустрии наметился спад - продажи снижаются по всем регионам и концу 2016 года достигают локального минимума в 129 млн., что ниже отправной точки анализа - 1996 года в 199 млн. В Северной Америке продано 45 млн., в Европе 51 млн., в Японии 19 млн., на остальной мир пришлом 14 млн."
   ]
  },
  {
   "cell_type": "markdown",
   "metadata": {},
   "source": [
    "### Продажи игр в разрезе платформ"
   ]
  },
  {
   "cell_type": "code",
   "execution_count": 16,
   "metadata": {},
   "outputs": [
    {
     "data": {
      "text/html": [
       "<style  type=\"text/css\" >\n",
       "#T_718bd_row0_col0{\n",
       "            background-color:  #dce9f6;\n",
       "            color:  #000000;\n",
       "        }#T_718bd_row0_col1,#T_718bd_row13_col0,#T_718bd_row14_col0{\n",
       "            background-color:  #d3e4f3;\n",
       "            color:  #000000;\n",
       "        }#T_718bd_row0_col2{\n",
       "            background-color:  #529dcc;\n",
       "            color:  #000000;\n",
       "        }#T_718bd_row0_col3,#T_718bd_row21_col2{\n",
       "            background-color:  #eaf2fb;\n",
       "            color:  #000000;\n",
       "        }#T_718bd_row0_col4{\n",
       "            background-color:  #cfe1f2;\n",
       "            color:  #000000;\n",
       "        }#T_718bd_row1_col0,#T_718bd_row18_col2{\n",
       "            background-color:  #f5fafe;\n",
       "            color:  #000000;\n",
       "        }#T_718bd_row1_col1,#T_718bd_row22_col2{\n",
       "            background-color:  #f6faff;\n",
       "            color:  #000000;\n",
       "        }#T_718bd_row1_col2,#T_718bd_row15_col4,#T_718bd_row22_col3{\n",
       "            background-color:  #eef5fc;\n",
       "            color:  #000000;\n",
       "        }#T_718bd_row1_col3,#T_718bd_row7_col0,#T_718bd_row7_col1,#T_718bd_row7_col2,#T_718bd_row7_col3,#T_718bd_row7_col4,#T_718bd_row8_col2,#T_718bd_row9_col0,#T_718bd_row9_col1,#T_718bd_row9_col2,#T_718bd_row9_col3,#T_718bd_row9_col4,#T_718bd_row16_col0,#T_718bd_row16_col1,#T_718bd_row16_col3,#T_718bd_row17_col0,#T_718bd_row17_col1,#T_718bd_row17_col3,#T_718bd_row18_col0,#T_718bd_row18_col1,#T_718bd_row18_col3,#T_718bd_row18_col4,#T_718bd_row23_col2{\n",
       "            background-color:  #f7fbff;\n",
       "            color:  #000000;\n",
       "        }#T_718bd_row1_col4,#T_718bd_row16_col4,#T_718bd_row17_col4{\n",
       "            background-color:  #f5f9fe;\n",
       "            color:  #000000;\n",
       "        }#T_718bd_row2_col0{\n",
       "            background-color:  #3e8ec4;\n",
       "            color:  #000000;\n",
       "        }#T_718bd_row2_col1{\n",
       "            background-color:  #57a0ce;\n",
       "            color:  #000000;\n",
       "        }#T_718bd_row2_col2,#T_718bd_row11_col1,#T_718bd_row11_col3,#T_718bd_row11_col4,#T_718bd_row21_col0{\n",
       "            background-color:  #08306b;\n",
       "            color:  #f1f1f1;\n",
       "        }#T_718bd_row2_col3,#T_718bd_row22_col0{\n",
       "            background-color:  #b4d3e9;\n",
       "            color:  #000000;\n",
       "        }#T_718bd_row2_col4{\n",
       "            background-color:  #3d8dc4;\n",
       "            color:  #000000;\n",
       "        }#T_718bd_row3_col0,#T_718bd_row17_col2{\n",
       "            background-color:  #e7f0fa;\n",
       "            color:  #000000;\n",
       "        }#T_718bd_row3_col1,#T_718bd_row13_col2{\n",
       "            background-color:  #e5eff9;\n",
       "            color:  #000000;\n",
       "        }#T_718bd_row3_col2{\n",
       "            background-color:  #bad6eb;\n",
       "            color:  #000000;\n",
       "        }#T_718bd_row3_col3,#T_718bd_row5_col3{\n",
       "            background-color:  #f2f8fd;\n",
       "            color:  #000000;\n",
       "        }#T_718bd_row3_col4{\n",
       "            background-color:  #e2edf8;\n",
       "            color:  #000000;\n",
       "        }#T_718bd_row4_col0{\n",
       "            background-color:  #b3d3e8;\n",
       "            color:  #000000;\n",
       "        }#T_718bd_row4_col1,#T_718bd_row5_col0{\n",
       "            background-color:  #ccdff1;\n",
       "            color:  #000000;\n",
       "        }#T_718bd_row4_col2{\n",
       "            background-color:  #c1d9ed;\n",
       "            color:  #000000;\n",
       "        }#T_718bd_row4_col3{\n",
       "            background-color:  #eff6fc;\n",
       "            color:  #000000;\n",
       "        }#T_718bd_row4_col4,#T_718bd_row13_col3,#T_718bd_row13_col4{\n",
       "            background-color:  #c6dbef;\n",
       "            color:  #000000;\n",
       "        }#T_718bd_row5_col1{\n",
       "            background-color:  #e0ecf8;\n",
       "            color:  #000000;\n",
       "        }#T_718bd_row5_col2,#T_718bd_row6_col1,#T_718bd_row15_col2{\n",
       "            background-color:  #dfebf7;\n",
       "            color:  #000000;\n",
       "        }#T_718bd_row5_col4,#T_718bd_row23_col0{\n",
       "            background-color:  #d8e7f5;\n",
       "            color:  #000000;\n",
       "        }#T_718bd_row6_col0,#T_718bd_row14_col4{\n",
       "            background-color:  #caddf0;\n",
       "            color:  #000000;\n",
       "        }#T_718bd_row6_col2{\n",
       "            background-color:  #d1e2f3;\n",
       "            color:  #000000;\n",
       "        }#T_718bd_row6_col3,#T_718bd_row15_col0{\n",
       "            background-color:  #f3f8fe;\n",
       "            color:  #000000;\n",
       "        }#T_718bd_row6_col4{\n",
       "            background-color:  #d5e5f4;\n",
       "            color:  #000000;\n",
       "        }#T_718bd_row8_col0{\n",
       "            background-color:  #dbe9f6;\n",
       "            color:  #000000;\n",
       "        }#T_718bd_row8_col1{\n",
       "            background-color:  #9ac8e0;\n",
       "            color:  #000000;\n",
       "        }#T_718bd_row8_col3{\n",
       "            background-color:  #e1edf8;\n",
       "            color:  #000000;\n",
       "        }#T_718bd_row8_col4{\n",
       "            background-color:  #d2e3f3;\n",
       "            color:  #000000;\n",
       "        }#T_718bd_row10_col0{\n",
       "            background-color:  #60a7d2;\n",
       "            color:  #000000;\n",
       "        }#T_718bd_row10_col1{\n",
       "            background-color:  #4b98ca;\n",
       "            color:  #000000;\n",
       "        }#T_718bd_row10_col2{\n",
       "            background-color:  #2676b8;\n",
       "            color:  #000000;\n",
       "        }#T_718bd_row10_col3,#T_718bd_row22_col4{\n",
       "            background-color:  #d0e1f2;\n",
       "            color:  #000000;\n",
       "        }#T_718bd_row10_col4{\n",
       "            background-color:  #5ba3d0;\n",
       "            color:  #000000;\n",
       "        }#T_718bd_row11_col0{\n",
       "            background-color:  #083674;\n",
       "            color:  #f1f1f1;\n",
       "        }#T_718bd_row11_col2{\n",
       "            background-color:  #1967ad;\n",
       "            color:  #f1f1f1;\n",
       "        }#T_718bd_row12_col0{\n",
       "            background-color:  #3a8ac2;\n",
       "            color:  #000000;\n",
       "        }#T_718bd_row12_col1{\n",
       "            background-color:  #083776;\n",
       "            color:  #f1f1f1;\n",
       "        }#T_718bd_row12_col2{\n",
       "            background-color:  #7db8da;\n",
       "            color:  #000000;\n",
       "        }#T_718bd_row12_col3{\n",
       "            background-color:  #2e7ebc;\n",
       "            color:  #000000;\n",
       "        }#T_718bd_row12_col4{\n",
       "            background-color:  #2171b5;\n",
       "            color:  #f1f1f1;\n",
       "        }#T_718bd_row13_col1{\n",
       "            background-color:  #8cc0dd;\n",
       "            color:  #000000;\n",
       "        }#T_718bd_row14_col1{\n",
       "            background-color:  #d0e2f2;\n",
       "            color:  #000000;\n",
       "        }#T_718bd_row14_col2{\n",
       "            background-color:  #85bcdc;\n",
       "            color:  #000000;\n",
       "        }#T_718bd_row14_col3{\n",
       "            background-color:  #cde0f1;\n",
       "            color:  #000000;\n",
       "        }#T_718bd_row15_col1{\n",
       "            background-color:  #f0f6fd;\n",
       "            color:  #000000;\n",
       "        }#T_718bd_row15_col3{\n",
       "            background-color:  #f1f7fd;\n",
       "            color:  #000000;\n",
       "        }#T_718bd_row16_col2{\n",
       "            background-color:  #e3eef8;\n",
       "            color:  #000000;\n",
       "        }#T_718bd_row19_col0{\n",
       "            background-color:  #135fa7;\n",
       "            color:  #f1f1f1;\n",
       "        }#T_718bd_row19_col1{\n",
       "            background-color:  #1d6cb1;\n",
       "            color:  #f1f1f1;\n",
       "        }#T_718bd_row19_col2{\n",
       "            background-color:  #99c7e0;\n",
       "            color:  #000000;\n",
       "        }#T_718bd_row19_col3{\n",
       "            background-color:  #92c4de;\n",
       "            color:  #000000;\n",
       "        }#T_718bd_row19_col4{\n",
       "            background-color:  #2b7bba;\n",
       "            color:  #000000;\n",
       "        }#T_718bd_row20_col0,#T_718bd_row20_col4{\n",
       "            background-color:  #eaf3fb;\n",
       "            color:  #000000;\n",
       "        }#T_718bd_row20_col1{\n",
       "            background-color:  #e8f1fa;\n",
       "            color:  #000000;\n",
       "        }#T_718bd_row20_col2,#T_718bd_row23_col3{\n",
       "            background-color:  #e9f2fa;\n",
       "            color:  #000000;\n",
       "        }#T_718bd_row20_col3{\n",
       "            background-color:  #f2f7fd;\n",
       "            color:  #000000;\n",
       "        }#T_718bd_row21_col1{\n",
       "            background-color:  #1865ac;\n",
       "            color:  #f1f1f1;\n",
       "        }#T_718bd_row21_col3{\n",
       "            background-color:  #84bcdb;\n",
       "            color:  #000000;\n",
       "        }#T_718bd_row21_col4{\n",
       "            background-color:  #1c6bb0;\n",
       "            color:  #f1f1f1;\n",
       "        }#T_718bd_row22_col1{\n",
       "            background-color:  #d4e4f4;\n",
       "            color:  #000000;\n",
       "        }#T_718bd_row23_col1{\n",
       "            background-color:  #d9e7f5;\n",
       "            color:  #000000;\n",
       "        }#T_718bd_row23_col4{\n",
       "            background-color:  #deebf7;\n",
       "            color:  #000000;\n",
       "        }</style><table id=\"T_718bd_\" ><thead>    <tr>        <th class=\"blank level0\" ></th>        <th class=\"col_heading level0 col0\" >na_sales_total</th>        <th class=\"col_heading level0 col1\" >eu_sales_total</th>        <th class=\"col_heading level0 col2\" >jp_sales_total</th>        <th class=\"col_heading level0 col3\" >other_sales_total</th>        <th class=\"col_heading level0 col4\" >world_sales_total</th>    </tr>    <tr>        <th class=\"index_name level0\" >platform</th>        <th class=\"blank\" ></th>        <th class=\"blank\" ></th>        <th class=\"blank\" ></th>        <th class=\"blank\" ></th>        <th class=\"blank\" ></th>    </tr></thead><tbody>\n",
       "                <tr>\n",
       "                        <th id=\"T_718bd_level0_row0\" class=\"row_heading level0 row0\" >3DS</th>\n",
       "                        <td id=\"T_718bd_row0_col0\" class=\"data row0 col0\" >82.650000</td>\n",
       "                        <td id=\"T_718bd_row0_col1\" class=\"data row0 col1\" >61.270000</td>\n",
       "                        <td id=\"T_718bd_row0_col2\" class=\"data row0 col2\" >100.620000</td>\n",
       "                        <td id=\"T_718bd_row0_col3\" class=\"data row0 col3\" >13.270000</td>\n",
       "                        <td id=\"T_718bd_row0_col4\" class=\"data row0 col4\" >257.810000</td>\n",
       "            </tr>\n",
       "            <tr>\n",
       "                        <th id=\"T_718bd_level0_row1\" class=\"row_heading level0 row1\" >DC</th>\n",
       "                        <td id=\"T_718bd_row1_col0\" class=\"data row1 col0\" >5.430000</td>\n",
       "                        <td id=\"T_718bd_row1_col1\" class=\"data row1 col1\" >1.690000</td>\n",
       "                        <td id=\"T_718bd_row1_col2\" class=\"data row1 col2\" >8.560000</td>\n",
       "                        <td id=\"T_718bd_row1_col3\" class=\"data row1 col3\" >0.270000</td>\n",
       "                        <td id=\"T_718bd_row1_col4\" class=\"data row1 col4\" >15.950000</td>\n",
       "            </tr>\n",
       "            <tr>\n",
       "                        <th id=\"T_718bd_level0_row2\" class=\"row_heading level0 row2\" >DS</th>\n",
       "                        <td id=\"T_718bd_row2_col0\" class=\"data row2 col0\" >380.320000</td>\n",
       "                        <td id=\"T_718bd_row2_col1\" class=\"data row2 col1\" >188.410000</td>\n",
       "                        <td id=\"T_718bd_row2_col2\" class=\"data row2 col2\" >175.000000</td>\n",
       "                        <td id=\"T_718bd_row2_col3\" class=\"data row2 col3\" >59.040000</td>\n",
       "                        <td id=\"T_718bd_row2_col4\" class=\"data row2 col4\" >802.770000</td>\n",
       "            </tr>\n",
       "            <tr>\n",
       "                        <th id=\"T_718bd_level0_row3\" class=\"row_heading level0 row3\" >GB</th>\n",
       "                        <td id=\"T_718bd_row3_col0\" class=\"data row3 col0\" >49.520000</td>\n",
       "                        <td id=\"T_718bd_row3_col1\" class=\"data row3 col1\" >31.370000</td>\n",
       "                        <td id=\"T_718bd_row3_col2\" class=\"data row3 col2\" >50.480000</td>\n",
       "                        <td id=\"T_718bd_row3_col3\" class=\"data row3 col3\" >4.930000</td>\n",
       "                        <td id=\"T_718bd_row3_col4\" class=\"data row3 col4\" >136.300000</td>\n",
       "            </tr>\n",
       "            <tr>\n",
       "                        <th id=\"T_718bd_level0_row4\" class=\"row_heading level0 row4\" >GBA</th>\n",
       "                        <td id=\"T_718bd_row4_col0\" class=\"data row4 col0\" >184.120000</td>\n",
       "                        <td id=\"T_718bd_row4_col1\" class=\"data row4 col1\" >74.590000</td>\n",
       "                        <td id=\"T_718bd_row4_col2\" class=\"data row4 col2\" >46.560000</td>\n",
       "                        <td id=\"T_718bd_row4_col3\" class=\"data row4 col3\" >7.610000</td>\n",
       "                        <td id=\"T_718bd_row4_col4\" class=\"data row4 col4\" >312.880000</td>\n",
       "            </tr>\n",
       "            <tr>\n",
       "                        <th id=\"T_718bd_level0_row5\" class=\"row_heading level0 row5\" >GC</th>\n",
       "                        <td id=\"T_718bd_row5_col0\" class=\"data row5 col0\" >132.170000</td>\n",
       "                        <td id=\"T_718bd_row5_col1\" class=\"data row5 col1\" >38.380000</td>\n",
       "                        <td id=\"T_718bd_row5_col2\" class=\"data row5 col2\" >21.340000</td>\n",
       "                        <td id=\"T_718bd_row5_col3\" class=\"data row5 col3\" >5.140000</td>\n",
       "                        <td id=\"T_718bd_row5_col4\" class=\"data row5 col4\" >197.030000</td>\n",
       "            </tr>\n",
       "            <tr>\n",
       "                        <th id=\"T_718bd_level0_row6\" class=\"row_heading level0 row6\" >N64</th>\n",
       "                        <td id=\"T_718bd_row6_col0\" class=\"data row6 col0\" >138.910000</td>\n",
       "                        <td id=\"T_718bd_row6_col1\" class=\"data row6 col1\" >41.030000</td>\n",
       "                        <td id=\"T_718bd_row6_col2\" class=\"data row6 col2\" >33.760000</td>\n",
       "                        <td id=\"T_718bd_row6_col3\" class=\"data row6 col3\" >4.310000</td>\n",
       "                        <td id=\"T_718bd_row6_col4\" class=\"data row6 col4\" >218.010000</td>\n",
       "            </tr>\n",
       "            <tr>\n",
       "                        <th id=\"T_718bd_level0_row7\" class=\"row_heading level0 row7\" >NG</th>\n",
       "                        <td id=\"T_718bd_row7_col0\" class=\"data row7 col0\" >0.000000</td>\n",
       "                        <td id=\"T_718bd_row7_col1\" class=\"data row7 col1\" >0.000000</td>\n",
       "                        <td id=\"T_718bd_row7_col2\" class=\"data row7 col2\" >0.100000</td>\n",
       "                        <td id=\"T_718bd_row7_col3\" class=\"data row7 col3\" >0.000000</td>\n",
       "                        <td id=\"T_718bd_row7_col4\" class=\"data row7 col4\" >0.100000</td>\n",
       "            </tr>\n",
       "            <tr>\n",
       "                        <th id=\"T_718bd_level0_row8\" class=\"row_heading level0 row8\" >PC</th>\n",
       "                        <td id=\"T_718bd_row8_col0\" class=\"data row8 col0\" >84.860000</td>\n",
       "                        <td id=\"T_718bd_row8_col1\" class=\"data row8 col1\" >129.790000</td>\n",
       "                        <td id=\"T_718bd_row8_col2\" class=\"data row8 col2\" >0.170000</td>\n",
       "                        <td id=\"T_718bd_row8_col3\" class=\"data row8 col3\" >21.100000</td>\n",
       "                        <td id=\"T_718bd_row8_col4\" class=\"data row8 col4\" >235.920000</td>\n",
       "            </tr>\n",
       "            <tr>\n",
       "                        <th id=\"T_718bd_level0_row9\" class=\"row_heading level0 row9\" >PCFX</th>\n",
       "                        <td id=\"T_718bd_row9_col0\" class=\"data row9 col0\" >0.000000</td>\n",
       "                        <td id=\"T_718bd_row9_col1\" class=\"data row9 col1\" >0.000000</td>\n",
       "                        <td id=\"T_718bd_row9_col2\" class=\"data row9 col2\" >0.030000</td>\n",
       "                        <td id=\"T_718bd_row9_col3\" class=\"data row9 col3\" >0.000000</td>\n",
       "                        <td id=\"T_718bd_row9_col4\" class=\"data row9 col4\" >0.030000</td>\n",
       "            </tr>\n",
       "            <tr>\n",
       "                        <th id=\"T_718bd_level0_row10\" class=\"row_heading level0 row10\" >PS</th>\n",
       "                        <td id=\"T_718bd_row10_col0\" class=\"data row10 col0\" >318.350000</td>\n",
       "                        <td id=\"T_718bd_row10_col1\" class=\"data row10 col1\" >201.340000</td>\n",
       "                        <td id=\"T_718bd_row10_col2\" class=\"data row10 col2\" >127.570000</td>\n",
       "                        <td id=\"T_718bd_row10_col3\" class=\"data row10 col3\" >38.330000</td>\n",
       "                        <td id=\"T_718bd_row10_col4\" class=\"data row10 col4\" >685.590000</td>\n",
       "            </tr>\n",
       "            <tr>\n",
       "                        <th id=\"T_718bd_level0_row11\" class=\"row_heading level0 row11\" >PS2</th>\n",
       "                        <td id=\"T_718bd_row11_col0\" class=\"data row11 col0\" >580.300000</td>\n",
       "                        <td id=\"T_718bd_row11_col1\" class=\"data row11 col1\" >337.000000</td>\n",
       "                        <td id=\"T_718bd_row11_col2\" class=\"data row11 col2\" >137.630000</td>\n",
       "                        <td id=\"T_718bd_row11_col3\" class=\"data row11 col3\" >192.350000</td>\n",
       "                        <td id=\"T_718bd_row11_col4\" class=\"data row11 col4\" >1247.280000</td>\n",
       "            </tr>\n",
       "            <tr>\n",
       "                        <th id=\"T_718bd_level0_row12\" class=\"row_heading level0 row12\" >PS3</th>\n",
       "                        <td id=\"T_718bd_row12_col0\" class=\"data row12 col0\" >390.130000</td>\n",
       "                        <td id=\"T_718bd_row12_col1\" class=\"data row12 col1\" >327.210000</td>\n",
       "                        <td id=\"T_718bd_row12_col2\" class=\"data row12 col2\" >79.410000</td>\n",
       "                        <td id=\"T_718bd_row12_col3\" class=\"data row12 col3\" >134.590000</td>\n",
       "                        <td id=\"T_718bd_row12_col4\" class=\"data row12 col4\" >931.340000</td>\n",
       "            </tr>\n",
       "            <tr>\n",
       "                        <th id=\"T_718bd_level0_row13\" class=\"row_heading level0 row13\" >PS4</th>\n",
       "                        <td id=\"T_718bd_row13_col0\" class=\"data row13 col0\" >108.740000</td>\n",
       "                        <td id=\"T_718bd_row13_col1\" class=\"data row13 col1\" >141.090000</td>\n",
       "                        <td id=\"T_718bd_row13_col2\" class=\"data row13 col2\" >15.960000</td>\n",
       "                        <td id=\"T_718bd_row13_col3\" class=\"data row13 col3\" >48.350000</td>\n",
       "                        <td id=\"T_718bd_row13_col4\" class=\"data row13 col4\" >314.140000</td>\n",
       "            </tr>\n",
       "            <tr>\n",
       "                        <th id=\"T_718bd_level0_row14\" class=\"row_heading level0 row14\" >PSP</th>\n",
       "                        <td id=\"T_718bd_row14_col0\" class=\"data row14 col0\" >107.320000</td>\n",
       "                        <td id=\"T_718bd_row14_col1\" class=\"data row14 col1\" >65.950000</td>\n",
       "                        <td id=\"T_718bd_row14_col2\" class=\"data row14 col2\" >76.140000</td>\n",
       "                        <td id=\"T_718bd_row14_col3\" class=\"data row14 col3\" >40.930000</td>\n",
       "                        <td id=\"T_718bd_row14_col4\" class=\"data row14 col4\" >290.340000</td>\n",
       "            </tr>\n",
       "            <tr>\n",
       "                        <th id=\"T_718bd_level0_row15\" class=\"row_heading level0 row15\" >PSV</th>\n",
       "                        <td id=\"T_718bd_row15_col0\" class=\"data row15 col0\" >12.470000</td>\n",
       "                        <td id=\"T_718bd_row15_col1\" class=\"data row15 col1\" >13.070000</td>\n",
       "                        <td id=\"T_718bd_row15_col2\" class=\"data row15 col2\" >21.840000</td>\n",
       "                        <td id=\"T_718bd_row15_col3\" class=\"data row15 col3\" >6.430000</td>\n",
       "                        <td id=\"T_718bd_row15_col4\" class=\"data row15 col4\" >53.810000</td>\n",
       "            </tr>\n",
       "            <tr>\n",
       "                        <th id=\"T_718bd_level0_row16\" class=\"row_heading level0 row16\" >SAT</th>\n",
       "                        <td id=\"T_718bd_row16_col0\" class=\"data row16 col0\" >0.000000</td>\n",
       "                        <td id=\"T_718bd_row16_col1\" class=\"data row16 col1\" >0.000000</td>\n",
       "                        <td id=\"T_718bd_row16_col2\" class=\"data row16 col2\" >18.370000</td>\n",
       "                        <td id=\"T_718bd_row16_col3\" class=\"data row16 col3\" >0.000000</td>\n",
       "                        <td id=\"T_718bd_row16_col4\" class=\"data row16 col4\" >18.370000</td>\n",
       "            </tr>\n",
       "            <tr>\n",
       "                        <th id=\"T_718bd_level0_row17\" class=\"row_heading level0 row17\" >SNES</th>\n",
       "                        <td id=\"T_718bd_row17_col0\" class=\"data row17 col0\" >2.090000</td>\n",
       "                        <td id=\"T_718bd_row17_col1\" class=\"data row17 col1\" >0.570000</td>\n",
       "                        <td id=\"T_718bd_row17_col2\" class=\"data row17 col2\" >14.590000</td>\n",
       "                        <td id=\"T_718bd_row17_col3\" class=\"data row17 col3\" >0.140000</td>\n",
       "                        <td id=\"T_718bd_row17_col4\" class=\"data row17 col4\" >17.390000</td>\n",
       "            </tr>\n",
       "            <tr>\n",
       "                        <th id=\"T_718bd_level0_row18\" class=\"row_heading level0 row18\" >WS</th>\n",
       "                        <td id=\"T_718bd_row18_col0\" class=\"data row18 col0\" >0.000000</td>\n",
       "                        <td id=\"T_718bd_row18_col1\" class=\"data row18 col1\" >0.000000</td>\n",
       "                        <td id=\"T_718bd_row18_col2\" class=\"data row18 col2\" >1.420000</td>\n",
       "                        <td id=\"T_718bd_row18_col3\" class=\"data row18 col3\" >0.000000</td>\n",
       "                        <td id=\"T_718bd_row18_col4\" class=\"data row18 col4\" >1.420000</td>\n",
       "            </tr>\n",
       "            <tr>\n",
       "                        <th id=\"T_718bd_level0_row19\" class=\"row_heading level0 row19\" >Wii</th>\n",
       "                        <td id=\"T_718bd_row19_col0\" class=\"data row19 col0\" >486.870000</td>\n",
       "                        <td id=\"T_718bd_row19_col1\" class=\"data row19 col1\" >258.320000</td>\n",
       "                        <td id=\"T_718bd_row19_col2\" class=\"data row19 col2\" >68.280000</td>\n",
       "                        <td id=\"T_718bd_row19_col3\" class=\"data row19 col3\" >77.710000</td>\n",
       "                        <td id=\"T_718bd_row19_col4\" class=\"data row19 col4\" >891.180000</td>\n",
       "            </tr>\n",
       "            <tr>\n",
       "                        <th id=\"T_718bd_level0_row20\" class=\"row_heading level0 row20\" >WiiU</th>\n",
       "                        <td id=\"T_718bd_row20_col0\" class=\"data row20 col0\" >38.100000</td>\n",
       "                        <td id=\"T_718bd_row20_col1\" class=\"data row20 col1\" >25.130000</td>\n",
       "                        <td id=\"T_718bd_row20_col2\" class=\"data row20 col2\" >13.010000</td>\n",
       "                        <td id=\"T_718bd_row20_col3\" class=\"data row20 col3\" >5.950000</td>\n",
       "                        <td id=\"T_718bd_row20_col4\" class=\"data row20 col4\" >82.190000</td>\n",
       "            </tr>\n",
       "            <tr>\n",
       "                        <th id=\"T_718bd_level0_row21\" class=\"row_heading level0 row21\" >X360</th>\n",
       "                        <td id=\"T_718bd_row21_col0\" class=\"data row21 col0\" >595.740000</td>\n",
       "                        <td id=\"T_718bd_row21_col1\" class=\"data row21 col1\" >268.370000</td>\n",
       "                        <td id=\"T_718bd_row21_col2\" class=\"data row21 col2\" >12.300000</td>\n",
       "                        <td id=\"T_718bd_row21_col3\" class=\"data row21 col3\" >84.890000</td>\n",
       "                        <td id=\"T_718bd_row21_col4\" class=\"data row21 col4\" >961.300000</td>\n",
       "            </tr>\n",
       "            <tr>\n",
       "                        <th id=\"T_718bd_level0_row22\" class=\"row_heading level0 row22\" >XB</th>\n",
       "                        <td id=\"T_718bd_row22_col0\" class=\"data row22 col0\" >183.010000</td>\n",
       "                        <td id=\"T_718bd_row22_col1\" class=\"data row22 col1\" >59.740000</td>\n",
       "                        <td id=\"T_718bd_row22_col2\" class=\"data row22 col2\" >1.380000</td>\n",
       "                        <td id=\"T_718bd_row22_col3\" class=\"data row22 col3\" >8.530000</td>\n",
       "                        <td id=\"T_718bd_row22_col4\" class=\"data row22 col4\" >252.660000</td>\n",
       "            </tr>\n",
       "            <tr>\n",
       "                        <th id=\"T_718bd_level0_row23\" class=\"row_heading level0 row23\" >XOne</th>\n",
       "                        <td id=\"T_718bd_row23_col0\" class=\"data row23 col0\" >93.120000</td>\n",
       "                        <td id=\"T_718bd_row23_col1\" class=\"data row23 col1\" >51.590000</td>\n",
       "                        <td id=\"T_718bd_row23_col2\" class=\"data row23 col2\" >0.340000</td>\n",
       "                        <td id=\"T_718bd_row23_col3\" class=\"data row23 col3\" >14.270000</td>\n",
       "                        <td id=\"T_718bd_row23_col4\" class=\"data row23 col4\" >159.320000</td>\n",
       "            </tr>\n",
       "    </tbody></table>"
      ],
      "text/plain": [
       "<pandas.io.formats.style.Styler at 0x7fd943354040>"
      ]
     },
     "execution_count": 16,
     "metadata": {},
     "output_type": "execute_result"
    }
   ],
   "source": [
    "# расчет объема продаж по регионам в разрезе платформ\n",
    "(\n",
    "    df[df['year_of_release'] > 1995]\n",
    "    .groupby('platform')\n",
    "    .agg(na_sales_total = ('na_sales', 'sum'),\n",
    "         eu_sales_total = ('eu_sales', 'sum'),\n",
    "         jp_sales_total = ('jp_sales', 'sum'),\n",
    "         other_sales_total = ('other_sales', 'sum'),\n",
    "         world_sales_total = ('sales_total', 'sum'))\n",
    "    .style\n",
    "    .background_gradient(cmap='Blues', subset=['na_sales_total',\n",
    "                                               'eu_sales_total',\n",
    "                                               'jp_sales_total',\n",
    "                                               'other_sales_total',\n",
    "                                               'world_sales_total'])\n",
    ")"
   ]
  },
  {
   "cell_type": "markdown",
   "metadata": {},
   "source": [
    "Итак, наиболее крупные продажи игр за анализируемый актуальный период (с 1996 года включительно) имели место на платформах PS. Так, PS2 - 1247 млн. копий, PS3- 931 млн., PS - 685 млн. Платформы Wii и X360 - к 2016 году суммарно реализовали 891 млн. и 961 млн. копий игр соответсвенно. Платформа DS - 802 млн.\n",
    "\n",
    "Отметим, интерес пользователь к платформе PS имеет общемировой, так, например, по платформе PS2 - продажи распределены практически равномерно по всем регионам: 580 млн. - Севрная Америка, 337 млн. - Европа, 137 млн. - Япония и 192 млн. - прочие регионы. В то время, как, например, к платформам Wii и X360 - интерес смещен к пользоватлеям из Северной Америке, 486 млн. и 595 млн. соответсвенно, а к платформе DS тяготеют пользователи из Японии - 175 млн.\n",
    "\n",
    "Далее расмотрим динамику продаж игр по отмеченным популяным платформам по годам в разрезе регионов."
   ]
  },
  {
   "cell_type": "code",
   "execution_count": 17,
   "metadata": {},
   "outputs": [
    {
     "data": {
      "image/png": "[encoded data removed]",
      "text/plain": [
       "<Figure size 1080x432 with 1 Axes>"
      ]
     },
     "metadata": {
      "needs_background": "light"
     },
     "output_type": "display_data"
    },
    {
     "data": {
      "text/html": [
       "<style  type=\"text/css\" >\n",
       "#T_c619f_row0_col0,#T_c619f_row18_col3{\n",
       "            background-color:  #ddeaf7;\n",
       "            color:  #000000;\n",
       "        }#T_c619f_row0_col1{\n",
       "            background-color:  #dae8f6;\n",
       "            color:  #000000;\n",
       "        }#T_c619f_row0_col2,#T_c619f_row5_col3{\n",
       "            background-color:  #c7dbef;\n",
       "            color:  #000000;\n",
       "        }#T_c619f_row0_col3{\n",
       "            background-color:  #eaf2fb;\n",
       "            color:  #000000;\n",
       "        }#T_c619f_row1_col0,#T_c619f_row17_col2{\n",
       "            background-color:  #d6e5f4;\n",
       "            color:  #000000;\n",
       "        }#T_c619f_row1_col1{\n",
       "            background-color:  #cddff1;\n",
       "            color:  #000000;\n",
       "        }#T_c619f_row1_col2,#T_c619f_row16_col1{\n",
       "            background-color:  #74b3d8;\n",
       "            color:  #000000;\n",
       "        }#T_c619f_row1_col3,#T_c619f_row3_col3{\n",
       "            background-color:  #e3eef9;\n",
       "            color:  #000000;\n",
       "        }#T_c619f_row2_col0{\n",
       "            background-color:  #c7dcef;\n",
       "            color:  #000000;\n",
       "        }#T_c619f_row2_col1{\n",
       "            background-color:  #bad6eb;\n",
       "            color:  #000000;\n",
       "        }#T_c619f_row2_col2{\n",
       "            background-color:  #91c3de;\n",
       "            color:  #000000;\n",
       "        }#T_c619f_row2_col3{\n",
       "            background-color:  #e0ecf8;\n",
       "            color:  #000000;\n",
       "        }#T_c619f_row3_col0{\n",
       "            background-color:  #d1e2f3;\n",
       "            color:  #000000;\n",
       "        }#T_c619f_row3_col1,#T_c619f_row7_col0{\n",
       "            background-color:  #c6dbef;\n",
       "            color:  #000000;\n",
       "        }#T_c619f_row3_col2,#T_c619f_row6_col1,#T_c619f_row9_col3{\n",
       "            background-color:  #92c4de;\n",
       "            color:  #000000;\n",
       "        }#T_c619f_row4_col0,#T_c619f_row18_col1{\n",
       "            background-color:  #d3e4f3;\n",
       "            color:  #000000;\n",
       "        }#T_c619f_row4_col1{\n",
       "            background-color:  #c8dcf0;\n",
       "            color:  #000000;\n",
       "        }#T_c619f_row4_col2,#T_c619f_row6_col2,#T_c619f_row16_col0{\n",
       "            background-color:  #abd0e6;\n",
       "            color:  #000000;\n",
       "        }#T_c619f_row4_col3,#T_c619f_row18_col0{\n",
       "            background-color:  #e1edf8;\n",
       "            color:  #000000;\n",
       "        }#T_c619f_row5_col0{\n",
       "            background-color:  #bdd7ec;\n",
       "            color:  #000000;\n",
       "        }#T_c619f_row5_col1{\n",
       "            background-color:  #95c5df;\n",
       "            color:  #000000;\n",
       "        }#T_c619f_row5_col2{\n",
       "            background-color:  #b4d3e9;\n",
       "            color:  #000000;\n",
       "        }#T_c619f_row6_col0,#T_c619f_row6_col3{\n",
       "            background-color:  #b9d6ea;\n",
       "            color:  #000000;\n",
       "        }#T_c619f_row7_col1,#T_c619f_row8_col1{\n",
       "            background-color:  #9fcae1;\n",
       "            color:  #000000;\n",
       "        }#T_c619f_row7_col2{\n",
       "            background-color:  #c2d9ee;\n",
       "            color:  #000000;\n",
       "        }#T_c619f_row7_col3{\n",
       "            background-color:  #bed8ec;\n",
       "            color:  #000000;\n",
       "        }#T_c619f_row8_col0{\n",
       "            background-color:  #afd1e7;\n",
       "            color:  #000000;\n",
       "        }#T_c619f_row8_col2{\n",
       "            background-color:  #aed1e7;\n",
       "            color:  #000000;\n",
       "        }#T_c619f_row8_col3{\n",
       "            background-color:  #56a0ce;\n",
       "            color:  #000000;\n",
       "        }#T_c619f_row9_col0{\n",
       "            background-color:  #8dc1dd;\n",
       "            color:  #000000;\n",
       "        }#T_c619f_row9_col1{\n",
       "            background-color:  #6caed6;\n",
       "            color:  #000000;\n",
       "        }#T_c619f_row9_col2{\n",
       "            background-color:  #3888c1;\n",
       "            color:  #000000;\n",
       "        }#T_c619f_row10_col0{\n",
       "            background-color:  #3d8dc4;\n",
       "            color:  #000000;\n",
       "        }#T_c619f_row10_col1{\n",
       "            background-color:  #3b8bc2;\n",
       "            color:  #000000;\n",
       "        }#T_c619f_row10_col2,#T_c619f_row12_col0,#T_c619f_row12_col1,#T_c619f_row12_col3,#T_c619f_row13_col1{\n",
       "            background-color:  #08306b;\n",
       "            color:  #f1f1f1;\n",
       "        }#T_c619f_row10_col3{\n",
       "            background-color:  #4d99ca;\n",
       "            color:  #000000;\n",
       "        }#T_c619f_row11_col0{\n",
       "            background-color:  #0d57a1;\n",
       "            color:  #f1f1f1;\n",
       "        }#T_c619f_row11_col1{\n",
       "            background-color:  #115ca5;\n",
       "            color:  #f1f1f1;\n",
       "        }#T_c619f_row11_col2{\n",
       "            background-color:  #1663aa;\n",
       "            color:  #f1f1f1;\n",
       "        }#T_c619f_row11_col3{\n",
       "            background-color:  #08488e;\n",
       "            color:  #f1f1f1;\n",
       "        }#T_c619f_row12_col2{\n",
       "            background-color:  #2474b7;\n",
       "            color:  #f1f1f1;\n",
       "        }#T_c619f_row13_col0{\n",
       "            background-color:  #083b7c;\n",
       "            color:  #f1f1f1;\n",
       "        }#T_c619f_row13_col2{\n",
       "            background-color:  #1966ad;\n",
       "            color:  #f1f1f1;\n",
       "        }#T_c619f_row13_col3{\n",
       "            background-color:  #08519c;\n",
       "            color:  #f1f1f1;\n",
       "        }#T_c619f_row14_col0{\n",
       "            background-color:  #0e58a2;\n",
       "            color:  #f1f1f1;\n",
       "        }#T_c619f_row14_col1{\n",
       "            background-color:  #084184;\n",
       "            color:  #f1f1f1;\n",
       "        }#T_c619f_row14_col2{\n",
       "            background-color:  #4997c9;\n",
       "            color:  #000000;\n",
       "        }#T_c619f_row14_col3{\n",
       "            background-color:  #3080bd;\n",
       "            color:  #000000;\n",
       "        }#T_c619f_row15_col0{\n",
       "            background-color:  #4f9bcb;\n",
       "            color:  #000000;\n",
       "        }#T_c619f_row15_col1{\n",
       "            background-color:  #2272b6;\n",
       "            color:  #f1f1f1;\n",
       "        }#T_c619f_row15_col2{\n",
       "            background-color:  #a0cbe2;\n",
       "            color:  #000000;\n",
       "        }#T_c619f_row15_col3{\n",
       "            background-color:  #5aa2cf;\n",
       "            color:  #000000;\n",
       "        }#T_c619f_row16_col2{\n",
       "            background-color:  #bcd7eb;\n",
       "            color:  #000000;\n",
       "        }#T_c619f_row16_col3{\n",
       "            background-color:  #a5cde3;\n",
       "            color:  #000000;\n",
       "        }#T_c619f_row17_col0{\n",
       "            background-color:  #b8d5ea;\n",
       "            color:  #000000;\n",
       "        }#T_c619f_row17_col1{\n",
       "            background-color:  #82bbdb;\n",
       "            color:  #000000;\n",
       "        }#T_c619f_row17_col3{\n",
       "            background-color:  #a8cee4;\n",
       "            color:  #000000;\n",
       "        }#T_c619f_row18_col2{\n",
       "            background-color:  #e8f1fa;\n",
       "            color:  #000000;\n",
       "        }#T_c619f_row19_col0{\n",
       "            background-color:  #f1f7fd;\n",
       "            color:  #000000;\n",
       "        }#T_c619f_row19_col1{\n",
       "            background-color:  #eef5fc;\n",
       "            color:  #000000;\n",
       "        }#T_c619f_row19_col2,#T_c619f_row19_col3{\n",
       "            background-color:  #f0f6fd;\n",
       "            color:  #000000;\n",
       "        }#T_c619f_row20_col0,#T_c619f_row20_col1,#T_c619f_row20_col2,#T_c619f_row20_col3{\n",
       "            background-color:  #f7fbff;\n",
       "            color:  #000000;\n",
       "        }</style><table id=\"T_c619f_\" ><thead>    <tr>        <th class=\"blank level0\" ></th>        <th class=\"col_heading level0 col0\" >na_sales_total</th>        <th class=\"col_heading level0 col1\" >eu_sales_total</th>        <th class=\"col_heading level0 col2\" >jp_sales_total</th>        <th class=\"col_heading level0 col3\" >other_sales_total</th>    </tr>    <tr>        <th class=\"index_name level0\" >year_of_release</th>        <th class=\"blank\" ></th>        <th class=\"blank\" ></th>        <th class=\"blank\" ></th>        <th class=\"blank\" ></th>    </tr></thead><tbody>\n",
       "                <tr>\n",
       "                        <th id=\"T_c619f_level0_row0\" class=\"row_heading level0 row0\" >1996</th>\n",
       "                        <td id=\"T_c619f_row0_col0\" class=\"data row0 col0\" >45.420000</td>\n",
       "                        <td id=\"T_c619f_row0_col1\" class=\"data row0 col1\" >25.920000</td>\n",
       "                        <td id=\"T_c619f_row0_col2\" class=\"data row0 col2\" >17.820000</td>\n",
       "                        <td id=\"T_c619f_row0_col3\" class=\"data row0 col3\" >5.540000</td>\n",
       "            </tr>\n",
       "            <tr>\n",
       "                        <th id=\"T_c619f_level0_row1\" class=\"row_heading level0 row1\" >1997</th>\n",
       "                        <td id=\"T_c619f_row1_col0\" class=\"data row1 col0\" >58.060000</td>\n",
       "                        <td id=\"T_c619f_row1_col1\" class=\"data row1 col1\" >37.140000</td>\n",
       "                        <td id=\"T_c619f_row1_col2\" class=\"data row1 col2\" >33.100000</td>\n",
       "                        <td id=\"T_c619f_row1_col3\" class=\"data row1 col3\" >7.870000</td>\n",
       "            </tr>\n",
       "            <tr>\n",
       "                        <th id=\"T_c619f_level0_row2\" class=\"row_heading level0 row2\" >1998</th>\n",
       "                        <td id=\"T_c619f_row2_col0\" class=\"data row2 col0\" >83.220000</td>\n",
       "                        <td id=\"T_c619f_row2_col1\" class=\"data row2 col1\" >48.740000</td>\n",
       "                        <td id=\"T_c619f_row2_col2\" class=\"data row2 col2\" >28.480000</td>\n",
       "                        <td id=\"T_c619f_row2_col3\" class=\"data row2 col3\" >9.050000</td>\n",
       "            </tr>\n",
       "            <tr>\n",
       "                        <th id=\"T_c619f_level0_row3\" class=\"row_heading level0 row3\" >1999</th>\n",
       "                        <td id=\"T_c619f_row3_col0\" class=\"data row3 col0\" >65.940000</td>\n",
       "                        <td id=\"T_c619f_row3_col1\" class=\"data row3 col1\" >42.600000</td>\n",
       "                        <td id=\"T_c619f_row3_col2\" class=\"data row3 col2\" >28.070000</td>\n",
       "                        <td id=\"T_c619f_row3_col3\" class=\"data row3 col3\" >7.920000</td>\n",
       "            </tr>\n",
       "            <tr>\n",
       "                        <th id=\"T_c619f_level0_row4\" class=\"row_heading level0 row4\" >2000</th>\n",
       "                        <td id=\"T_c619f_row4_col0\" class=\"data row4 col0\" >62.020000</td>\n",
       "                        <td id=\"T_c619f_row4_col1\" class=\"data row4 col1\" >41.190000</td>\n",
       "                        <td id=\"T_c619f_row4_col2\" class=\"data row4 col2\" >23.470000</td>\n",
       "                        <td id=\"T_c619f_row4_col3\" class=\"data row4 col3\" >8.860000</td>\n",
       "            </tr>\n",
       "            <tr>\n",
       "                        <th id=\"T_c619f_level0_row5\" class=\"row_heading level0 row5\" >2001</th>\n",
       "                        <td id=\"T_c619f_row5_col0\" class=\"data row5 col0\" >95.330000</td>\n",
       "                        <td id=\"T_c619f_row5_col1\" class=\"data row5 col1\" >66.090000</td>\n",
       "                        <td id=\"T_c619f_row5_col2\" class=\"data row5 col2\" >21.650000</td>\n",
       "                        <td id=\"T_c619f_row5_col3\" class=\"data row5 col3\" >18.950000</td>\n",
       "            </tr>\n",
       "            <tr>\n",
       "                        <th id=\"T_c619f_level0_row6\" class=\"row_heading level0 row6\" >2002</th>\n",
       "                        <td id=\"T_c619f_row6_col0\" class=\"data row6 col0\" >99.320000</td>\n",
       "                        <td id=\"T_c619f_row6_col1\" class=\"data row6 col1\" >67.160000</td>\n",
       "                        <td id=\"T_c619f_row6_col2\" class=\"data row6 col2\" >23.490000</td>\n",
       "                        <td id=\"T_c619f_row6_col3\" class=\"data row6 col3\" >22.080000</td>\n",
       "            </tr>\n",
       "            <tr>\n",
       "                        <th id=\"T_c619f_level0_row7\" class=\"row_heading level0 row7\" >2003</th>\n",
       "                        <td id=\"T_c619f_row7_col0\" class=\"data row7 col0\" >85.490000</td>\n",
       "                        <td id=\"T_c619f_row7_col1\" class=\"data row7 col1\" >62.590000</td>\n",
       "                        <td id=\"T_c619f_row7_col2\" class=\"data row7 col2\" >18.880000</td>\n",
       "                        <td id=\"T_c619f_row7_col3\" class=\"data row7 col3\" >21.040000</td>\n",
       "            </tr>\n",
       "            <tr>\n",
       "                        <th id=\"T_c619f_level0_row8\" class=\"row_heading level0 row8\" >2004</th>\n",
       "                        <td id=\"T_c619f_row8_col0\" class=\"data row8 col0\" >109.960000</td>\n",
       "                        <td id=\"T_c619f_row8_col1\" class=\"data row8 col1\" >62.560000</td>\n",
       "                        <td id=\"T_c619f_row8_col2\" class=\"data row8 col2\" >22.870000</td>\n",
       "                        <td id=\"T_c619f_row8_col3\" class=\"data row8 col3\" >42.430000</td>\n",
       "            </tr>\n",
       "            <tr>\n",
       "                        <th id=\"T_c619f_level0_row9\" class=\"row_heading level0 row9\" >2005</th>\n",
       "                        <td id=\"T_c619f_row9_col0\" class=\"data row9 col0\" >140.650000</td>\n",
       "                        <td id=\"T_c619f_row9_col1\" class=\"data row9 col1\" >82.900000</td>\n",
       "                        <td id=\"T_c619f_row9_col2\" class=\"data row9 col2\" >45.190000</td>\n",
       "                        <td id=\"T_c619f_row9_col3\" class=\"data row9 col3\" >30.630000</td>\n",
       "            </tr>\n",
       "            <tr>\n",
       "                        <th id=\"T_c619f_level0_row10\" class=\"row_heading level0 row10\" >2006</th>\n",
       "                        <td id=\"T_c619f_row10_col0\" class=\"data row10 col0\" >216.370000</td>\n",
       "                        <td id=\"T_c619f_row10_col1\" class=\"data row10 col1\" >107.540000</td>\n",
       "                        <td id=\"T_c619f_row10_col2\" class=\"data row10 col2\" >67.670000</td>\n",
       "                        <td id=\"T_c619f_row10_col3\" class=\"data row10 col3\" >44.420000</td>\n",
       "            </tr>\n",
       "            <tr>\n",
       "                        <th id=\"T_c619f_level0_row11\" class=\"row_heading level0 row11\" >2007</th>\n",
       "                        <td id=\"T_c619f_row11_col0\" class=\"data row11 col0\" >285.590000</td>\n",
       "                        <td id=\"T_c619f_row11_col1\" class=\"data row11 col1\" >136.460000</td>\n",
       "                        <td id=\"T_c619f_row11_col2\" class=\"data row11 col2\" >54.490000</td>\n",
       "                        <td id=\"T_c619f_row11_col3\" class=\"data row11 col3\" >67.770000</td>\n",
       "            </tr>\n",
       "            <tr>\n",
       "                        <th id=\"T_c619f_level0_row12\" class=\"row_heading level0 row12\" >2008</th>\n",
       "                        <td id=\"T_c619f_row12_col0\" class=\"data row12 col0\" >336.220000</td>\n",
       "                        <td id=\"T_c619f_row12_col1\" class=\"data row12 col1\" >163.280000</td>\n",
       "                        <td id=\"T_c619f_row12_col2\" class=\"data row12 col2\" >50.140000</td>\n",
       "                        <td id=\"T_c619f_row12_col3\" class=\"data row12 col3\" >74.680000</td>\n",
       "            </tr>\n",
       "            <tr>\n",
       "                        <th id=\"T_c619f_level0_row13\" class=\"row_heading level0 row13\" >2009</th>\n",
       "                        <td id=\"T_c619f_row13_col0\" class=\"data row13 col0\" >321.510000</td>\n",
       "                        <td id=\"T_c619f_row13_col1\" class=\"data row13 col1\" >163.790000</td>\n",
       "                        <td id=\"T_c619f_row13_col2\" class=\"data row13 col2\" >53.700000</td>\n",
       "                        <td id=\"T_c619f_row13_col3\" class=\"data row13 col3\" >65.130000</td>\n",
       "            </tr>\n",
       "            <tr>\n",
       "                        <th id=\"T_c619f_level0_row14\" class=\"row_heading level0 row14\" >2010</th>\n",
       "                        <td id=\"T_c619f_row14_col0\" class=\"data row14 col0\" >284.000000</td>\n",
       "                        <td id=\"T_c619f_row14_col1\" class=\"data row14 col1\" >153.480000</td>\n",
       "                        <td id=\"T_c619f_row14_col2\" class=\"data row14 col2\" >41.330000</td>\n",
       "                        <td id=\"T_c619f_row14_col3\" class=\"data row14 col3\" >52.000000</td>\n",
       "            </tr>\n",
       "            <tr>\n",
       "                        <th id=\"T_c619f_level0_row15\" class=\"row_heading level0 row15\" >2011</th>\n",
       "                        <td id=\"T_c619f_row15_col0\" class=\"data row15 col0\" >197.140000</td>\n",
       "                        <td id=\"T_c619f_row15_col1\" class=\"data row15 col1\" >122.380000</td>\n",
       "                        <td id=\"T_c619f_row15_col2\" class=\"data row15 col2\" >25.870000</td>\n",
       "                        <td id=\"T_c619f_row15_col3\" class=\"data row15 col3\" >41.560000</td>\n",
       "            </tr>\n",
       "            <tr>\n",
       "                        <th id=\"T_c619f_level0_row16\" class=\"row_heading level0 row16\" >2012</th>\n",
       "                        <td id=\"T_c619f_row16_col0\" class=\"data row16 col0\" >113.180000</td>\n",
       "                        <td id=\"T_c619f_row16_col1\" class=\"data row16 col1\" >79.720000</td>\n",
       "                        <td id=\"T_c619f_row16_col2\" class=\"data row16 col2\" >20.060000</td>\n",
       "                        <td id=\"T_c619f_row16_col3\" class=\"data row16 col3\" >26.860000</td>\n",
       "            </tr>\n",
       "            <tr>\n",
       "                        <th id=\"T_c619f_level0_row17\" class=\"row_heading level0 row17\" >2013</th>\n",
       "                        <td id=\"T_c619f_row17_col0\" class=\"data row17 col0\" >99.860000</td>\n",
       "                        <td id=\"T_c619f_row17_col1\" class=\"data row17 col1\" >73.490000</td>\n",
       "                        <td id=\"T_c619f_row17_col2\" class=\"data row17 col2\" >12.610000</td>\n",
       "                        <td id=\"T_c619f_row17_col3\" class=\"data row17 col3\" >26.000000</td>\n",
       "            </tr>\n",
       "            <tr>\n",
       "                        <th id=\"T_c619f_level0_row18\" class=\"row_heading level0 row18\" >2014</th>\n",
       "                        <td id=\"T_c619f_row18_col0\" class=\"data row18 col0\" >38.230000</td>\n",
       "                        <td id=\"T_c619f_row18_col1\" class=\"data row18 col1\" >31.380000</td>\n",
       "                        <td id=\"T_c619f_row18_col2\" class=\"data row18 col2\" >6.330000</td>\n",
       "                        <td id=\"T_c619f_row18_col3\" class=\"data row18 col3\" >10.310000</td>\n",
       "            </tr>\n",
       "            <tr>\n",
       "                        <th id=\"T_c619f_level0_row19\" class=\"row_heading level0 row19\" >2015</th>\n",
       "                        <td id=\"T_c619f_row19_col0\" class=\"data row19 col0\" >12.780000</td>\n",
       "                        <td id=\"T_c619f_row19_col1\" class=\"data row19 col1\" >10.160000</td>\n",
       "                        <td id=\"T_c619f_row19_col2\" class=\"data row19 col2\" >3.670000</td>\n",
       "                        <td id=\"T_c619f_row19_col3\" class=\"data row19 col3\" >3.310000</td>\n",
       "            </tr>\n",
       "            <tr>\n",
       "                        <th id=\"T_c619f_level0_row20\" class=\"row_heading level0 row20\" >2016</th>\n",
       "                        <td id=\"T_c619f_row20_col0\" class=\"data row20 col0\" >1.420000</td>\n",
       "                        <td id=\"T_c619f_row20_col1\" class=\"data row20 col1\" >2.080000</td>\n",
       "                        <td id=\"T_c619f_row20_col2\" class=\"data row20 col2\" >1.300000</td>\n",
       "                        <td id=\"T_c619f_row20_col3\" class=\"data row20 col3\" >0.500000</td>\n",
       "            </tr>\n",
       "    </tbody></table>"
      ],
      "text/plain": [
       "<pandas.io.formats.style.Styler at 0x7fd942ea8e80>"
      ]
     },
     "execution_count": 17,
     "metadata": {},
     "output_type": "execute_result"
    }
   ],
   "source": [
    "# расчет динамики продаж по регионам среди популярных платформ начиная с 1996 года\n",
    "sales_per_year_per_region = (\n",
    "    df.loc[(df['platform'].isin(['DS', 'PS', 'PS2', 'PS3', 'Wii', 'X360'])) &\n",
    "          (df['year_of_release'] > 1995)]\n",
    "    .groupby('year_of_release')\n",
    "    .agg(na_sales_total = ('na_sales', 'sum'),\n",
    "         eu_sales_total = ('eu_sales', 'sum'),\n",
    "         jp_sales_total = ('jp_sales', 'sum'),\n",
    "         other_sales_total = ('other_sales', 'sum'))\n",
    ")\n",
    "\n",
    "# визуализация расчетов\n",
    "plt.figure(figsize=(15, 6))\n",
    "plt.plot(sales_per_year_per_region)\n",
    "plt.title('Динамика продаж игр на популярных платформах в разрезе регионов, начиная с 1996 года, млн. копий', \n",
    "          fontsize=15)\n",
    "plt.xlabel('Год выхода в релиз')\n",
    "plt.legend(['Северная Америка', 'Европа', 'Япония', 'Остальной мир'])\n",
    "plt.show()\n",
    "\n",
    "# расчтеная таблица\n",
    "(\n",
    "    sales_per_year_per_region\n",
    "    .style\n",
    "    .background_gradient(cmap='Blues', subset=['na_sales_total',\n",
    "                                               'eu_sales_total',\n",
    "                                               'jp_sales_total',\n",
    "                                               'other_sales_total'])\n",
    ")"
   ]
  },
  {
   "cell_type": "markdown",
   "metadata": {},
   "source": [
    "Таким образом, динамика продажи игр на выделенных популярных платформах повторяет амплитуду продаж по всем платформам. Так, рост мировых продаж среди выделенных популярных платформ начинается в 1996 года с 5,5 млн. копий, достигает пика в 2008 года - 74 млн. и снижается, приближаясь к нулю в 2016 году.\n",
    "\n",
    "Таким образом, выделенные поппулярные платформы, на рассматриваем анализируемом периоде, являются образующими элементами прода всей игровой индустрии вплодь до 2016 года.\n",
    "\n",
    "Далее расмотрим динамику продаж игр по отмеченным популяным платформам по годам (начиная с 1996 года) в разрезе платформ, - опредлим за какой характерный срок появляются новые и исчезают старые платформы."
   ]
  },
  {
   "cell_type": "code",
   "execution_count": 18,
   "metadata": {},
   "outputs": [
    {
     "data": {
      "image/png": "[encoded data removed]",
      "text/plain": [
       "<Figure size 1080x432 with 1 Axes>"
      ]
     },
     "metadata": {
      "needs_background": "light"
     },
     "output_type": "display_data"
    },
    {
     "data": {
      "text/html": [
       "<style  type=\"text/css\" >\n",
       "#T_729c8_row0_col0,#T_729c8_row0_col2,#T_729c8_row0_col3,#T_729c8_row0_col4,#T_729c8_row0_col5,#T_729c8_row1_col0,#T_729c8_row1_col2,#T_729c8_row1_col3,#T_729c8_row1_col4,#T_729c8_row1_col5,#T_729c8_row2_col0,#T_729c8_row2_col2,#T_729c8_row2_col3,#T_729c8_row2_col4,#T_729c8_row2_col5,#T_729c8_row3_col0,#T_729c8_row3_col2,#T_729c8_row3_col3,#T_729c8_row3_col4,#T_729c8_row3_col5,#T_729c8_row4_col0,#T_729c8_row4_col3,#T_729c8_row4_col4,#T_729c8_row4_col5,#T_729c8_row5_col0,#T_729c8_row5_col3,#T_729c8_row5_col4,#T_729c8_row5_col5,#T_729c8_row6_col0,#T_729c8_row6_col3,#T_729c8_row6_col4,#T_729c8_row6_col5,#T_729c8_row7_col0,#T_729c8_row7_col3,#T_729c8_row7_col4,#T_729c8_row7_col5,#T_729c8_row8_col1,#T_729c8_row8_col3,#T_729c8_row8_col4,#T_729c8_row8_col5,#T_729c8_row9_col1,#T_729c8_row9_col3,#T_729c8_row9_col4,#T_729c8_row10_col1,#T_729c8_row11_col1,#T_729c8_row12_col1,#T_729c8_row13_col1,#T_729c8_row14_col1,#T_729c8_row15_col1,#T_729c8_row15_col2,#T_729c8_row16_col1,#T_729c8_row16_col2,#T_729c8_row17_col1,#T_729c8_row17_col2,#T_729c8_row18_col0,#T_729c8_row18_col1,#T_729c8_row18_col2,#T_729c8_row19_col0,#T_729c8_row19_col1,#T_729c8_row19_col2,#T_729c8_row20_col0,#T_729c8_row20_col1,#T_729c8_row20_col2,#T_729c8_row20_col4{\n",
       "            background-color:  #f7fbff;\n",
       "            color:  #000000;\n",
       "        }#T_729c8_row0_col1,#T_729c8_row11_col5{\n",
       "            background-color:  #57a0ce;\n",
       "            color:  #000000;\n",
       "        }#T_729c8_row1_col1{\n",
       "            background-color:  #1663aa;\n",
       "            color:  #f1f1f1;\n",
       "        }#T_729c8_row2_col1,#T_729c8_row8_col2,#T_729c8_row11_col0,#T_729c8_row13_col4,#T_729c8_row14_col5,#T_729c8_row15_col3{\n",
       "            background-color:  #08306b;\n",
       "            color:  #f1f1f1;\n",
       "        }#T_729c8_row3_col1{\n",
       "            background-color:  #0c56a0;\n",
       "            color:  #f1f1f1;\n",
       "        }#T_729c8_row4_col1{\n",
       "            background-color:  #549fcd;\n",
       "            color:  #000000;\n",
       "        }#T_729c8_row4_col2,#T_729c8_row15_col0{\n",
       "            background-color:  #d4e4f4;\n",
       "            color:  #000000;\n",
       "        }#T_729c8_row5_col1{\n",
       "            background-color:  #cee0f2;\n",
       "            color:  #000000;\n",
       "        }#T_729c8_row5_col2,#T_729c8_row12_col3{\n",
       "            background-color:  #206fb4;\n",
       "            color:  #f1f1f1;\n",
       "        }#T_729c8_row6_col1,#T_729c8_row17_col4{\n",
       "            background-color:  #eff6fc;\n",
       "            color:  #000000;\n",
       "        }#T_729c8_row6_col2{\n",
       "            background-color:  #084285;\n",
       "            color:  #f1f1f1;\n",
       "        }#T_729c8_row7_col1{\n",
       "            background-color:  #f5f9fe;\n",
       "            color:  #000000;\n",
       "        }#T_729c8_row7_col2{\n",
       "            background-color:  #0e59a2;\n",
       "            color:  #f1f1f1;\n",
       "        }#T_729c8_row8_col0,#T_729c8_row13_col2{\n",
       "            background-color:  #dfecf7;\n",
       "            color:  #000000;\n",
       "        }#T_729c8_row9_col0{\n",
       "            background-color:  #084e98;\n",
       "            color:  #f1f1f1;\n",
       "        }#T_729c8_row9_col2{\n",
       "            background-color:  #2676b8;\n",
       "            color:  #000000;\n",
       "        }#T_729c8_row9_col5{\n",
       "            background-color:  #eef5fc;\n",
       "            color:  #000000;\n",
       "        }#T_729c8_row10_col0,#T_729c8_row13_col0{\n",
       "            background-color:  #1460a8;\n",
       "            color:  #f1f1f1;\n",
       "        }#T_729c8_row10_col2{\n",
       "            background-color:  #72b2d8;\n",
       "            color:  #000000;\n",
       "        }#T_729c8_row10_col3{\n",
       "            background-color:  #dceaf6;\n",
       "            color:  #000000;\n",
       "        }#T_729c8_row10_col4{\n",
       "            background-color:  #3888c1;\n",
       "            color:  #000000;\n",
       "        }#T_729c8_row10_col5,#T_729c8_row18_col3{\n",
       "            background-color:  #b5d4e9;\n",
       "            color:  #000000;\n",
       "        }#T_729c8_row11_col2{\n",
       "            background-color:  #a8cee4;\n",
       "            color:  #000000;\n",
       "        }#T_729c8_row11_col3{\n",
       "            background-color:  #79b5d9;\n",
       "            color:  #000000;\n",
       "        }#T_729c8_row11_col4{\n",
       "            background-color:  #2474b7;\n",
       "            color:  #f1f1f1;\n",
       "        }#T_729c8_row12_col0{\n",
       "            background-color:  #08326e;\n",
       "            color:  #f1f1f1;\n",
       "        }#T_729c8_row12_col2{\n",
       "            background-color:  #c7dcef;\n",
       "            color:  #000000;\n",
       "        }#T_729c8_row12_col4{\n",
       "            background-color:  #125da6;\n",
       "            color:  #f1f1f1;\n",
       "        }#T_729c8_row12_col5{\n",
       "            background-color:  #1865ac;\n",
       "            color:  #f1f1f1;\n",
       "        }#T_729c8_row13_col3{\n",
       "            background-color:  #105ba4;\n",
       "            color:  #f1f1f1;\n",
       "        }#T_729c8_row13_col5{\n",
       "            background-color:  #2c7cba;\n",
       "            color:  #000000;\n",
       "        }#T_729c8_row14_col0{\n",
       "            background-color:  #519ccc;\n",
       "            color:  #000000;\n",
       "        }#T_729c8_row14_col2{\n",
       "            background-color:  #f2f8fd;\n",
       "            color:  #000000;\n",
       "        }#T_729c8_row14_col3{\n",
       "            background-color:  #08488e;\n",
       "            color:  #f1f1f1;\n",
       "        }#T_729c8_row14_col4{\n",
       "            background-color:  #4493c7;\n",
       "            color:  #000000;\n",
       "        }#T_729c8_row15_col4{\n",
       "            background-color:  #bad6eb;\n",
       "            color:  #000000;\n",
       "        }#T_729c8_row15_col5{\n",
       "            background-color:  #0e58a2;\n",
       "            color:  #f1f1f1;\n",
       "        }#T_729c8_row16_col0{\n",
       "            background-color:  #e8f1fa;\n",
       "            color:  #000000;\n",
       "        }#T_729c8_row16_col3{\n",
       "            background-color:  #3282be;\n",
       "            color:  #000000;\n",
       "        }#T_729c8_row16_col4{\n",
       "            background-color:  #e3eef8;\n",
       "            color:  #000000;\n",
       "        }#T_729c8_row16_col5{\n",
       "            background-color:  #4e9acb;\n",
       "            color:  #000000;\n",
       "        }#T_729c8_row17_col0,#T_729c8_row20_col5{\n",
       "            background-color:  #f5fafe;\n",
       "            color:  #000000;\n",
       "        }#T_729c8_row17_col3{\n",
       "            background-color:  #2979b9;\n",
       "            color:  #000000;\n",
       "        }#T_729c8_row17_col5{\n",
       "            background-color:  #64a9d3;\n",
       "            color:  #000000;\n",
       "        }#T_729c8_row18_col4{\n",
       "            background-color:  #f4f9fe;\n",
       "            color:  #000000;\n",
       "        }#T_729c8_row18_col5{\n",
       "            background-color:  #cfe1f2;\n",
       "            color:  #000000;\n",
       "        }#T_729c8_row19_col3{\n",
       "            background-color:  #e2edf8;\n",
       "            color:  #000000;\n",
       "        }#T_729c8_row19_col4{\n",
       "            background-color:  #f6faff;\n",
       "            color:  #000000;\n",
       "        }#T_729c8_row19_col5{\n",
       "            background-color:  #e9f2fa;\n",
       "            color:  #000000;\n",
       "        }#T_729c8_row20_col3{\n",
       "            background-color:  #f3f8fe;\n",
       "            color:  #000000;\n",
       "        }</style><table id=\"T_729c8_\" ><thead>    <tr>        <th class=\"index_name level0\" >platform</th>        <th class=\"col_heading level0 col0\" >DS</th>        <th class=\"col_heading level0 col1\" >PS</th>        <th class=\"col_heading level0 col2\" >PS2</th>        <th class=\"col_heading level0 col3\" >PS3</th>        <th class=\"col_heading level0 col4\" >Wii</th>        <th class=\"col_heading level0 col5\" >X360</th>    </tr>    <tr>        <th class=\"index_name level0\" >year_of_release</th>        <th class=\"blank\" ></th>        <th class=\"blank\" ></th>        <th class=\"blank\" ></th>        <th class=\"blank\" ></th>        <th class=\"blank\" ></th>        <th class=\"blank\" ></th>    </tr></thead><tbody>\n",
       "                <tr>\n",
       "                        <th id=\"T_729c8_level0_row0\" class=\"row_heading level0 row0\" >1996</th>\n",
       "                        <td id=\"T_729c8_row0_col0\" class=\"data row0 col0\" >0.000000</td>\n",
       "                        <td id=\"T_729c8_row0_col1\" class=\"data row0 col1\" >94.700000</td>\n",
       "                        <td id=\"T_729c8_row0_col2\" class=\"data row0 col2\" >0.000000</td>\n",
       "                        <td id=\"T_729c8_row0_col3\" class=\"data row0 col3\" >0.000000</td>\n",
       "                        <td id=\"T_729c8_row0_col4\" class=\"data row0 col4\" >0.000000</td>\n",
       "                        <td id=\"T_729c8_row0_col5\" class=\"data row0 col5\" >0.000000</td>\n",
       "            </tr>\n",
       "            <tr>\n",
       "                        <th id=\"T_729c8_level0_row1\" class=\"row_heading level0 row1\" >1997</th>\n",
       "                        <td id=\"T_729c8_row1_col0\" class=\"data row1 col0\" >0.000000</td>\n",
       "                        <td id=\"T_729c8_row1_col1\" class=\"data row1 col1\" >136.170000</td>\n",
       "                        <td id=\"T_729c8_row1_col2\" class=\"data row1 col2\" >0.000000</td>\n",
       "                        <td id=\"T_729c8_row1_col3\" class=\"data row1 col3\" >0.000000</td>\n",
       "                        <td id=\"T_729c8_row1_col4\" class=\"data row1 col4\" >0.000000</td>\n",
       "                        <td id=\"T_729c8_row1_col5\" class=\"data row1 col5\" >0.000000</td>\n",
       "            </tr>\n",
       "            <tr>\n",
       "                        <th id=\"T_729c8_level0_row2\" class=\"row_heading level0 row2\" >1998</th>\n",
       "                        <td id=\"T_729c8_row2_col0\" class=\"data row2 col0\" >0.000000</td>\n",
       "                        <td id=\"T_729c8_row2_col1\" class=\"data row2 col1\" >169.490000</td>\n",
       "                        <td id=\"T_729c8_row2_col2\" class=\"data row2 col2\" >0.000000</td>\n",
       "                        <td id=\"T_729c8_row2_col3\" class=\"data row2 col3\" >0.000000</td>\n",
       "                        <td id=\"T_729c8_row2_col4\" class=\"data row2 col4\" >0.000000</td>\n",
       "                        <td id=\"T_729c8_row2_col5\" class=\"data row2 col5\" >0.000000</td>\n",
       "            </tr>\n",
       "            <tr>\n",
       "                        <th id=\"T_729c8_level0_row3\" class=\"row_heading level0 row3\" >1999</th>\n",
       "                        <td id=\"T_729c8_row3_col0\" class=\"data row3 col0\" >0.000000</td>\n",
       "                        <td id=\"T_729c8_row3_col1\" class=\"data row3 col1\" >144.530000</td>\n",
       "                        <td id=\"T_729c8_row3_col2\" class=\"data row3 col2\" >0.000000</td>\n",
       "                        <td id=\"T_729c8_row3_col3\" class=\"data row3 col3\" >0.000000</td>\n",
       "                        <td id=\"T_729c8_row3_col4\" class=\"data row3 col4\" >0.000000</td>\n",
       "                        <td id=\"T_729c8_row3_col5\" class=\"data row3 col5\" >0.000000</td>\n",
       "            </tr>\n",
       "            <tr>\n",
       "                        <th id=\"T_729c8_level0_row4\" class=\"row_heading level0 row4\" >2000</th>\n",
       "                        <td id=\"T_729c8_row4_col0\" class=\"data row4 col0\" >0.000000</td>\n",
       "                        <td id=\"T_729c8_row4_col1\" class=\"data row4 col1\" >96.370000</td>\n",
       "                        <td id=\"T_729c8_row4_col2\" class=\"data row4 col2\" >39.170000</td>\n",
       "                        <td id=\"T_729c8_row4_col3\" class=\"data row4 col3\" >0.000000</td>\n",
       "                        <td id=\"T_729c8_row4_col4\" class=\"data row4 col4\" >0.000000</td>\n",
       "                        <td id=\"T_729c8_row4_col5\" class=\"data row4 col5\" >0.000000</td>\n",
       "            </tr>\n",
       "            <tr>\n",
       "                        <th id=\"T_729c8_level0_row5\" class=\"row_heading level0 row5\" >2001</th>\n",
       "                        <td id=\"T_729c8_row5_col0\" class=\"data row5 col0\" >0.000000</td>\n",
       "                        <td id=\"T_729c8_row5_col1\" class=\"data row5 col1\" >35.590000</td>\n",
       "                        <td id=\"T_729c8_row5_col2\" class=\"data row5 col2\" >166.430000</td>\n",
       "                        <td id=\"T_729c8_row5_col3\" class=\"data row5 col3\" >0.000000</td>\n",
       "                        <td id=\"T_729c8_row5_col4\" class=\"data row5 col4\" >0.000000</td>\n",
       "                        <td id=\"T_729c8_row5_col5\" class=\"data row5 col5\" >0.000000</td>\n",
       "            </tr>\n",
       "            <tr>\n",
       "                        <th id=\"T_729c8_level0_row6\" class=\"row_heading level0 row6\" >2002</th>\n",
       "                        <td id=\"T_729c8_row6_col0\" class=\"data row6 col0\" >0.000000</td>\n",
       "                        <td id=\"T_729c8_row6_col1\" class=\"data row6 col1\" >6.670000</td>\n",
       "                        <td id=\"T_729c8_row6_col2\" class=\"data row6 col2\" >205.380000</td>\n",
       "                        <td id=\"T_729c8_row6_col3\" class=\"data row6 col3\" >0.000000</td>\n",
       "                        <td id=\"T_729c8_row6_col4\" class=\"data row6 col4\" >0.000000</td>\n",
       "                        <td id=\"T_729c8_row6_col5\" class=\"data row6 col5\" >0.000000</td>\n",
       "            </tr>\n",
       "            <tr>\n",
       "                        <th id=\"T_729c8_level0_row7\" class=\"row_heading level0 row7\" >2003</th>\n",
       "                        <td id=\"T_729c8_row7_col0\" class=\"data row7 col0\" >0.000000</td>\n",
       "                        <td id=\"T_729c8_row7_col1\" class=\"data row7 col1\" >2.070000</td>\n",
       "                        <td id=\"T_729c8_row7_col2\" class=\"data row7 col2\" >185.930000</td>\n",
       "                        <td id=\"T_729c8_row7_col3\" class=\"data row7 col3\" >0.000000</td>\n",
       "                        <td id=\"T_729c8_row7_col4\" class=\"data row7 col4\" >0.000000</td>\n",
       "                        <td id=\"T_729c8_row7_col5\" class=\"data row7 col5\" >0.000000</td>\n",
       "            </tr>\n",
       "            <tr>\n",
       "                        <th id=\"T_729c8_level0_row8\" class=\"row_heading level0 row8\" >2004</th>\n",
       "                        <td id=\"T_729c8_row8_col0\" class=\"data row8 col0\" >17.270000</td>\n",
       "                        <td id=\"T_729c8_row8_col1\" class=\"data row8 col1\" >0.000000</td>\n",
       "                        <td id=\"T_729c8_row8_col2\" class=\"data row8 col2\" >220.550000</td>\n",
       "                        <td id=\"T_729c8_row8_col3\" class=\"data row8 col3\" >0.000000</td>\n",
       "                        <td id=\"T_729c8_row8_col4\" class=\"data row8 col4\" >0.000000</td>\n",
       "                        <td id=\"T_729c8_row8_col5\" class=\"data row8 col5\" >0.000000</td>\n",
       "            </tr>\n",
       "            <tr>\n",
       "                        <th id=\"T_729c8_level0_row9\" class=\"row_heading level0 row9\" >2005</th>\n",
       "                        <td id=\"T_729c8_row9_col0\" class=\"data row9 col0\" >130.140000</td>\n",
       "                        <td id=\"T_729c8_row9_col1\" class=\"data row9 col1\" >0.000000</td>\n",
       "                        <td id=\"T_729c8_row9_col2\" class=\"data row9 col2\" >160.980000</td>\n",
       "                        <td id=\"T_729c8_row9_col3\" class=\"data row9 col3\" >0.000000</td>\n",
       "                        <td id=\"T_729c8_row9_col4\" class=\"data row9 col4\" >0.000000</td>\n",
       "                        <td id=\"T_729c8_row9_col5\" class=\"data row9 col5\" >8.250000</td>\n",
       "            </tr>\n",
       "            <tr>\n",
       "                        <th id=\"T_729c8_level0_row10\" class=\"row_heading level0 row10\" >2006</th>\n",
       "                        <td id=\"T_729c8_row10_col0\" class=\"data row10 col0\" >119.810000</td>\n",
       "                        <td id=\"T_729c8_row10_col1\" class=\"data row10 col1\" >0.000000</td>\n",
       "                        <td id=\"T_729c8_row10_col2\" class=\"data row10 col2\" >106.460000</td>\n",
       "                        <td id=\"T_729c8_row10_col3\" class=\"data row10 col3\" >20.960000</td>\n",
       "                        <td id=\"T_729c8_row10_col4\" class=\"data row10 col4\" >137.150000</td>\n",
       "                        <td id=\"T_729c8_row10_col5\" class=\"data row10 col5\" >51.620000</td>\n",
       "            </tr>\n",
       "            <tr>\n",
       "                        <th id=\"T_729c8_level0_row11\" class=\"row_heading level0 row11\" >2007</th>\n",
       "                        <td id=\"T_729c8_row11_col0\" class=\"data row11 col0\" >146.940000</td>\n",
       "                        <td id=\"T_729c8_row11_col1\" class=\"data row11 col1\" >0.000000</td>\n",
       "                        <td id=\"T_729c8_row11_col2\" class=\"data row11 col2\" >75.990000</td>\n",
       "                        <td id=\"T_729c8_row11_col3\" class=\"data row11 col3\" >73.190000</td>\n",
       "                        <td id=\"T_729c8_row11_col4\" class=\"data row11 col4\" >152.770000</td>\n",
       "                        <td id=\"T_729c8_row11_col5\" class=\"data row11 col5\" >95.420000</td>\n",
       "            </tr>\n",
       "            <tr>\n",
       "                        <th id=\"T_729c8_level0_row12\" class=\"row_heading level0 row12\" >2008</th>\n",
       "                        <td id=\"T_729c8_row12_col0\" class=\"data row12 col0\" >145.320000</td>\n",
       "                        <td id=\"T_729c8_row12_col1\" class=\"data row12 col1\" >0.000000</td>\n",
       "                        <td id=\"T_729c8_row12_col2\" class=\"data row12 col2\" >53.900000</td>\n",
       "                        <td id=\"T_729c8_row12_col3\" class=\"data row12 col3\" >118.520000</td>\n",
       "                        <td id=\"T_729c8_row12_col4\" class=\"data row12 col4\" >171.320000</td>\n",
       "                        <td id=\"T_729c8_row12_col5\" class=\"data row12 col5\" >135.260000</td>\n",
       "            </tr>\n",
       "            <tr>\n",
       "                        <th id=\"T_729c8_level0_row13\" class=\"row_heading level0 row13\" >2009</th>\n",
       "                        <td id=\"T_729c8_row13_col0\" class=\"data row13 col0\" >119.540000</td>\n",
       "                        <td id=\"T_729c8_row13_col1\" class=\"data row13 col1\" >0.000000</td>\n",
       "                        <td id=\"T_729c8_row13_col2\" class=\"data row13 col2\" >26.400000</td>\n",
       "                        <td id=\"T_729c8_row13_col3\" class=\"data row13 col3\" >130.930000</td>\n",
       "                        <td id=\"T_729c8_row13_col4\" class=\"data row13 col4\" >206.970000</td>\n",
       "                        <td id=\"T_729c8_row13_col5\" class=\"data row13 col5\" >120.290000</td>\n",
       "            </tr>\n",
       "            <tr>\n",
       "                        <th id=\"T_729c8_level0_row14\" class=\"row_heading level0 row14\" >2010</th>\n",
       "                        <td id=\"T_729c8_row14_col0\" class=\"data row14 col0\" >85.020000</td>\n",
       "                        <td id=\"T_729c8_row14_col1\" class=\"data row14 col1\" >0.000000</td>\n",
       "                        <td id=\"T_729c8_row14_col2\" class=\"data row14 col2\" >5.640000</td>\n",
       "                        <td id=\"T_729c8_row14_col3\" class=\"data row14 col3\" >142.170000</td>\n",
       "                        <td id=\"T_729c8_row14_col4\" class=\"data row14 col4\" >127.950000</td>\n",
       "                        <td id=\"T_729c8_row14_col5\" class=\"data row14 col5\" >170.030000</td>\n",
       "            </tr>\n",
       "            <tr>\n",
       "                        <th id=\"T_729c8_level0_row15\" class=\"row_heading level0 row15\" >2011</th>\n",
       "                        <td id=\"T_729c8_row15_col0\" class=\"data row15 col0\" >26.180000</td>\n",
       "                        <td id=\"T_729c8_row15_col1\" class=\"data row15 col1\" >0.000000</td>\n",
       "                        <td id=\"T_729c8_row15_col2\" class=\"data row15 col2\" >0.450000</td>\n",
       "                        <td id=\"T_729c8_row15_col3\" class=\"data row15 col3\" >156.780000</td>\n",
       "                        <td id=\"T_729c8_row15_col4\" class=\"data row15 col4\" >59.650000</td>\n",
       "                        <td id=\"T_729c8_row15_col5\" class=\"data row15 col5\" >143.890000</td>\n",
       "            </tr>\n",
       "            <tr>\n",
       "                        <th id=\"T_729c8_level0_row16\" class=\"row_heading level0 row16\" >2012</th>\n",
       "                        <td id=\"T_729c8_row16_col0\" class=\"data row16 col0\" >11.010000</td>\n",
       "                        <td id=\"T_729c8_row16_col1\" class=\"data row16 col1\" >0.000000</td>\n",
       "                        <td id=\"T_729c8_row16_col2\" class=\"data row16 col2\" >0.000000</td>\n",
       "                        <td id=\"T_729c8_row16_col3\" class=\"data row16 col3\" >107.360000</td>\n",
       "                        <td id=\"T_729c8_row16_col4\" class=\"data row16 col4\" >21.710000</td>\n",
       "                        <td id=\"T_729c8_row16_col5\" class=\"data row16 col5\" >99.740000</td>\n",
       "            </tr>\n",
       "            <tr>\n",
       "                        <th id=\"T_729c8_level0_row17\" class=\"row_heading level0 row17\" >2013</th>\n",
       "                        <td id=\"T_729c8_row17_col0\" class=\"data row17 col0\" >1.540000</td>\n",
       "                        <td id=\"T_729c8_row17_col1\" class=\"data row17 col1\" >0.000000</td>\n",
       "                        <td id=\"T_729c8_row17_col2\" class=\"data row17 col2\" >0.000000</td>\n",
       "                        <td id=\"T_729c8_row17_col3\" class=\"data row17 col3\" >113.250000</td>\n",
       "                        <td id=\"T_729c8_row17_col4\" class=\"data row17 col4\" >8.590000</td>\n",
       "                        <td id=\"T_729c8_row17_col5\" class=\"data row17 col5\" >88.580000</td>\n",
       "            </tr>\n",
       "            <tr>\n",
       "                        <th id=\"T_729c8_level0_row18\" class=\"row_heading level0 row18\" >2014</th>\n",
       "                        <td id=\"T_729c8_row18_col0\" class=\"data row18 col0\" >0.000000</td>\n",
       "                        <td id=\"T_729c8_row18_col1\" class=\"data row18 col1\" >0.000000</td>\n",
       "                        <td id=\"T_729c8_row18_col2\" class=\"data row18 col2\" >0.000000</td>\n",
       "                        <td id=\"T_729c8_row18_col3\" class=\"data row18 col3\" >47.760000</td>\n",
       "                        <td id=\"T_729c8_row18_col4\" class=\"data row18 col4\" >3.750000</td>\n",
       "                        <td id=\"T_729c8_row18_col5\" class=\"data row18 col5\" >34.740000</td>\n",
       "            </tr>\n",
       "            <tr>\n",
       "                        <th id=\"T_729c8_level0_row19\" class=\"row_heading level0 row19\" >2015</th>\n",
       "                        <td id=\"T_729c8_row19_col0\" class=\"data row19 col0\" >0.000000</td>\n",
       "                        <td id=\"T_729c8_row19_col1\" class=\"data row19 col1\" >0.000000</td>\n",
       "                        <td id=\"T_729c8_row19_col2\" class=\"data row19 col2\" >0.000000</td>\n",
       "                        <td id=\"T_729c8_row19_col3\" class=\"data row19 col3\" >16.820000</td>\n",
       "                        <td id=\"T_729c8_row19_col4\" class=\"data row19 col4\" >1.140000</td>\n",
       "                        <td id=\"T_729c8_row19_col5\" class=\"data row19 col5\" >11.960000</td>\n",
       "            </tr>\n",
       "            <tr>\n",
       "                        <th id=\"T_729c8_level0_row20\" class=\"row_heading level0 row20\" >2016</th>\n",
       "                        <td id=\"T_729c8_row20_col0\" class=\"data row20 col0\" >0.000000</td>\n",
       "                        <td id=\"T_729c8_row20_col1\" class=\"data row20 col1\" >0.000000</td>\n",
       "                        <td id=\"T_729c8_row20_col2\" class=\"data row20 col2\" >0.000000</td>\n",
       "                        <td id=\"T_729c8_row20_col3\" class=\"data row20 col3\" >3.600000</td>\n",
       "                        <td id=\"T_729c8_row20_col4\" class=\"data row20 col4\" >0.180000</td>\n",
       "                        <td id=\"T_729c8_row20_col5\" class=\"data row20 col5\" >1.520000</td>\n",
       "            </tr>\n",
       "    </tbody></table>"
      ],
      "text/plain": [
       "<pandas.io.formats.style.Styler at 0x7fd942d71c70>"
      ]
     },
     "execution_count": 18,
     "metadata": {},
     "output_type": "execute_result"
    }
   ],
   "source": [
    "# расчет динамики суммарных мировых продаж по популярным платформам, начиная с 1996 года\n",
    "sales_per_year_per_platform = (\n",
    "    df.loc[(df['platform'].isin(['DS', 'PS', 'PS2', 'PS3', 'Wii', 'X360'])) &\n",
    "          (df['year_of_release'] > 1995)]\n",
    "    .pivot_table(index='year_of_release', columns='platform', values='sales_total', aggfunc='sum')\n",
    "    .fillna(0)\n",
    ")\n",
    "\n",
    "# визуализация расчетов\n",
    "plt.figure(figsize=(15, 6))\n",
    "plt.plot(sales_per_year_per_platform)\n",
    "plt.title('Динамика продаж игр на популярных платформах в разрезе платформ, начиная с 1996 года, млн. копий', fontsize=15)\n",
    "plt.xlabel('Год выхода в релиз')\n",
    "plt.legend(['DS', 'PS', 'PS2', 'PS3', 'Wii', 'X360'])\n",
    "plt.show()\n",
    "\n",
    "# расчетная таблица\n",
    "(\n",
    "    sales_per_year_per_platform\n",
    "    .style\n",
    "    .background_gradient(cmap='Blues', subset=['DS', 'PS', 'PS2', 'PS3', 'Wii', 'X360'])\n",
    ")"
   ]
  },
  {
   "cell_type": "markdown",
   "metadata": {},
   "source": [
    "Таким образом, средний срок \"жизни\" игровой платформы - семь лет.\n",
    "\n",
    "Так, платформа DS вошла на ировой рынок в 2004 года с объемом продаж в 17 млн. копий, достигла пика  продаж в 146-145 млн. на рубеже 2007-2008 годов, а после 2010 года объем продаж игр стал снижаться, прекратив полное существание к 2014 году.\n",
    "\n",
    "Аналогичное поведение демонсриуют и прочие платформы.\n",
    "\n",
    "Дополнительно отметим, что именно выделенные популярные платформы достиглы пиков продаж к лучшему за анализируемой период году игровой индустрии - 2008: Wii, DS, X360 и PS3 реализовали в этот период 145 млн., 118 млн., 171 млн., 135 млн. копий игр соответсвенно.\n",
    "\n",
    "Итак, для стремительно развивающейся игровой индустрии период больше 3-4 лет — очень много. Внутри выбранного периода резкого роста игровой индустрии, начиная с 1996 года, произошли резкие изменения, например, произошла замена одного поколения консолей следующим (PS -> PS2 -> PS3 -> PS4). Некоторые платформы совсем исчезли.\n",
    "\n",
    "Для целей прогнозирования продаж на следующий год даже в традиционных бизнесах редко берут данные более чем за 2-3 года. А в такой динамично меняющейся индустрии, как компьютерные игры и вовсе не стоит брать слишком большой временной интервал.\n",
    "\n",
    "Таким образом, для дальнейшего анализа целесообразно использовать данные начиная с 2014 года по выделенным популярным платформам - PS3, Wii, X360."
   ]
  },
  {
   "cell_type": "code",
   "execution_count": 19,
   "metadata": {},
   "outputs": [],
   "source": [
    "# актульные данные для дальнейшего анализа\n",
    "actual_data = (\n",
    "    df.loc[\n",
    "        (df['year_of_release'] > 2013) & \n",
    "        (df['platform'].isin(['PS3', 'Wii', 'X360']))\n",
    "    ]\n",
    ")"
   ]
  },
  {
   "cell_type": "markdown",
   "metadata": {},
   "source": [
    "Изучим на сколько в среднем хорошо продаются игры на выделенных для прогноза на 2017 год данных."
   ]
  },
  {
   "cell_type": "code",
   "execution_count": 20,
   "metadata": {},
   "outputs": [
    {
     "data": {
      "image/png": "[encoded data removed]",
      "text/plain": [
       "<Figure size 1440x720 with 1 Axes>"
      ]
     },
     "metadata": {
      "needs_background": "light"
     },
     "output_type": "display_data"
    },
    {
     "data": {
      "image/png": "[encoded data removed]",
      "text/plain": [
       "<Figure size 1440x432 with 1 Axes>"
      ]
     },
     "metadata": {
      "needs_background": "light"
     },
     "output_type": "display_data"
    },
    {
     "data": {
      "text/html": [
       "<div>\n",
       "<style scoped>\n",
       "    .dataframe tbody tr th:only-of-type {\n",
       "        vertical-align: middle;\n",
       "    }\n",
       "\n",
       "    .dataframe tbody tr th {\n",
       "        vertical-align: top;\n",
       "    }\n",
       "\n",
       "    .dataframe thead th {\n",
       "        text-align: right;\n",
       "    }\n",
       "</style>\n",
       "<table border=\"1\" class=\"dataframe\">\n",
       "  <thead>\n",
       "    <tr style=\"text-align: right;\">\n",
       "      <th></th>\n",
       "      <th>platform_sales_total</th>\n",
       "    </tr>\n",
       "  </thead>\n",
       "  <tbody>\n",
       "    <tr>\n",
       "      <th>count</th>\n",
       "      <td>341.000000</td>\n",
       "    </tr>\n",
       "    <tr>\n",
       "      <th>mean</th>\n",
       "      <td>0.356217</td>\n",
       "    </tr>\n",
       "    <tr>\n",
       "      <th>std</th>\n",
       "      <td>0.632537</td>\n",
       "    </tr>\n",
       "    <tr>\n",
       "      <th>min</th>\n",
       "      <td>0.010000</td>\n",
       "    </tr>\n",
       "    <tr>\n",
       "      <th>25%</th>\n",
       "      <td>0.040000</td>\n",
       "    </tr>\n",
       "    <tr>\n",
       "      <th>50%</th>\n",
       "      <td>0.120000</td>\n",
       "    </tr>\n",
       "    <tr>\n",
       "      <th>75%</th>\n",
       "      <td>0.410000</td>\n",
       "    </tr>\n",
       "    <tr>\n",
       "      <th>max</th>\n",
       "      <td>5.270000</td>\n",
       "    </tr>\n",
       "  </tbody>\n",
       "</table>\n",
       "</div>"
      ],
      "text/plain": [
       "       platform_sales_total\n",
       "count            341.000000\n",
       "mean               0.356217\n",
       "std                0.632537\n",
       "min                0.010000\n",
       "25%                0.040000\n",
       "50%                0.120000\n",
       "75%                0.410000\n",
       "max                5.270000"
      ]
     },
     "execution_count": 20,
     "metadata": {},
     "output_type": "execute_result"
    }
   ],
   "source": [
    "# визуализация размаха общемировых продаж в разрезе платформ\n",
    "plt.figure(figsize=(20, 10))\n",
    "sns.boxplot(data=actual_data, x='platform', y='sales_total')\n",
    "plt.title('Общемировые продажи в разрезе платформ', fontsize=15)\n",
    "plt.xlabel('')\n",
    "plt.ylabel('Объем продаж, млн. копий')\n",
    "plt.show()\n",
    "\n",
    "# визуализация размаха общемировых продаж в разрезе платформ (мастшабированная)\n",
    "plt.figure(figsize=(20, 6))\n",
    "sns.boxplot(data=actual_data, x='platform', y='sales_total')\n",
    "plt.ylim(0, 1)\n",
    "plt.xlabel('Платформы')\n",
    "plt.ylabel('Объем продаж, млн. копий')\n",
    "plt.show()\n",
    "\n",
    "# саммари мировых продаж по всем выделенным популярным платформам\n",
    "actual_data[['platform', 'sales_total']].describe().rename({'sales_total': 'platform_sales_total'}, axis=1)"
   ]
  },
  {
   "cell_type": "markdown",
   "metadata": {},
   "source": [
    "Таким образом, исходя из 341 наблюдения следует отметить, что среднее значения объема продаж игр на выделенных данных достигает 35 тыс. копий игр, при медиане в 12 тыс. и стандартном отклонении в 6 тыс. игр.\n",
    "\n",
    "Кроме того достигнут максимум в 5,2 млн. копий игр для платформы PS3.\n",
    "\n",
    "Исходя из медианного показателя диаграммы размаха продаж видеоигр по платформам лучше игры продаются на платформах X360 и Wii.\n",
    "\n",
    "Далее рассмотрим влияние эксперных оценок на объемы продаж."
   ]
  },
  {
   "cell_type": "markdown",
   "metadata": {},
   "source": [
    "### Влияние оценок критиков на объемы продаж на примере платформы PS3"
   ]
  },
  {
   "cell_type": "code",
   "execution_count": 21,
   "metadata": {},
   "outputs": [
    {
     "data": {
      "text/html": [
       "<div>\n",
       "<style scoped>\n",
       "    .dataframe tbody tr th:only-of-type {\n",
       "        vertical-align: middle;\n",
       "    }\n",
       "\n",
       "    .dataframe tbody tr th {\n",
       "        vertical-align: top;\n",
       "    }\n",
       "\n",
       "    .dataframe thead th {\n",
       "        text-align: right;\n",
       "    }\n",
       "</style>\n",
       "<table border=\"1\" class=\"dataframe\">\n",
       "  <thead>\n",
       "    <tr style=\"text-align: right;\">\n",
       "      <th></th>\n",
       "      <th>critic_score</th>\n",
       "      <th>na_sales</th>\n",
       "      <th>eu_sales</th>\n",
       "      <th>jp_sales</th>\n",
       "      <th>other_sales</th>\n",
       "      <th>sales_total</th>\n",
       "    </tr>\n",
       "  </thead>\n",
       "  <tbody>\n",
       "    <tr>\n",
       "      <th>critic_score</th>\n",
       "      <td>1.000000</td>\n",
       "      <td>0.468665</td>\n",
       "      <td>0.373391</td>\n",
       "      <td>0.421033</td>\n",
       "      <td>0.509179</td>\n",
       "      <td>0.494554</td>\n",
       "    </tr>\n",
       "    <tr>\n",
       "      <th>na_sales</th>\n",
       "      <td>0.468665</td>\n",
       "      <td>1.000000</td>\n",
       "      <td>0.891972</td>\n",
       "      <td>0.193446</td>\n",
       "      <td>0.897733</td>\n",
       "      <td>0.968336</td>\n",
       "    </tr>\n",
       "    <tr>\n",
       "      <th>eu_sales</th>\n",
       "      <td>0.373391</td>\n",
       "      <td>0.891972</td>\n",
       "      <td>1.000000</td>\n",
       "      <td>0.148664</td>\n",
       "      <td>0.918175</td>\n",
       "      <td>0.950774</td>\n",
       "    </tr>\n",
       "    <tr>\n",
       "      <th>jp_sales</th>\n",
       "      <td>0.421033</td>\n",
       "      <td>0.193446</td>\n",
       "      <td>0.148664</td>\n",
       "      <td>1.000000</td>\n",
       "      <td>0.276668</td>\n",
       "      <td>0.328178</td>\n",
       "    </tr>\n",
       "    <tr>\n",
       "      <th>other_sales</th>\n",
       "      <td>0.509179</td>\n",
       "      <td>0.897733</td>\n",
       "      <td>0.918175</td>\n",
       "      <td>0.276668</td>\n",
       "      <td>1.000000</td>\n",
       "      <td>0.950619</td>\n",
       "    </tr>\n",
       "    <tr>\n",
       "      <th>sales_total</th>\n",
       "      <td>0.494554</td>\n",
       "      <td>0.968336</td>\n",
       "      <td>0.950774</td>\n",
       "      <td>0.328178</td>\n",
       "      <td>0.950619</td>\n",
       "      <td>1.000000</td>\n",
       "    </tr>\n",
       "  </tbody>\n",
       "</table>\n",
       "</div>"
      ],
      "text/plain": [
       "              critic_score  na_sales  eu_sales  jp_sales  other_sales  \\\n",
       "critic_score      1.000000  0.468665  0.373391  0.421033     0.509179   \n",
       "na_sales          0.468665  1.000000  0.891972  0.193446     0.897733   \n",
       "eu_sales          0.373391  0.891972  1.000000  0.148664     0.918175   \n",
       "jp_sales          0.421033  0.193446  0.148664  1.000000     0.276668   \n",
       "other_sales       0.509179  0.897733  0.918175  0.276668     1.000000   \n",
       "sales_total       0.494554  0.968336  0.950774  0.328178     0.950619   \n",
       "\n",
       "              sales_total  \n",
       "critic_score     0.494554  \n",
       "na_sales         0.968336  \n",
       "eu_sales         0.950774  \n",
       "jp_sales         0.328178  \n",
       "other_sales      0.950619  \n",
       "sales_total      1.000000  "
      ]
     },
     "metadata": {},
     "output_type": "display_data"
    },
    {
     "data": {
      "image/png": "[encoded data removed]",
      "text/plain": [
       "<Figure size 1080x288 with 1 Axes>"
      ]
     },
     "metadata": {
      "needs_background": "light"
     },
     "output_type": "display_data"
    },
    {
     "data": {
      "image/png": "[encoded data removed]",
      "text/plain": [
       "<Figure size 1080x576 with 4 Axes>"
      ]
     },
     "metadata": {
      "needs_background": "light"
     },
     "output_type": "display_data"
    }
   ],
   "source": [
    "# расчет объемов продаж в зависимости от оценки экспертов\n",
    "ps3_sales_per_critic_score = (\n",
    "    actual_data\n",
    "    .groupby('critic_score')\n",
    "    [['na_sales', 'eu_sales', 'jp_sales', 'other_sales', 'sales_total']]\n",
    "    .sum()\n",
    "    .reset_index()\n",
    ")\n",
    "\n",
    "# расчет корреляции объемов продаж от оценки экспертов\n",
    "display(ps3_sales_per_critic_score.corr())\n",
    "\n",
    "# визуализация расчетов\n",
    "plt.figure(figsize=(15, 4))\n",
    "sns.scatterplot(data=ps3_sales_per_critic_score, x='critic_score', y='sales_total')\n",
    "plt.title('Зависимость мирового объема продаж от выставленной оценки экспертов')\n",
    "plt.ylabel('Объем продаж, млн')\n",
    "plt.xlabel('Экспертный скор')\n",
    "\n",
    "\n",
    "plt.figure(figsize=(15, 8))\n",
    "\n",
    "plt.subplot(2, 2, 1)\n",
    "sns.scatterplot(data=ps3_sales_per_critic_score, x='critic_score', y='na_sales')\n",
    "plt.title('Зависимость объема продаж в Северной Америке от выставленной оценки экспертов')\n",
    "plt.ylabel('Объем продаж, млн')\n",
    "plt.xlabel('Экспертный скор')\n",
    "\n",
    "plt.subplot(2, 2, 2)\n",
    "sns.scatterplot(data=ps3_sales_per_critic_score, x='critic_score', y='eu_sales')\n",
    "plt.title('Зависимость объема продаж в Европе от выставленной оценки экспертов')\n",
    "plt.ylabel('Объем продаж, млн')\n",
    "plt.xlabel('Экспертный скор')\n",
    "\n",
    "plt.subplot(2, 2, 3)\n",
    "sns.scatterplot(data=ps3_sales_per_critic_score, x='critic_score', y='jp_sales')\n",
    "plt.title('Зависимость объема продаж в Японии от выставленной оценки экспертов')\n",
    "plt.ylabel('Объем продаж, млн')\n",
    "plt.xlabel('Экспертный скор')\n",
    "\n",
    "plt.subplot(2, 2, 4)\n",
    "sns.scatterplot(data=ps3_sales_per_critic_score, x='critic_score', y='other_sales')\n",
    "plt.title('Зависимость объема продаж в прочих регионах от выставленной оценки экспертов')\n",
    "plt.ylabel('Объем продаж, млн')\n",
    "plt.xlabel('Экспертный скор')\n",
    "\n",
    "plt.tight_layout()\n",
    "plt.show()"
   ]
  },
  {
   "cell_type": "markdown",
   "metadata": {},
   "source": [
    "Во всех рассмотренных регионах по платформе PS3 наблюдается небольшая линейная зависимость объема продаж видеоигр от оценки критиков. Так, сильнее всего связь наблюдается в продаж в прочих регионах и общих мировых продажа, в районе 0,5, слабее в Европе - 0,37.\n",
    "\n",
    "Кроме того, пик объема продаж приходиться по на экспертный скор равный около 70-ти баллов, далее при увеличения оценочного балла, объемы продаж начинаются снижатся. Данное наблюдение также объясняется спецификой конкретной игры на рассматриваемой платформе и различий предпочтней критиков и массового потребителя.\n",
    "\n",
    "Далее изучим зависимости оценок пользователей и объема продаж."
   ]
  },
  {
   "cell_type": "markdown",
   "metadata": {},
   "source": [
    "### Влияние оценок критиков на объемы продаж на примере платформы PS3"
   ]
  },
  {
   "cell_type": "code",
   "execution_count": 22,
   "metadata": {},
   "outputs": [
    {
     "data": {
      "text/html": [
       "<div>\n",
       "<style scoped>\n",
       "    .dataframe tbody tr th:only-of-type {\n",
       "        vertical-align: middle;\n",
       "    }\n",
       "\n",
       "    .dataframe tbody tr th {\n",
       "        vertical-align: top;\n",
       "    }\n",
       "\n",
       "    .dataframe thead th {\n",
       "        text-align: right;\n",
       "    }\n",
       "</style>\n",
       "<table border=\"1\" class=\"dataframe\">\n",
       "  <thead>\n",
       "    <tr style=\"text-align: right;\">\n",
       "      <th></th>\n",
       "      <th>user_score</th>\n",
       "      <th>na_sales</th>\n",
       "      <th>eu_sales</th>\n",
       "      <th>jp_sales</th>\n",
       "      <th>other_sales</th>\n",
       "      <th>sales_total</th>\n",
       "    </tr>\n",
       "  </thead>\n",
       "  <tbody>\n",
       "    <tr>\n",
       "      <th>user_score</th>\n",
       "      <td>1.000000</td>\n",
       "      <td>0.051121</td>\n",
       "      <td>0.031379</td>\n",
       "      <td>0.411097</td>\n",
       "      <td>0.036427</td>\n",
       "      <td>0.087045</td>\n",
       "    </tr>\n",
       "    <tr>\n",
       "      <th>na_sales</th>\n",
       "      <td>0.051121</td>\n",
       "      <td>1.000000</td>\n",
       "      <td>0.601069</td>\n",
       "      <td>0.055569</td>\n",
       "      <td>0.784542</td>\n",
       "      <td>0.870239</td>\n",
       "    </tr>\n",
       "    <tr>\n",
       "      <th>eu_sales</th>\n",
       "      <td>0.031379</td>\n",
       "      <td>0.601069</td>\n",
       "      <td>1.000000</td>\n",
       "      <td>0.161810</td>\n",
       "      <td>0.895215</td>\n",
       "      <td>0.904948</td>\n",
       "    </tr>\n",
       "    <tr>\n",
       "      <th>jp_sales</th>\n",
       "      <td>0.411097</td>\n",
       "      <td>0.055569</td>\n",
       "      <td>0.161810</td>\n",
       "      <td>1.000000</td>\n",
       "      <td>0.198061</td>\n",
       "      <td>0.235935</td>\n",
       "    </tr>\n",
       "    <tr>\n",
       "      <th>other_sales</th>\n",
       "      <td>0.036427</td>\n",
       "      <td>0.784542</td>\n",
       "      <td>0.895215</td>\n",
       "      <td>0.198061</td>\n",
       "      <td>1.000000</td>\n",
       "      <td>0.956984</td>\n",
       "    </tr>\n",
       "    <tr>\n",
       "      <th>sales_total</th>\n",
       "      <td>0.087045</td>\n",
       "      <td>0.870239</td>\n",
       "      <td>0.904948</td>\n",
       "      <td>0.235935</td>\n",
       "      <td>0.956984</td>\n",
       "      <td>1.000000</td>\n",
       "    </tr>\n",
       "  </tbody>\n",
       "</table>\n",
       "</div>"
      ],
      "text/plain": [
       "             user_score  na_sales  eu_sales  jp_sales  other_sales  \\\n",
       "user_score     1.000000  0.051121  0.031379  0.411097     0.036427   \n",
       "na_sales       0.051121  1.000000  0.601069  0.055569     0.784542   \n",
       "eu_sales       0.031379  0.601069  1.000000  0.161810     0.895215   \n",
       "jp_sales       0.411097  0.055569  0.161810  1.000000     0.198061   \n",
       "other_sales    0.036427  0.784542  0.895215  0.198061     1.000000   \n",
       "sales_total    0.087045  0.870239  0.904948  0.235935     0.956984   \n",
       "\n",
       "             sales_total  \n",
       "user_score      0.087045  \n",
       "na_sales        0.870239  \n",
       "eu_sales        0.904948  \n",
       "jp_sales        0.235935  \n",
       "other_sales     0.956984  \n",
       "sales_total     1.000000  "
      ]
     },
     "metadata": {},
     "output_type": "display_data"
    },
    {
     "data": {
      "image/png": "[encoded data removed]",
      "text/plain": [
       "<Figure size 1080x288 with 1 Axes>"
      ]
     },
     "metadata": {
      "needs_background": "light"
     },
     "output_type": "display_data"
    },
    {
     "data": {
      "image/png": "[encoded data removed]",
      "text/plain": [
       "<Figure size 1080x576 with 4 Axes>"
      ]
     },
     "metadata": {
      "needs_background": "light"
     },
     "output_type": "display_data"
    }
   ],
   "source": [
    "# расчет объемов продаж в зависимости от оценки экспертов\n",
    "ps3_sales_per_user_score = (\n",
    "    actual_data\n",
    "    .groupby('user_score')\n",
    "    [['na_sales', 'eu_sales', 'jp_sales', 'other_sales', 'sales_total']]\n",
    "    .sum()\n",
    "    .reset_index()\n",
    ")\n",
    "\n",
    "# расчет корреляции объемов продаж от оценки экспертов\n",
    "display(ps3_sales_per_user_score.corr())\n",
    "\n",
    "# визуализация расчетов\n",
    "plt.figure(figsize=(15, 4))\n",
    "sns.scatterplot(data=ps3_sales_per_user_score, x='user_score', y='sales_total')\n",
    "plt.title('Зависимость мирового объема продаж от выставленной оценки экспертов')\n",
    "plt.ylabel('Объем продаж, млн')\n",
    "plt.xlabel('Экспертный скор')\n",
    "\n",
    "\n",
    "plt.figure(figsize=(15, 8))\n",
    "\n",
    "plt.subplot(2, 2, 1)\n",
    "sns.scatterplot(data=ps3_sales_per_user_score, x='user_score', y='na_sales')\n",
    "plt.title('Зависимость объема продаж в Северной Америке от выставленной оценки экспертов')\n",
    "plt.ylabel('Объем продаж, млн')\n",
    "plt.xlabel('Экспертный скор')\n",
    "\n",
    "plt.subplot(2, 2, 2)\n",
    "sns.scatterplot(data=ps3_sales_per_user_score, x='user_score', y='eu_sales')\n",
    "plt.title('Зависимость объема продаж в Европе от выставленной оценки экспертов')\n",
    "plt.ylabel('Объем продаж, млн')\n",
    "plt.xlabel('Экспертный скор')\n",
    "\n",
    "plt.subplot(2, 2, 3)\n",
    "sns.scatterplot(data=ps3_sales_per_user_score, x='user_score', y='jp_sales')\n",
    "plt.title('Зависимость объема продаж в Японии от выставленной оценки экспертов')\n",
    "plt.ylabel('Объем продаж, млн')\n",
    "plt.xlabel('Экспертный скор')\n",
    "\n",
    "plt.subplot(2, 2, 4)\n",
    "sns.scatterplot(data=ps3_sales_per_user_score, x='user_score', y='other_sales')\n",
    "plt.title('Зависимость объема продаж в прочих регионах от выставленной оценки экспертов')\n",
    "plt.ylabel('Объем продаж, млн')\n",
    "plt.xlabel('Экспертный скор')\n",
    "\n",
    "plt.tight_layout()\n",
    "plt.show()"
   ]
  },
  {
   "cell_type": "markdown",
   "metadata": {},
   "source": [
    "Наличие линейной зависимости объема продаж видеоигр на рассматриваемой платформе от предпочтений польователей практически отсутвует, за исключением, возможно Японии - 0,41, при этом также наблюдается пиковая область объема продаж при оценке пользователей равной 5-ти.\n",
    "\n",
    "Проверим выдеражат ли критику прочими популярными платформами полученные выводы. "
   ]
  },
  {
   "cell_type": "markdown",
   "metadata": {},
   "source": [
    "### Проверка выводов о влияние оценок критиков и пользоватлей на объемы мировых продаж игр по всем выделенным популярным платформам"
   ]
  },
  {
   "cell_type": "code",
   "execution_count": 23,
   "metadata": {},
   "outputs": [
    {
     "data": {
      "image/png": "[encoded data removed]",
      "text/plain": [
       "<Figure size 1080x432 with 1 Axes>"
      ]
     },
     "metadata": {
      "needs_background": "light"
     },
     "output_type": "display_data"
    }
   ],
   "source": [
    "# расчета объема мировых продаж игр по платформам в зависмости от оценок экспертов\n",
    "sales_total_per_platform_per_critic_score = (\n",
    "    actual_data\n",
    "    .pivot_table(\n",
    "        index='critic_score', \n",
    "        columns='platform', \n",
    "        values='sales_total', \n",
    "        aggfunc='sum'\n",
    "    )\n",
    "    .fillna(0)\n",
    ")\n",
    "\n",
    "# визуализация расчетов\n",
    "plt.figure(figsize=(15, 6))\n",
    "plt.plot(sales_total_per_platform_per_critic_score)\n",
    "plt.title('Зависимость мировых продаж игр по платформам от оценки критиков', fontsize=15)\n",
    "plt.xlabel('Экспертный скор')\n",
    "plt.ylabel('Объем продаж, млн. копий')\n",
    "plt.legend(['PS3', 'Wii', 'X360'])\n",
    "plt.show()"
   ]
  },
  {
   "cell_type": "markdown",
   "metadata": {},
   "source": [
    "Действительно на прочих выделенных популярных платформах также выделяется небольшая линейная зависимость объема продаж от оценок крититиков, особенно на рубеже 65-85 скор-баллов.\n",
    "\n",
    "Кроме того, вывод о пике мировых продаж при оценке критиков в районе 70-ти баллов нашел свое подтверждение на всех платформах.\n",
    "\n",
    "Платформа Х360 не получила на момент 2016 года оценок критиков.\n",
    "\n",
    "Проведем аналогичныые расчеты для оценок пользоватлей."
   ]
  },
  {
   "cell_type": "code",
   "execution_count": 24,
   "metadata": {},
   "outputs": [
    {
     "data": {
      "image/png": "[encoded data removed]",
      "text/plain": [
       "<Figure size 1080x432 with 1 Axes>"
      ]
     },
     "metadata": {
      "needs_background": "light"
     },
     "output_type": "display_data"
    }
   ],
   "source": [
    "# расчета объема мировых продаж игр по платформам в зависмости от оценок экспертов\n",
    "sales_total_per_platform_per_user_score = (\n",
    "    actual_data\n",
    "    .pivot_table(\n",
    "        index='user_score', \n",
    "        columns='platform', \n",
    "        values='sales_total', \n",
    "        aggfunc='sum'\n",
    "    )\n",
    "    .fillna(0)\n",
    ")\n",
    "\n",
    "# визуализация расчетов\n",
    "plt.figure(figsize=(15, 6))\n",
    "plt.plot(sales_total_per_platform_per_critic_score)\n",
    "plt.title('Зависимость мировых продаж игр по платформам от оценки пользователей', fontsize=15)\n",
    "plt.xlabel('Пользовательский скор')\n",
    "plt.ylabel('Объем продаж, млн. копий')\n",
    "plt.legend(['PS3', 'Wii', 'X360'])\n",
    "plt.show()"
   ]
  },
  {
   "cell_type": "markdown",
   "metadata": {},
   "source": [
    "Аналогичная зависимость имеет место и оценками пользователей."
   ]
  },
  {
   "cell_type": "markdown",
   "metadata": {},
   "source": [
    "### Влияние жанра игры на объемы продаж по выделенным актуальным данным"
   ]
  },
  {
   "cell_type": "code",
   "execution_count": 25,
   "metadata": {},
   "outputs": [
    {
     "data": {
      "text/html": [
       "<style  type=\"text/css\" >\n",
       "#T_2b376_row0_col1,#T_2b376_row0_col4,#T_2b376_row2_col4,#T_2b376_row3_col4,#T_2b376_row4_col4,#T_2b376_row7_col4{\n",
       "            background-color:  #d6e6f4;\n",
       "            color:  #000000;\n",
       "        }#T_2b376_row0_col2,#T_2b376_row6_col2{\n",
       "            background-color:  #d4e4f4;\n",
       "            color:  #000000;\n",
       "        }#T_2b376_row0_col3,#T_2b376_row1_col3,#T_2b376_row1_col4,#T_2b376_row3_col3,#T_2b376_row4_col3,#T_2b376_row5_col1,#T_2b376_row5_col2,#T_2b376_row5_col4,#T_2b376_row5_col5,#T_2b376_row6_col3,#T_2b376_row8_col3,#T_2b376_row9_col3,#T_2b376_row10_col3,#T_2b376_row11_col1,#T_2b376_row11_col2,#T_2b376_row11_col4{\n",
       "            background-color:  #f7fbff;\n",
       "            color:  #000000;\n",
       "        }#T_2b376_row0_col5,#T_2b376_row7_col5{\n",
       "            background-color:  #d2e3f3;\n",
       "            color:  #000000;\n",
       "        }#T_2b376_row1_col1{\n",
       "            background-color:  #e1edf8;\n",
       "            color:  #000000;\n",
       "        }#T_2b376_row1_col2{\n",
       "            background-color:  #dfecf7;\n",
       "            color:  #000000;\n",
       "        }#T_2b376_row1_col5{\n",
       "            background-color:  #f2f8fd;\n",
       "            color:  #000000;\n",
       "        }#T_2b376_row2_col1{\n",
       "            background-color:  #bdd7ec;\n",
       "            color:  #000000;\n",
       "        }#T_2b376_row2_col2,#T_2b376_row7_col2{\n",
       "            background-color:  #ebf3fb;\n",
       "            color:  #000000;\n",
       "        }#T_2b376_row2_col3,#T_2b376_row7_col3{\n",
       "            background-color:  #6aaed6;\n",
       "            color:  #000000;\n",
       "        }#T_2b376_row2_col5{\n",
       "            background-color:  #d0e1f2;\n",
       "            color:  #000000;\n",
       "        }#T_2b376_row3_col1,#T_2b376_row10_col4{\n",
       "            background-color:  #abd0e6;\n",
       "            color:  #000000;\n",
       "        }#T_2b376_row3_col2{\n",
       "            background-color:  #c9ddf0;\n",
       "            color:  #000000;\n",
       "        }#T_2b376_row3_col5{\n",
       "            background-color:  #b3d3e8;\n",
       "            color:  #000000;\n",
       "        }#T_2b376_row4_col1{\n",
       "            background-color:  #ccdff1;\n",
       "            color:  #000000;\n",
       "        }#T_2b376_row4_col2,#T_2b376_row10_col2{\n",
       "            background-color:  #b8d5ea;\n",
       "            color:  #000000;\n",
       "        }#T_2b376_row4_col5,#T_2b376_row6_col5{\n",
       "            background-color:  #d7e6f5;\n",
       "            color:  #000000;\n",
       "        }#T_2b376_row5_col3{\n",
       "            background-color:  #3787c0;\n",
       "            color:  #000000;\n",
       "        }#T_2b376_row6_col1,#T_2b376_row6_col4,#T_2b376_row9_col4{\n",
       "            background-color:  #c6dbef;\n",
       "            color:  #000000;\n",
       "        }#T_2b376_row7_col1{\n",
       "            background-color:  #dce9f6;\n",
       "            color:  #000000;\n",
       "        }#T_2b376_row8_col1,#T_2b376_row8_col2,#T_2b376_row8_col4,#T_2b376_row8_col5,#T_2b376_row11_col3{\n",
       "            background-color:  #08306b;\n",
       "            color:  #f1f1f1;\n",
       "        }#T_2b376_row9_col1{\n",
       "            background-color:  #99c7e0;\n",
       "            color:  #000000;\n",
       "        }#T_2b376_row9_col2{\n",
       "            background-color:  #9cc9e1;\n",
       "            color:  #000000;\n",
       "        }#T_2b376_row9_col5{\n",
       "            background-color:  #81badb;\n",
       "            color:  #000000;\n",
       "        }#T_2b376_row10_col1{\n",
       "            background-color:  #82bbdb;\n",
       "            color:  #000000;\n",
       "        }#T_2b376_row10_col5{\n",
       "            background-color:  #a1cbe2;\n",
       "            color:  #000000;\n",
       "        }#T_2b376_row11_col5{\n",
       "            background-color:  #edf4fc;\n",
       "            color:  #000000;\n",
       "        }</style><table id=\"T_2b376_\" ><thead>    <tr>        <th class=\"blank level0\" ></th>        <th class=\"col_heading level0 col0\" >game_cnt</th>        <th class=\"col_heading level0 col1\" >na_sales_median_score</th>        <th class=\"col_heading level0 col2\" >eu_sales_median_score</th>        <th class=\"col_heading level0 col3\" >jp_sales_median_score</th>        <th class=\"col_heading level0 col4\" >other_sales_median_score</th>        <th class=\"col_heading level0 col5\" >world_sales_median_score</th>    </tr>    <tr>        <th class=\"index_name level0\" >genre</th>        <th class=\"blank\" ></th>        <th class=\"blank\" ></th>        <th class=\"blank\" ></th>        <th class=\"blank\" ></th>        <th class=\"blank\" ></th>        <th class=\"blank\" ></th>    </tr></thead><tbody>\n",
       "                <tr>\n",
       "                        <th id=\"T_2b376_level0_row0\" class=\"row_heading level0 row0\" >Action</th>\n",
       "                        <td id=\"T_2b376_row0_col0\" class=\"data row0 col0\" >118</td>\n",
       "                        <td id=\"T_2b376_row0_col1\" class=\"data row0 col1\" >0.030000</td>\n",
       "                        <td id=\"T_2b376_row0_col2\" class=\"data row0 col2\" >0.030000</td>\n",
       "                        <td id=\"T_2b376_row0_col3\" class=\"data row0 col3\" >0.000000</td>\n",
       "                        <td id=\"T_2b376_row0_col4\" class=\"data row0 col4\" >0.010000</td>\n",
       "                        <td id=\"T_2b376_row0_col5\" class=\"data row0 col5\" >0.110000</td>\n",
       "            </tr>\n",
       "            <tr>\n",
       "                        <th id=\"T_2b376_level0_row1\" class=\"row_heading level0 row1\" >Adventure</th>\n",
       "                        <td id=\"T_2b376_row1_col0\" class=\"data row1 col0\" >33</td>\n",
       "                        <td id=\"T_2b376_row1_col1\" class=\"data row1 col1\" >0.020000</td>\n",
       "                        <td id=\"T_2b376_row1_col2\" class=\"data row1 col2\" >0.020000</td>\n",
       "                        <td id=\"T_2b376_row1_col3\" class=\"data row1 col3\" >0.000000</td>\n",
       "                        <td id=\"T_2b376_row1_col4\" class=\"data row1 col4\" >0.000000</td>\n",
       "                        <td id=\"T_2b376_row1_col5\" class=\"data row1 col5\" >0.050000</td>\n",
       "            </tr>\n",
       "            <tr>\n",
       "                        <th id=\"T_2b376_level0_row2\" class=\"row_heading level0 row2\" >Fighting</th>\n",
       "                        <td id=\"T_2b376_row2_col0\" class=\"data row2 col0\" >22</td>\n",
       "                        <td id=\"T_2b376_row2_col1\" class=\"data row2 col1\" >0.050000</td>\n",
       "                        <td id=\"T_2b376_row2_col2\" class=\"data row2 col2\" >0.010000</td>\n",
       "                        <td id=\"T_2b376_row2_col3\" class=\"data row2 col3\" >0.030000</td>\n",
       "                        <td id=\"T_2b376_row2_col4\" class=\"data row2 col4\" >0.010000</td>\n",
       "                        <td id=\"T_2b376_row2_col5\" class=\"data row2 col5\" >0.115000</td>\n",
       "            </tr>\n",
       "            <tr>\n",
       "                        <th id=\"T_2b376_level0_row3\" class=\"row_heading level0 row3\" >Misc</th>\n",
       "                        <td id=\"T_2b376_row3_col0\" class=\"data row3 col0\" >22</td>\n",
       "                        <td id=\"T_2b376_row3_col1\" class=\"data row3 col1\" >0.060000</td>\n",
       "                        <td id=\"T_2b376_row3_col2\" class=\"data row3 col2\" >0.040000</td>\n",
       "                        <td id=\"T_2b376_row3_col3\" class=\"data row3 col3\" >0.000000</td>\n",
       "                        <td id=\"T_2b376_row3_col4\" class=\"data row3 col4\" >0.010000</td>\n",
       "                        <td id=\"T_2b376_row3_col5\" class=\"data row3 col5\" >0.155000</td>\n",
       "            </tr>\n",
       "            <tr>\n",
       "                        <th id=\"T_2b376_level0_row4\" class=\"row_heading level0 row4\" >Platform</th>\n",
       "                        <td id=\"T_2b376_row4_col0\" class=\"data row4 col0\" >5</td>\n",
       "                        <td id=\"T_2b376_row4_col1\" class=\"data row4 col1\" >0.040000</td>\n",
       "                        <td id=\"T_2b376_row4_col2\" class=\"data row4 col2\" >0.050000</td>\n",
       "                        <td id=\"T_2b376_row4_col3\" class=\"data row4 col3\" >0.000000</td>\n",
       "                        <td id=\"T_2b376_row4_col4\" class=\"data row4 col4\" >0.010000</td>\n",
       "                        <td id=\"T_2b376_row4_col5\" class=\"data row4 col5\" >0.100000</td>\n",
       "            </tr>\n",
       "            <tr>\n",
       "                        <th id=\"T_2b376_level0_row5\" class=\"row_heading level0 row5\" >Puzzle</th>\n",
       "                        <td id=\"T_2b376_row5_col0\" class=\"data row5 col0\" >1</td>\n",
       "                        <td id=\"T_2b376_row5_col1\" class=\"data row5 col1\" >0.000000</td>\n",
       "                        <td id=\"T_2b376_row5_col2\" class=\"data row5 col2\" >0.000000</td>\n",
       "                        <td id=\"T_2b376_row5_col3\" class=\"data row5 col3\" >0.040000</td>\n",
       "                        <td id=\"T_2b376_row5_col4\" class=\"data row5 col4\" >0.000000</td>\n",
       "                        <td id=\"T_2b376_row5_col5\" class=\"data row5 col5\" >0.040000</td>\n",
       "            </tr>\n",
       "            <tr>\n",
       "                        <th id=\"T_2b376_level0_row6\" class=\"row_heading level0 row6\" >Racing</th>\n",
       "                        <td id=\"T_2b376_row6_col0\" class=\"data row6 col0\" >16</td>\n",
       "                        <td id=\"T_2b376_row6_col1\" class=\"data row6 col1\" >0.045000</td>\n",
       "                        <td id=\"T_2b376_row6_col2\" class=\"data row6 col2\" >0.030000</td>\n",
       "                        <td id=\"T_2b376_row6_col3\" class=\"data row6 col3\" >0.000000</td>\n",
       "                        <td id=\"T_2b376_row6_col4\" class=\"data row6 col4\" >0.015000</td>\n",
       "                        <td id=\"T_2b376_row6_col5\" class=\"data row6 col5\" >0.100000</td>\n",
       "            </tr>\n",
       "            <tr>\n",
       "                        <th id=\"T_2b376_level0_row7\" class=\"row_heading level0 row7\" >Role-Playing</th>\n",
       "                        <td id=\"T_2b376_row7_col0\" class=\"data row7 col0\" >34</td>\n",
       "                        <td id=\"T_2b376_row7_col1\" class=\"data row7 col1\" >0.025000</td>\n",
       "                        <td id=\"T_2b376_row7_col2\" class=\"data row7 col2\" >0.010000</td>\n",
       "                        <td id=\"T_2b376_row7_col3\" class=\"data row7 col3\" >0.030000</td>\n",
       "                        <td id=\"T_2b376_row7_col4\" class=\"data row7 col4\" >0.010000</td>\n",
       "                        <td id=\"T_2b376_row7_col5\" class=\"data row7 col5\" >0.110000</td>\n",
       "            </tr>\n",
       "            <tr>\n",
       "                        <th id=\"T_2b376_level0_row8\" class=\"row_heading level0 row8\" >Shooter</th>\n",
       "                        <td id=\"T_2b376_row8_col0\" class=\"data row8 col0\" >29</td>\n",
       "                        <td id=\"T_2b376_row8_col1\" class=\"data row8 col1\" >0.180000</td>\n",
       "                        <td id=\"T_2b376_row8_col2\" class=\"data row8 col2\" >0.170000</td>\n",
       "                        <td id=\"T_2b376_row8_col3\" class=\"data row8 col3\" >0.000000</td>\n",
       "                        <td id=\"T_2b376_row8_col4\" class=\"data row8 col4\" >0.060000</td>\n",
       "                        <td id=\"T_2b376_row8_col5\" class=\"data row8 col5\" >0.410000</td>\n",
       "            </tr>\n",
       "            <tr>\n",
       "                        <th id=\"T_2b376_level0_row9\" class=\"row_heading level0 row9\" >Simulation</th>\n",
       "                        <td id=\"T_2b376_row9_col0\" class=\"data row9 col0\" >4</td>\n",
       "                        <td id=\"T_2b376_row9_col1\" class=\"data row9 col1\" >0.070000</td>\n",
       "                        <td id=\"T_2b376_row9_col2\" class=\"data row9 col2\" >0.065000</td>\n",
       "                        <td id=\"T_2b376_row9_col3\" class=\"data row9 col3\" >0.000000</td>\n",
       "                        <td id=\"T_2b376_row9_col4\" class=\"data row9 col4\" >0.015000</td>\n",
       "                        <td id=\"T_2b376_row9_col5\" class=\"data row9 col5\" >0.205000</td>\n",
       "            </tr>\n",
       "            <tr>\n",
       "                        <th id=\"T_2b376_level0_row10\" class=\"row_heading level0 row10\" >Sports</th>\n",
       "                        <td id=\"T_2b376_row10_col0\" class=\"data row10 col0\" >56</td>\n",
       "                        <td id=\"T_2b376_row10_col1\" class=\"data row10 col1\" >0.080000</td>\n",
       "                        <td id=\"T_2b376_row10_col2\" class=\"data row10 col2\" >0.050000</td>\n",
       "                        <td id=\"T_2b376_row10_col3\" class=\"data row10 col3\" >0.000000</td>\n",
       "                        <td id=\"T_2b376_row10_col4\" class=\"data row10 col4\" >0.020000</td>\n",
       "                        <td id=\"T_2b376_row10_col5\" class=\"data row10 col5\" >0.175000</td>\n",
       "            </tr>\n",
       "            <tr>\n",
       "                        <th id=\"T_2b376_level0_row11\" class=\"row_heading level0 row11\" >Strategy</th>\n",
       "                        <td id=\"T_2b376_row11_col0\" class=\"data row11 col0\" >1</td>\n",
       "                        <td id=\"T_2b376_row11_col1\" class=\"data row11 col1\" >0.000000</td>\n",
       "                        <td id=\"T_2b376_row11_col2\" class=\"data row11 col2\" >0.000000</td>\n",
       "                        <td id=\"T_2b376_row11_col3\" class=\"data row11 col3\" >0.060000</td>\n",
       "                        <td id=\"T_2b376_row11_col4\" class=\"data row11 col4\" >0.000000</td>\n",
       "                        <td id=\"T_2b376_row11_col5\" class=\"data row11 col5\" >0.060000</td>\n",
       "            </tr>\n",
       "    </tbody></table>"
      ],
      "text/plain": [
       "<pandas.io.formats.style.Styler at 0x7fd9432a8f40>"
      ]
     },
     "execution_count": 25,
     "metadata": {},
     "output_type": "execute_result"
    }
   ],
   "source": [
    "# расчет объема продаж игр в зависимости от жанра\n",
    "(\n",
    "    actual_data\n",
    "    .groupby('genre')\n",
    "    .agg(game_cnt = ('name', 'count'),\n",
    "         na_sales_median_score = ('na_sales', 'median'),\n",
    "         eu_sales_median_score = ('eu_sales', 'median'),\n",
    "         jp_sales_median_score = ('jp_sales', 'median'),\n",
    "         other_sales_median_score = ('other_sales', 'median'),\n",
    "         world_sales_median_score = ('sales_total', 'median'))\n",
    "    .fillna(0)\n",
    "    .style\n",
    "    .background_gradient(cmap='Blues', \n",
    "                         subset=['na_sales_median_score',\n",
    "                                 'eu_sales_median_score',\n",
    "                                 'jp_sales_median_score',\n",
    "                                 'other_sales_median_score',\n",
    "                                 'world_sales_median_score'])\n",
    ")"
   ]
  },
  {
   "cell_type": "markdown",
   "metadata": {},
   "source": [
    "Для оценки влияния жанра на объемы продаж следует испольовать медиану продаж, а не общий объем продаж или средний показатель, по следующим соображениям. Больше всего игр для анализуруемых выделенных актуальных данных реализовано в сегменте экшн - 118, в то время как, например, шутеров реализовано 29 игры. Однако, медианный показатель экшн-жанра составляет, например для Северной Америке, 30 тыс. копий, а шутеров - 180 тыс. копий. Таким образом, несмотря на значительный объем выпуска игр жанра экшн продажи слабые - то есть не пользуются популярностью, в то время как ситуация по шутерам противоположная.\n",
    "\n",
    "Среднее значение не целесообразно использовать по причине возмодного смещения показателя продаж из-за выхода нескольких успешных игр и провала большинства.\n",
    "\n",
    "Медиана же продемонсрует истинное положение дел в жанрах, какие жанры, действиетльно хорошо потребляются, какие плохо.\n",
    "\n",
    "Так, как было отмечено выше лидером среди жанров является шутеры с медианой продаж 180 тыс. копий в Северной Америке, 170 тыс. копий в Европе, 6 тыс. в прочих регионах. В Японии шутеры популярнсть не снискали.\n",
    "\n",
    "В свою очередь в Японии высокий медианный показатель у Стратегий - 6 тыс. копий, а также в жанре пазлов - 4 тыс., несмотря на то, что в осталных регионах эти жанры практически не реализуются."
   ]
  },
  {
   "cell_type": "markdown",
   "metadata": {},
   "source": [
    "### Выводы по результатам исследовательского анализа данных"
   ]
  },
  {
   "cell_type": "markdown",
   "metadata": {},
   "source": [
    "В ходе исследовательского анализа данные изучены в динамике по годам, в разрезе платформ и жанров, регионов продаж и оценок игр экспертами и пользователями. Проведенным анализом установлено следующее:\n",
    "\n",
    "1. Рост рынка видеоигр произошел в 1996 году с пиком в 2008 году и плавным спадом к 2016 году.\n",
    "2. Лидером среди рынков сбыта за весь анализируемый период является Севеная Америка, аутсайдером - Япония.\n",
    "3. Максимальные объемы продаж игр омечены на следующих платформах - DS, PS, PS2, PS3, Wii, X360, при этом платформа DS характерна для Японии, прочие выделенные платформы популярны во всех представленных регионах.\n",
    "4. Исходя из объема реализации игр, выделены актуальные данные для дальнейшего анализа - горизонт анализа - 2014 год, игровые платформы: PS3, Wii, X360.\n",
    "5. На примере платформы PS3 установлена прямая линейная зависимость объема продаж игр от оценок, как экспертов, так и игроков, при этом пик продаж игр наблюдается при скоре близком к 70-ти для критиков и оценке в  районе 6 для игроков. Вывод подтвержден на прочих платформах.\n",
    "6. Жанр прямо влияет на объем продаж, так шутеры лучше всего продаются во всех регионах, а стратегии и пазлы лучше только в Японии.\n",
    "\n",
    "Таким образом, по релультатам исследовательского анализа данных автором выделены следующие критерии успешности игры:\n",
    "\n",
    "- регион распрастранения - Северная Америка,\n",
    "- платформа - семейста PS3,\n",
    "- жанр - Shooter,\n",
    "- оценка в районе 70 от критиков и в районе 6 от игроков.\n",
    "\n",
    "Далее изучим потребителей."
   ]
  },
  {
   "cell_type": "markdown",
   "metadata": {},
   "source": [
    "## Портрет пользователя\n",
    "\n",
    "### Северная Америка\n",
    "#### Игровая платформа"
   ]
  },
  {
   "cell_type": "code",
   "execution_count": 26,
   "metadata": {},
   "outputs": [
    {
     "data": {
      "text/html": [
       "<div>\n",
       "<style scoped>\n",
       "    .dataframe tbody tr th:only-of-type {\n",
       "        vertical-align: middle;\n",
       "    }\n",
       "\n",
       "    .dataframe tbody tr th {\n",
       "        vertical-align: top;\n",
       "    }\n",
       "\n",
       "    .dataframe thead th {\n",
       "        text-align: right;\n",
       "    }\n",
       "</style>\n",
       "<table border=\"1\" class=\"dataframe\">\n",
       "  <thead>\n",
       "    <tr style=\"text-align: right;\">\n",
       "      <th></th>\n",
       "      <th>game_cnt</th>\n",
       "      <th>region_sales_total</th>\n",
       "      <th>world_sales_total</th>\n",
       "      <th>critic_score_avg</th>\n",
       "      <th>user_score_avg</th>\n",
       "      <th>world_sales_share</th>\n",
       "    </tr>\n",
       "    <tr>\n",
       "      <th>platform</th>\n",
       "      <th></th>\n",
       "      <th></th>\n",
       "      <th></th>\n",
       "      <th></th>\n",
       "      <th></th>\n",
       "      <th></th>\n",
       "    </tr>\n",
       "  </thead>\n",
       "  <tbody>\n",
       "    <tr>\n",
       "      <th>X360</th>\n",
       "      <td>111</td>\n",
       "      <td>28.30</td>\n",
       "      <td>48.22</td>\n",
       "      <td>63.730769</td>\n",
       "      <td>5.771084</td>\n",
       "      <td>0.586893</td>\n",
       "    </tr>\n",
       "    <tr>\n",
       "      <th>PS3</th>\n",
       "      <td>219</td>\n",
       "      <td>22.05</td>\n",
       "      <td>68.18</td>\n",
       "      <td>66.555556</td>\n",
       "      <td>6.014286</td>\n",
       "      <td>0.323409</td>\n",
       "    </tr>\n",
       "    <tr>\n",
       "      <th>Wii</th>\n",
       "      <td>11</td>\n",
       "      <td>2.08</td>\n",
       "      <td>5.07</td>\n",
       "      <td>NaN</td>\n",
       "      <td>6.350000</td>\n",
       "      <td>0.410256</td>\n",
       "    </tr>\n",
       "  </tbody>\n",
       "</table>\n",
       "</div>"
      ],
      "text/plain": [
       "          game_cnt  region_sales_total  world_sales_total  critic_score_avg  \\\n",
       "platform                                                                      \n",
       "X360           111               28.30              48.22         63.730769   \n",
       "PS3            219               22.05              68.18         66.555556   \n",
       "Wii             11                2.08               5.07               NaN   \n",
       "\n",
       "          user_score_avg  world_sales_share  \n",
       "platform                                     \n",
       "X360            5.771084           0.586893  \n",
       "PS3             6.014286           0.323409  \n",
       "Wii             6.350000           0.410256  "
      ]
     },
     "execution_count": 26,
     "metadata": {},
     "output_type": "execute_result"
    }
   ],
   "source": [
    "# опредеение функции, принимающий в качестве агрумента df, признак и регион для аналитического среза\n",
    "# и возвращающей агрегированные расчеты топ-5 объема продаж и сопутсвующие сведения\n",
    "def sales_per_feature_per_region(df, feature, region_sales):\n",
    "    result = (df\n",
    "              .groupby(feature)\n",
    "              .agg(game_cnt = ('name', 'count'),\n",
    "                   region_sales_total = (region_sales, 'sum'),\n",
    "                   world_sales_total = ('sales_total', 'sum'),\n",
    "                   critic_score_avg = ('critic_score', 'mean'),\n",
    "                   user_score_avg = ('user_score', 'mean'))\n",
    "              .assign(world_sales_share = lambda x: x['region_sales_total'] / x['world_sales_total'])\n",
    "              .sort_values('region_sales_total', ascending=False)\n",
    "              .head())\n",
    "    return result\n",
    "\n",
    "# расчет объемов продаж в разрезе платформ для Северной Америки\n",
    "sales_per_feature_per_region(actual_data, 'platform', 'na_sales')                        "
   ]
  },
  {
   "cell_type": "markdown",
   "metadata": {},
   "source": [
    "Итак, лидером по объемам продаж в Северной Америке является платформа X360 - 28 млн. копий (58% от мировых продаж на этой платформе). Для платформы выпущено 111 игр со средней оценкой экспертов в 63 баллов и средней оценкой пользователей в 5,8 балла.\n",
    "\n",
    "Аудсайдером является платформа  Wii  - 2 млн. копий (41% мировых продаж для этой платформы). При этом для этой платформы выпущено 11 игры со средней оценкой от игроков в 6,3 балла; критики платформу не оценили в виду новизны последней по состоянию на 2016 год."
   ]
  },
  {
   "cell_type": "markdown",
   "metadata": {},
   "source": [
    "#### Жанр игры"
   ]
  },
  {
   "cell_type": "code",
   "execution_count": 27,
   "metadata": {},
   "outputs": [
    {
     "data": {
      "text/html": [
       "<div>\n",
       "<style scoped>\n",
       "    .dataframe tbody tr th:only-of-type {\n",
       "        vertical-align: middle;\n",
       "    }\n",
       "\n",
       "    .dataframe tbody tr th {\n",
       "        vertical-align: top;\n",
       "    }\n",
       "\n",
       "    .dataframe thead th {\n",
       "        text-align: right;\n",
       "    }\n",
       "</style>\n",
       "<table border=\"1\" class=\"dataframe\">\n",
       "  <thead>\n",
       "    <tr style=\"text-align: right;\">\n",
       "      <th></th>\n",
       "      <th>game_cnt</th>\n",
       "      <th>region_sales_total</th>\n",
       "      <th>world_sales_total</th>\n",
       "      <th>critic_score_avg</th>\n",
       "      <th>user_score_avg</th>\n",
       "      <th>world_sales_share</th>\n",
       "    </tr>\n",
       "    <tr>\n",
       "      <th>genre</th>\n",
       "      <th></th>\n",
       "      <th></th>\n",
       "      <th></th>\n",
       "      <th></th>\n",
       "      <th></th>\n",
       "      <th></th>\n",
       "    </tr>\n",
       "  </thead>\n",
       "  <tbody>\n",
       "    <tr>\n",
       "      <th>Sports</th>\n",
       "      <td>56</td>\n",
       "      <td>14.17</td>\n",
       "      <td>31.43</td>\n",
       "      <td>67.666667</td>\n",
       "      <td>4.363415</td>\n",
       "      <td>0.450843</td>\n",
       "    </tr>\n",
       "    <tr>\n",
       "      <th>Shooter</th>\n",
       "      <td>29</td>\n",
       "      <td>12.73</td>\n",
       "      <td>25.83</td>\n",
       "      <td>63.500000</td>\n",
       "      <td>6.238462</td>\n",
       "      <td>0.492838</td>\n",
       "    </tr>\n",
       "    <tr>\n",
       "      <th>Action</th>\n",
       "      <td>118</td>\n",
       "      <td>12.37</td>\n",
       "      <td>31.62</td>\n",
       "      <td>61.733333</td>\n",
       "      <td>6.442308</td>\n",
       "      <td>0.391208</td>\n",
       "    </tr>\n",
       "    <tr>\n",
       "      <th>Misc</th>\n",
       "      <td>22</td>\n",
       "      <td>4.79</td>\n",
       "      <td>11.10</td>\n",
       "      <td>78.000000</td>\n",
       "      <td>6.655556</td>\n",
       "      <td>0.431532</td>\n",
       "    </tr>\n",
       "    <tr>\n",
       "      <th>Role-Playing</th>\n",
       "      <td>34</td>\n",
       "      <td>3.73</td>\n",
       "      <td>9.39</td>\n",
       "      <td>69.214286</td>\n",
       "      <td>6.642105</td>\n",
       "      <td>0.397231</td>\n",
       "    </tr>\n",
       "  </tbody>\n",
       "</table>\n",
       "</div>"
      ],
      "text/plain": [
       "              game_cnt  region_sales_total  world_sales_total  \\\n",
       "genre                                                           \n",
       "Sports              56               14.17              31.43   \n",
       "Shooter             29               12.73              25.83   \n",
       "Action             118               12.37              31.62   \n",
       "Misc                22                4.79              11.10   \n",
       "Role-Playing        34                3.73               9.39   \n",
       "\n",
       "              critic_score_avg  user_score_avg  world_sales_share  \n",
       "genre                                                              \n",
       "Sports               67.666667        4.363415           0.450843  \n",
       "Shooter              63.500000        6.238462           0.492838  \n",
       "Action               61.733333        6.442308           0.391208  \n",
       "Misc                 78.000000        6.655556           0.431532  \n",
       "Role-Playing         69.214286        6.642105           0.397231  "
      ]
     },
     "execution_count": 27,
     "metadata": {},
     "output_type": "execute_result"
    }
   ],
   "source": [
    "# расчет объемов продаж в разрезе жанров для Северной Америки\n",
    "sales_per_feature_per_region(actual_data, 'genre', 'na_sales')                        "
   ]
  },
  {
   "cell_type": "markdown",
   "metadata": {},
   "source": [
    "Таким образом, жанр Sports - лидер по объему продаж в Северной Америке, - 14 млн. копий реализовано (67% от мирового оборота по жанру), 56 игр выпущено в этом жанре со среднеми оценка в 67 и 4,3 от экспертов и игроков, соответсвенно.\n",
    "\n",
    "Жанр Role-Playing замыкает топ-5 лидеров с 3,7 млн. проданных копий (69% от мирового оборат по жанру), 34 игрs выпущено в жанре со средним оценками критиков и игроков в 69 и 6,6 соответсвенно."
   ]
  },
  {
   "cell_type": "markdown",
   "metadata": {},
   "source": [
    "#### Рейтинг от организации ESRB"
   ]
  },
  {
   "cell_type": "code",
   "execution_count": 28,
   "metadata": {},
   "outputs": [
    {
     "data": {
      "text/html": [
       "<div>\n",
       "<style scoped>\n",
       "    .dataframe tbody tr th:only-of-type {\n",
       "        vertical-align: middle;\n",
       "    }\n",
       "\n",
       "    .dataframe tbody tr th {\n",
       "        vertical-align: top;\n",
       "    }\n",
       "\n",
       "    .dataframe thead th {\n",
       "        text-align: right;\n",
       "    }\n",
       "</style>\n",
       "<table border=\"1\" class=\"dataframe\">\n",
       "  <thead>\n",
       "    <tr style=\"text-align: right;\">\n",
       "      <th></th>\n",
       "      <th>game_cnt</th>\n",
       "      <th>region_sales_total</th>\n",
       "      <th>world_sales_total</th>\n",
       "      <th>critic_score_avg</th>\n",
       "      <th>user_score_avg</th>\n",
       "      <th>world_sales_share</th>\n",
       "    </tr>\n",
       "    <tr>\n",
       "      <th>rating</th>\n",
       "      <th></th>\n",
       "      <th></th>\n",
       "      <th></th>\n",
       "      <th></th>\n",
       "      <th></th>\n",
       "      <th></th>\n",
       "    </tr>\n",
       "  </thead>\n",
       "  <tbody>\n",
       "    <tr>\n",
       "      <th>M</th>\n",
       "      <td>53</td>\n",
       "      <td>14.19</td>\n",
       "      <td>30.57</td>\n",
       "      <td>59.409091</td>\n",
       "      <td>6.194231</td>\n",
       "      <td>0.464181</td>\n",
       "    </tr>\n",
       "    <tr>\n",
       "      <th>E</th>\n",
       "      <td>57</td>\n",
       "      <td>13.09</td>\n",
       "      <td>29.65</td>\n",
       "      <td>67.916667</td>\n",
       "      <td>4.711628</td>\n",
       "      <td>0.441484</td>\n",
       "    </tr>\n",
       "    <tr>\n",
       "      <th>E10+</th>\n",
       "      <td>48</td>\n",
       "      <td>9.70</td>\n",
       "      <td>20.40</td>\n",
       "      <td>65.555556</td>\n",
       "      <td>6.262857</td>\n",
       "      <td>0.475490</td>\n",
       "    </tr>\n",
       "    <tr>\n",
       "      <th>not determined</th>\n",
       "      <td>128</td>\n",
       "      <td>8.96</td>\n",
       "      <td>25.98</td>\n",
       "      <td>NaN</td>\n",
       "      <td>6.816667</td>\n",
       "      <td>0.344881</td>\n",
       "    </tr>\n",
       "    <tr>\n",
       "      <th>T</th>\n",
       "      <td>55</td>\n",
       "      <td>6.49</td>\n",
       "      <td>14.87</td>\n",
       "      <td>70.578947</td>\n",
       "      <td>6.304255</td>\n",
       "      <td>0.436449</td>\n",
       "    </tr>\n",
       "  </tbody>\n",
       "</table>\n",
       "</div>"
      ],
      "text/plain": [
       "                game_cnt  region_sales_total  world_sales_total  \\\n",
       "rating                                                            \n",
       "M                     53               14.19              30.57   \n",
       "E                     57               13.09              29.65   \n",
       "E10+                  48                9.70              20.40   \n",
       "not determined       128                8.96              25.98   \n",
       "T                     55                6.49              14.87   \n",
       "\n",
       "                critic_score_avg  user_score_avg  world_sales_share  \n",
       "rating                                                               \n",
       "M                      59.409091        6.194231           0.464181  \n",
       "E                      67.916667        4.711628           0.441484  \n",
       "E10+                   65.555556        6.262857           0.475490  \n",
       "not determined               NaN        6.816667           0.344881  \n",
       "T                      70.578947        6.304255           0.436449  "
      ]
     },
     "execution_count": 28,
     "metadata": {},
     "output_type": "execute_result"
    }
   ],
   "source": [
    "# расчет объемов продаж в разрезе рейтинга ESRB для Северной Америки\n",
    "sales_per_feature_per_region(actual_data, 'rating', 'na_sales')                        "
   ]
  },
  {
   "cell_type": "markdown",
   "metadata": {},
   "source": [
    "Больше всего продано игр с рейтингом «M» («Mature») — «Для взрослых»: материалы игры не подходят для подростков младше 17 лет. Проекты с данным рейтингом могут содержать достаточно жестокое насилие, большое количество крови с расчленением, непристойные сексуальные сцены или грубую ненормативную лексику, нежелательную для младшей аудитории - 14 млн. копий (46% от общемировых продаж игр с таким рейтингом), всего выпущено 53 игры с таким рейтингом, со средними оценками в 59 и 6,1 от экспертов и игроков соответсвенно.\n",
    "\n",
    "Второе место - игры рейтинга «E» («Everyone») — «Для всех»: содержание вполне подходит для возрастной категории от 6 лет, такие игры могут понравиться и взрослым. Игры с этим рейтингом могут содержать минимальное насилие, в основном «мультяшного» характера - 13 млн. копий (41% от мирового оборота игр с таким рейтингом). Всего выпущено 57 игр рейтинга Е с оценками 68 от критиков и 4,7 от игроков.\n",
    "\n",
    "Третья строчка - игры рейтинга «E10+» («Everyone 10 and older») — «Для всех от 10 лет и старше»: проекты с данным рейтингом могут содержать или немного больше мультипликационного или мягкого насилия, или несколько откровенные сцены, или минимальное количество крови - четвертое место с 9,7 млн. копий.\n",
    "\n",
    "Игры без рейтинга ESRB - 8,9 млн. копий. Самое большое число игр - 128, не получило рейтинг.\n",
    "\n",
    "Замыкает топ-5 занимают игры рейтинга «T» («Teen») — «Подросткам»: игра подходит для лиц от 13 лет. Проекты из данной категории могут содержать насилие, непристойные сцены, грубый юмор, в меру откровенное сексуальное содержимое, кровь или нечастое использование ненормативной лексики - 6,4 млн. копий, при самой высокой оценки критиков в 70 баллов и игроков в 6,3 балла. Выпущено 55 игр."
   ]
  },
  {
   "cell_type": "markdown",
   "metadata": {},
   "source": [
    "###  Европа\n",
    "####   Игровая платформа"
   ]
  },
  {
   "cell_type": "code",
   "execution_count": 29,
   "metadata": {},
   "outputs": [
    {
     "data": {
      "text/html": [
       "<div>\n",
       "<style scoped>\n",
       "    .dataframe tbody tr th:only-of-type {\n",
       "        vertical-align: middle;\n",
       "    }\n",
       "\n",
       "    .dataframe tbody tr th {\n",
       "        vertical-align: top;\n",
       "    }\n",
       "\n",
       "    .dataframe thead th {\n",
       "        text-align: right;\n",
       "    }\n",
       "</style>\n",
       "<table border=\"1\" class=\"dataframe\">\n",
       "  <thead>\n",
       "    <tr style=\"text-align: right;\">\n",
       "      <th></th>\n",
       "      <th>game_cnt</th>\n",
       "      <th>region_sales_total</th>\n",
       "      <th>world_sales_total</th>\n",
       "      <th>critic_score_avg</th>\n",
       "      <th>user_score_avg</th>\n",
       "      <th>world_sales_share</th>\n",
       "    </tr>\n",
       "    <tr>\n",
       "      <th>platform</th>\n",
       "      <th></th>\n",
       "      <th></th>\n",
       "      <th></th>\n",
       "      <th></th>\n",
       "      <th></th>\n",
       "      <th></th>\n",
       "    </tr>\n",
       "  </thead>\n",
       "  <tbody>\n",
       "    <tr>\n",
       "      <th>PS3</th>\n",
       "      <td>219</td>\n",
       "      <td>25.54</td>\n",
       "      <td>68.18</td>\n",
       "      <td>66.555556</td>\n",
       "      <td>6.014286</td>\n",
       "      <td>0.374597</td>\n",
       "    </tr>\n",
       "    <tr>\n",
       "      <th>X360</th>\n",
       "      <td>111</td>\n",
       "      <td>15.49</td>\n",
       "      <td>48.22</td>\n",
       "      <td>63.730769</td>\n",
       "      <td>5.771084</td>\n",
       "      <td>0.321236</td>\n",
       "    </tr>\n",
       "    <tr>\n",
       "      <th>Wii</th>\n",
       "      <td>11</td>\n",
       "      <td>2.59</td>\n",
       "      <td>5.07</td>\n",
       "      <td>NaN</td>\n",
       "      <td>6.350000</td>\n",
       "      <td>0.510848</td>\n",
       "    </tr>\n",
       "  </tbody>\n",
       "</table>\n",
       "</div>"
      ],
      "text/plain": [
       "          game_cnt  region_sales_total  world_sales_total  critic_score_avg  \\\n",
       "platform                                                                      \n",
       "PS3            219               25.54              68.18         66.555556   \n",
       "X360           111               15.49              48.22         63.730769   \n",
       "Wii             11                2.59               5.07               NaN   \n",
       "\n",
       "          user_score_avg  world_sales_share  \n",
       "platform                                     \n",
       "PS3             6.014286           0.374597  \n",
       "X360            5.771084           0.321236  \n",
       "Wii             6.350000           0.510848  "
      ]
     },
     "execution_count": 29,
     "metadata": {},
     "output_type": "execute_result"
    }
   ],
   "source": [
    "# расчет объемов продаж в разрезе платформ для Европы\n",
    "sales_per_feature_per_region(actual_data, 'platform', 'eu_sales')                        "
   ]
  },
  {
   "cell_type": "markdown",
   "metadata": {},
   "source": [
    "Для Европы характерно смещение объемов продаж от X360 к платформt PS3 - лидерe с 25 млн. копий (37% от мировых продаж по платформе. Стоит отметить, что игр для платформ PS3 выпускается больше, чем для прочих популярных платформ - 219 и платформа имеет наивысший средний рейтинг в 66 от критиков и 6,0 от игроков."
   ]
  },
  {
   "cell_type": "markdown",
   "metadata": {},
   "source": [
    "#### Жанр игры"
   ]
  },
  {
   "cell_type": "code",
   "execution_count": 30,
   "metadata": {},
   "outputs": [
    {
     "data": {
      "text/html": [
       "<div>\n",
       "<style scoped>\n",
       "    .dataframe tbody tr th:only-of-type {\n",
       "        vertical-align: middle;\n",
       "    }\n",
       "\n",
       "    .dataframe tbody tr th {\n",
       "        vertical-align: top;\n",
       "    }\n",
       "\n",
       "    .dataframe thead th {\n",
       "        text-align: right;\n",
       "    }\n",
       "</style>\n",
       "<table border=\"1\" class=\"dataframe\">\n",
       "  <thead>\n",
       "    <tr style=\"text-align: right;\">\n",
       "      <th></th>\n",
       "      <th>game_cnt</th>\n",
       "      <th>region_sales_total</th>\n",
       "      <th>world_sales_total</th>\n",
       "      <th>critic_score_avg</th>\n",
       "      <th>user_score_avg</th>\n",
       "      <th>world_sales_share</th>\n",
       "    </tr>\n",
       "    <tr>\n",
       "      <th>genre</th>\n",
       "      <th></th>\n",
       "      <th></th>\n",
       "      <th></th>\n",
       "      <th></th>\n",
       "      <th></th>\n",
       "      <th></th>\n",
       "    </tr>\n",
       "  </thead>\n",
       "  <tbody>\n",
       "    <tr>\n",
       "      <th>Sports</th>\n",
       "      <td>56</td>\n",
       "      <td>12.25</td>\n",
       "      <td>31.43</td>\n",
       "      <td>67.666667</td>\n",
       "      <td>4.363415</td>\n",
       "      <td>0.389755</td>\n",
       "    </tr>\n",
       "    <tr>\n",
       "      <th>Action</th>\n",
       "      <td>118</td>\n",
       "      <td>11.19</td>\n",
       "      <td>31.62</td>\n",
       "      <td>61.733333</td>\n",
       "      <td>6.442308</td>\n",
       "      <td>0.353890</td>\n",
       "    </tr>\n",
       "    <tr>\n",
       "      <th>Shooter</th>\n",
       "      <td>29</td>\n",
       "      <td>9.29</td>\n",
       "      <td>25.83</td>\n",
       "      <td>63.500000</td>\n",
       "      <td>6.238462</td>\n",
       "      <td>0.359659</td>\n",
       "    </tr>\n",
       "    <tr>\n",
       "      <th>Misc</th>\n",
       "      <td>22</td>\n",
       "      <td>4.48</td>\n",
       "      <td>11.10</td>\n",
       "      <td>78.000000</td>\n",
       "      <td>6.655556</td>\n",
       "      <td>0.403604</td>\n",
       "    </tr>\n",
       "    <tr>\n",
       "      <th>Role-Playing</th>\n",
       "      <td>34</td>\n",
       "      <td>2.23</td>\n",
       "      <td>9.39</td>\n",
       "      <td>69.214286</td>\n",
       "      <td>6.642105</td>\n",
       "      <td>0.237487</td>\n",
       "    </tr>\n",
       "  </tbody>\n",
       "</table>\n",
       "</div>"
      ],
      "text/plain": [
       "              game_cnt  region_sales_total  world_sales_total  \\\n",
       "genre                                                           \n",
       "Sports              56               12.25              31.43   \n",
       "Action             118               11.19              31.62   \n",
       "Shooter             29                9.29              25.83   \n",
       "Misc                22                4.48              11.10   \n",
       "Role-Playing        34                2.23               9.39   \n",
       "\n",
       "              critic_score_avg  user_score_avg  world_sales_share  \n",
       "genre                                                              \n",
       "Sports               67.666667        4.363415           0.389755  \n",
       "Action               61.733333        6.442308           0.353890  \n",
       "Shooter              63.500000        6.238462           0.359659  \n",
       "Misc                 78.000000        6.655556           0.403604  \n",
       "Role-Playing         69.214286        6.642105           0.237487  "
      ]
     },
     "execution_count": 30,
     "metadata": {},
     "output_type": "execute_result"
    }
   ],
   "source": [
    "# расчет объемов продаж в разрезе жанров для Северной Америки\n",
    "sales_per_feature_per_region(actual_data, 'genre', 'eu_sales')                        "
   ]
  },
  {
   "cell_type": "markdown",
   "metadata": {},
   "source": [
    "Жанровые предпочтения европейев и американцев схожи. Первое место топ-5 по объему продаж занимает жанр Sports - 12 млн. копий (38% мировых продаж в жанре),  экшн, шутеры, музыкальные и ролевые игры также нашли свое отражение в рейтинги."
   ]
  },
  {
   "cell_type": "markdown",
   "metadata": {},
   "source": [
    "#### Рейтинг от организации ESRB"
   ]
  },
  {
   "cell_type": "code",
   "execution_count": 31,
   "metadata": {},
   "outputs": [
    {
     "data": {
      "text/html": [
       "<div>\n",
       "<style scoped>\n",
       "    .dataframe tbody tr th:only-of-type {\n",
       "        vertical-align: middle;\n",
       "    }\n",
       "\n",
       "    .dataframe tbody tr th {\n",
       "        vertical-align: top;\n",
       "    }\n",
       "\n",
       "    .dataframe thead th {\n",
       "        text-align: right;\n",
       "    }\n",
       "</style>\n",
       "<table border=\"1\" class=\"dataframe\">\n",
       "  <thead>\n",
       "    <tr style=\"text-align: right;\">\n",
       "      <th></th>\n",
       "      <th>game_cnt</th>\n",
       "      <th>region_sales_total</th>\n",
       "      <th>world_sales_total</th>\n",
       "      <th>critic_score_avg</th>\n",
       "      <th>user_score_avg</th>\n",
       "      <th>world_sales_share</th>\n",
       "    </tr>\n",
       "    <tr>\n",
       "      <th>rating</th>\n",
       "      <th></th>\n",
       "      <th></th>\n",
       "      <th></th>\n",
       "      <th></th>\n",
       "      <th></th>\n",
       "      <th></th>\n",
       "    </tr>\n",
       "  </thead>\n",
       "  <tbody>\n",
       "    <tr>\n",
       "      <th>E</th>\n",
       "      <td>57</td>\n",
       "      <td>12.16</td>\n",
       "      <td>29.65</td>\n",
       "      <td>67.916667</td>\n",
       "      <td>4.711628</td>\n",
       "      <td>0.410118</td>\n",
       "    </tr>\n",
       "    <tr>\n",
       "      <th>M</th>\n",
       "      <td>53</td>\n",
       "      <td>11.06</td>\n",
       "      <td>30.57</td>\n",
       "      <td>59.409091</td>\n",
       "      <td>6.194231</td>\n",
       "      <td>0.361793</td>\n",
       "    </tr>\n",
       "    <tr>\n",
       "      <th>E10+</th>\n",
       "      <td>48</td>\n",
       "      <td>8.27</td>\n",
       "      <td>20.40</td>\n",
       "      <td>65.555556</td>\n",
       "      <td>6.262857</td>\n",
       "      <td>0.405392</td>\n",
       "    </tr>\n",
       "    <tr>\n",
       "      <th>not determined</th>\n",
       "      <td>128</td>\n",
       "      <td>8.15</td>\n",
       "      <td>25.98</td>\n",
       "      <td>NaN</td>\n",
       "      <td>6.816667</td>\n",
       "      <td>0.313703</td>\n",
       "    </tr>\n",
       "    <tr>\n",
       "      <th>T</th>\n",
       "      <td>55</td>\n",
       "      <td>3.98</td>\n",
       "      <td>14.87</td>\n",
       "      <td>70.578947</td>\n",
       "      <td>6.304255</td>\n",
       "      <td>0.267653</td>\n",
       "    </tr>\n",
       "  </tbody>\n",
       "</table>\n",
       "</div>"
      ],
      "text/plain": [
       "                game_cnt  region_sales_total  world_sales_total  \\\n",
       "rating                                                            \n",
       "E                     57               12.16              29.65   \n",
       "M                     53               11.06              30.57   \n",
       "E10+                  48                8.27              20.40   \n",
       "not determined       128                8.15              25.98   \n",
       "T                     55                3.98              14.87   \n",
       "\n",
       "                critic_score_avg  user_score_avg  world_sales_share  \n",
       "rating                                                               \n",
       "E                      67.916667        4.711628           0.410118  \n",
       "M                      59.409091        6.194231           0.361793  \n",
       "E10+                   65.555556        6.262857           0.405392  \n",
       "not determined               NaN        6.816667           0.313703  \n",
       "T                      70.578947        6.304255           0.267653  "
      ]
     },
     "execution_count": 31,
     "metadata": {},
     "output_type": "execute_result"
    }
   ],
   "source": [
    "# расчет объемов продаж в разрезе рейтинга ESRB для Северной Америки\n",
    "sales_per_feature_per_region(actual_data, 'rating', 'eu_sales')                        "
   ]
  },
  {
   "cell_type": "markdown",
   "metadata": {},
   "source": [
    "Аналогичная ситуация по рейтинговому топу, с отличаем по первым двум позициям, для европейцев большей интерес представляют игры с рейтингом Е, а не М, как для американцев."
   ]
  },
  {
   "cell_type": "markdown",
   "metadata": {},
   "source": [
    "### Япония\n",
    "#### Игровая платформа"
   ]
  },
  {
   "cell_type": "code",
   "execution_count": 32,
   "metadata": {},
   "outputs": [
    {
     "data": {
      "text/html": [
       "<div>\n",
       "<style scoped>\n",
       "    .dataframe tbody tr th:only-of-type {\n",
       "        vertical-align: middle;\n",
       "    }\n",
       "\n",
       "    .dataframe tbody tr th {\n",
       "        vertical-align: top;\n",
       "    }\n",
       "\n",
       "    .dataframe thead th {\n",
       "        text-align: right;\n",
       "    }\n",
       "</style>\n",
       "<table border=\"1\" class=\"dataframe\">\n",
       "  <thead>\n",
       "    <tr style=\"text-align: right;\">\n",
       "      <th></th>\n",
       "      <th>game_cnt</th>\n",
       "      <th>region_sales_total</th>\n",
       "      <th>world_sales_total</th>\n",
       "      <th>critic_score_avg</th>\n",
       "      <th>user_score_avg</th>\n",
       "      <th>world_sales_share</th>\n",
       "    </tr>\n",
       "    <tr>\n",
       "      <th>platform</th>\n",
       "      <th></th>\n",
       "      <th></th>\n",
       "      <th></th>\n",
       "      <th></th>\n",
       "      <th></th>\n",
       "      <th></th>\n",
       "    </tr>\n",
       "  </thead>\n",
       "  <tbody>\n",
       "    <tr>\n",
       "      <th>PS3</th>\n",
       "      <td>219</td>\n",
       "      <td>11.22</td>\n",
       "      <td>68.18</td>\n",
       "      <td>66.555556</td>\n",
       "      <td>6.014286</td>\n",
       "      <td>0.164564</td>\n",
       "    </tr>\n",
       "    <tr>\n",
       "      <th>X360</th>\n",
       "      <td>111</td>\n",
       "      <td>0.08</td>\n",
       "      <td>48.22</td>\n",
       "      <td>63.730769</td>\n",
       "      <td>5.771084</td>\n",
       "      <td>0.001659</td>\n",
       "    </tr>\n",
       "    <tr>\n",
       "      <th>Wii</th>\n",
       "      <td>11</td>\n",
       "      <td>0.00</td>\n",
       "      <td>5.07</td>\n",
       "      <td>NaN</td>\n",
       "      <td>6.350000</td>\n",
       "      <td>0.000000</td>\n",
       "    </tr>\n",
       "  </tbody>\n",
       "</table>\n",
       "</div>"
      ],
      "text/plain": [
       "          game_cnt  region_sales_total  world_sales_total  critic_score_avg  \\\n",
       "platform                                                                      \n",
       "PS3            219               11.22              68.18         66.555556   \n",
       "X360           111                0.08              48.22         63.730769   \n",
       "Wii             11                0.00               5.07               NaN   \n",
       "\n",
       "          user_score_avg  world_sales_share  \n",
       "platform                                     \n",
       "PS3             6.014286           0.164564  \n",
       "X360            5.771084           0.001659  \n",
       "Wii             6.350000           0.000000  "
      ]
     },
     "execution_count": 32,
     "metadata": {},
     "output_type": "execute_result"
    }
   ],
   "source": [
    "# расчет объемов продаж в разрезе платформ для Японии\n",
    "sales_per_feature_per_region(actual_data, 'platform', 'jp_sales')                        "
   ]
  },
  {
   "cell_type": "markdown",
   "metadata": {},
   "source": [
    "По платформенным предпочтениям, японцы схожи с европейцами - PS3, - явный лидер с 11 млн. проданных копий (16% мирового рынка по платформе). Средние рейтинги игр платформы в Японии также высоки, как и в Европе, - 66 от критиков и 6,0 от игроков. Выпущено 219 игр. \n",
    "\n",
    "Хуже продатся игры на платформе Wii."
   ]
  },
  {
   "cell_type": "markdown",
   "metadata": {},
   "source": [
    "#### Жанр игры"
   ]
  },
  {
   "cell_type": "code",
   "execution_count": 33,
   "metadata": {},
   "outputs": [
    {
     "data": {
      "text/html": [
       "<div>\n",
       "<style scoped>\n",
       "    .dataframe tbody tr th:only-of-type {\n",
       "        vertical-align: middle;\n",
       "    }\n",
       "\n",
       "    .dataframe tbody tr th {\n",
       "        vertical-align: top;\n",
       "    }\n",
       "\n",
       "    .dataframe thead th {\n",
       "        text-align: right;\n",
       "    }\n",
       "</style>\n",
       "<table border=\"1\" class=\"dataframe\">\n",
       "  <thead>\n",
       "    <tr style=\"text-align: right;\">\n",
       "      <th></th>\n",
       "      <th>game_cnt</th>\n",
       "      <th>region_sales_total</th>\n",
       "      <th>world_sales_total</th>\n",
       "      <th>critic_score_avg</th>\n",
       "      <th>user_score_avg</th>\n",
       "      <th>world_sales_share</th>\n",
       "    </tr>\n",
       "    <tr>\n",
       "      <th>genre</th>\n",
       "      <th></th>\n",
       "      <th></th>\n",
       "      <th></th>\n",
       "      <th></th>\n",
       "      <th></th>\n",
       "      <th></th>\n",
       "    </tr>\n",
       "  </thead>\n",
       "  <tbody>\n",
       "    <tr>\n",
       "      <th>Action</th>\n",
       "      <td>118</td>\n",
       "      <td>4.67</td>\n",
       "      <td>31.62</td>\n",
       "      <td>61.733333</td>\n",
       "      <td>6.442308</td>\n",
       "      <td>0.147691</td>\n",
       "    </tr>\n",
       "    <tr>\n",
       "      <th>Role-Playing</th>\n",
       "      <td>34</td>\n",
       "      <td>2.46</td>\n",
       "      <td>9.39</td>\n",
       "      <td>69.214286</td>\n",
       "      <td>6.642105</td>\n",
       "      <td>0.261981</td>\n",
       "    </tr>\n",
       "    <tr>\n",
       "      <th>Fighting</th>\n",
       "      <td>22</td>\n",
       "      <td>1.36</td>\n",
       "      <td>3.55</td>\n",
       "      <td>65.750000</td>\n",
       "      <td>6.800000</td>\n",
       "      <td>0.383099</td>\n",
       "    </tr>\n",
       "    <tr>\n",
       "      <th>Sports</th>\n",
       "      <td>56</td>\n",
       "      <td>1.10</td>\n",
       "      <td>31.43</td>\n",
       "      <td>67.666667</td>\n",
       "      <td>4.363415</td>\n",
       "      <td>0.034998</td>\n",
       "    </tr>\n",
       "    <tr>\n",
       "      <th>Shooter</th>\n",
       "      <td>29</td>\n",
       "      <td>0.66</td>\n",
       "      <td>25.83</td>\n",
       "      <td>63.500000</td>\n",
       "      <td>6.238462</td>\n",
       "      <td>0.025552</td>\n",
       "    </tr>\n",
       "  </tbody>\n",
       "</table>\n",
       "</div>"
      ],
      "text/plain": [
       "              game_cnt  region_sales_total  world_sales_total  \\\n",
       "genre                                                           \n",
       "Action             118                4.67              31.62   \n",
       "Role-Playing        34                2.46               9.39   \n",
       "Fighting            22                1.36               3.55   \n",
       "Sports              56                1.10              31.43   \n",
       "Shooter             29                0.66              25.83   \n",
       "\n",
       "              critic_score_avg  user_score_avg  world_sales_share  \n",
       "genre                                                              \n",
       "Action               61.733333        6.442308           0.147691  \n",
       "Role-Playing         69.214286        6.642105           0.261981  \n",
       "Fighting             65.750000        6.800000           0.383099  \n",
       "Sports               67.666667        4.363415           0.034998  \n",
       "Shooter              63.500000        6.238462           0.025552  "
      ]
     },
     "execution_count": 33,
     "metadata": {},
     "output_type": "execute_result"
    }
   ],
   "source": [
    "# расчет объемов продаж в разрезе жанров для Японии\n",
    "sales_per_feature_per_region(actual_data, 'genre', 'jp_sales')                        "
   ]
  },
  {
   "cell_type": "markdown",
   "metadata": {},
   "source": [
    "По жанрам игр Япония не похожа ни на Европу ни на Северную Америку. Лидер - экшн игры, - 4,6 млн. копий продано (14% от мирового оборота по жанру), кроме того для Японии характерен жанр ролевых игр, с наивышим средним рейтингом от экспертов в 69 баллов и игроков в 6,6 баллов (2,4 млн. копий, 26% мирового оборота) и файтинг (1,3 млн. копий, 38% мирового оборота).\n",
    "\n",
    "А вот полпулярные среди американцев спортивные игры и шутеры, наоборот, хуже всего продаются именно в Японии, - 1,1 млн. копий и 660 тыс. копий соответсвенно."
   ]
  },
  {
   "cell_type": "markdown",
   "metadata": {},
   "source": [
    "#### Рейтинг от организации ESRB"
   ]
  },
  {
   "cell_type": "code",
   "execution_count": 34,
   "metadata": {},
   "outputs": [
    {
     "data": {
      "text/html": [
       "<div>\n",
       "<style scoped>\n",
       "    .dataframe tbody tr th:only-of-type {\n",
       "        vertical-align: middle;\n",
       "    }\n",
       "\n",
       "    .dataframe tbody tr th {\n",
       "        vertical-align: top;\n",
       "    }\n",
       "\n",
       "    .dataframe thead th {\n",
       "        text-align: right;\n",
       "    }\n",
       "</style>\n",
       "<table border=\"1\" class=\"dataframe\">\n",
       "  <thead>\n",
       "    <tr style=\"text-align: right;\">\n",
       "      <th></th>\n",
       "      <th>game_cnt</th>\n",
       "      <th>region_sales_total</th>\n",
       "      <th>world_sales_total</th>\n",
       "      <th>critic_score_avg</th>\n",
       "      <th>user_score_avg</th>\n",
       "      <th>world_sales_share</th>\n",
       "    </tr>\n",
       "    <tr>\n",
       "      <th>rating</th>\n",
       "      <th></th>\n",
       "      <th></th>\n",
       "      <th></th>\n",
       "      <th></th>\n",
       "      <th></th>\n",
       "      <th></th>\n",
       "    </tr>\n",
       "  </thead>\n",
       "  <tbody>\n",
       "    <tr>\n",
       "      <th>not determined</th>\n",
       "      <td>128</td>\n",
       "      <td>6.11</td>\n",
       "      <td>25.98</td>\n",
       "      <td>NaN</td>\n",
       "      <td>6.816667</td>\n",
       "      <td>0.235181</td>\n",
       "    </tr>\n",
       "    <tr>\n",
       "      <th>T</th>\n",
       "      <td>55</td>\n",
       "      <td>2.79</td>\n",
       "      <td>14.87</td>\n",
       "      <td>70.578947</td>\n",
       "      <td>6.304255</td>\n",
       "      <td>0.187626</td>\n",
       "    </tr>\n",
       "    <tr>\n",
       "      <th>M</th>\n",
       "      <td>53</td>\n",
       "      <td>1.61</td>\n",
       "      <td>30.57</td>\n",
       "      <td>59.409091</td>\n",
       "      <td>6.194231</td>\n",
       "      <td>0.052666</td>\n",
       "    </tr>\n",
       "    <tr>\n",
       "      <th>E</th>\n",
       "      <td>57</td>\n",
       "      <td>0.65</td>\n",
       "      <td>29.65</td>\n",
       "      <td>67.916667</td>\n",
       "      <td>4.711628</td>\n",
       "      <td>0.021922</td>\n",
       "    </tr>\n",
       "    <tr>\n",
       "      <th>E10+</th>\n",
       "      <td>48</td>\n",
       "      <td>0.14</td>\n",
       "      <td>20.40</td>\n",
       "      <td>65.555556</td>\n",
       "      <td>6.262857</td>\n",
       "      <td>0.006863</td>\n",
       "    </tr>\n",
       "  </tbody>\n",
       "</table>\n",
       "</div>"
      ],
      "text/plain": [
       "                game_cnt  region_sales_total  world_sales_total  \\\n",
       "rating                                                            \n",
       "not determined       128                6.11              25.98   \n",
       "T                     55                2.79              14.87   \n",
       "M                     53                1.61              30.57   \n",
       "E                     57                0.65              29.65   \n",
       "E10+                  48                0.14              20.40   \n",
       "\n",
       "                critic_score_avg  user_score_avg  world_sales_share  \n",
       "rating                                                               \n",
       "not determined               NaN        6.816667           0.235181  \n",
       "T                      70.578947        6.304255           0.187626  \n",
       "M                      59.409091        6.194231           0.052666  \n",
       "E                      67.916667        4.711628           0.021922  \n",
       "E10+                   65.555556        6.262857           0.006863  "
      ]
     },
     "execution_count": 34,
     "metadata": {},
     "output_type": "execute_result"
    }
   ],
   "source": [
    "# расчет объемов продаж в разрезе рейтинга ESRB для Японии\n",
    "sales_per_feature_per_region(actual_data, 'rating', 'jp_sales')                        "
   ]
  },
  {
   "cell_type": "markdown",
   "metadata": {},
   "source": [
    "Рейтинги ESRB и оценка экспертов меньше всего отражают потребительские предпочтения японцев. Лучшие продажи у игров без рейтинга и не оцененных критиками, - 6,1 млн. копий (23% игр без рейтинга).\n",
    "\n",
    "Более низкие ступени топа занимают схожие с американцами и европейцами рейтинги Т, М и Е."
   ]
  },
  {
   "cell_type": "markdown",
   "metadata": {},
   "source": [
    "### Выводы по исследованию поведения игроков"
   ]
  },
  {
   "cell_type": "markdown",
   "metadata": {},
   "source": [
    "В ходе составления портрета игроков по регионам рассмотрены предпочтения пользоватлей в разрезе платформ, жанров и содерания игр.\n",
    "\n",
    "Так, для северо-американский потребетилей определены следующие паттерны: \n",
    "- предпочитают платформу X360; \n",
    "- жанры спорт,шутеры и экшн;\n",
    "- игры для взрослых.\n",
    "\n",
    "Европейцы:\n",
    "- отдают предпочтение платформам PS;\n",
    "- жанрам спорт, экшн и шутеры;\n",
    "- игры общей игровой аудитории.\n",
    "\n",
    "Япония:\n",
    "- платформа PS;\n",
    "- жанр - экшн и спеифические файтинг и ролевые игры;\n",
    "- игры вне рейтинга ESRB."
   ]
  },
  {
   "cell_type": "markdown",
   "metadata": {},
   "source": [
    "## Проверка гипотез\n",
    "\n",
    "Визуализируем выборочные распределения пользовательстких рейтингов, определим критерий для проверки гипотез, сформулируем допущения, нулевую и альтернатуивную гипотезы."
   ]
  },
  {
   "cell_type": "markdown",
   "metadata": {},
   "source": [
    "### Средние пользовательские рейтинги платформ Xbox One и PС одинаковые"
   ]
  },
  {
   "cell_type": "code",
   "execution_count": 35,
   "metadata": {},
   "outputs": [
    {
     "data": {
      "image/png": "[encoded data removed]",
      "text/plain": [
       "<Figure size 1080x432 with 1 Axes>"
      ]
     },
     "metadata": {
      "needs_background": "light"
     },
     "output_type": "display_data"
    },
    {
     "data": {
      "text/html": [
       "<div>\n",
       "<style scoped>\n",
       "    .dataframe tbody tr th:only-of-type {\n",
       "        vertical-align: middle;\n",
       "    }\n",
       "\n",
       "    .dataframe tbody tr th {\n",
       "        vertical-align: top;\n",
       "    }\n",
       "\n",
       "    .dataframe thead th {\n",
       "        text-align: right;\n",
       "    }\n",
       "</style>\n",
       "<table border=\"1\" class=\"dataframe\">\n",
       "  <thead>\n",
       "    <tr style=\"text-align: right;\">\n",
       "      <th></th>\n",
       "      <th>XOne_summary</th>\n",
       "    </tr>\n",
       "  </thead>\n",
       "  <tbody>\n",
       "    <tr>\n",
       "      <th>count</th>\n",
       "      <td>182.000000</td>\n",
       "    </tr>\n",
       "    <tr>\n",
       "      <th>mean</th>\n",
       "      <td>6.521429</td>\n",
       "    </tr>\n",
       "    <tr>\n",
       "      <th>std</th>\n",
       "      <td>1.380941</td>\n",
       "    </tr>\n",
       "    <tr>\n",
       "      <th>min</th>\n",
       "      <td>1.600000</td>\n",
       "    </tr>\n",
       "    <tr>\n",
       "      <th>25%</th>\n",
       "      <td>5.800000</td>\n",
       "    </tr>\n",
       "    <tr>\n",
       "      <th>50%</th>\n",
       "      <td>6.800000</td>\n",
       "    </tr>\n",
       "    <tr>\n",
       "      <th>75%</th>\n",
       "      <td>7.500000</td>\n",
       "    </tr>\n",
       "    <tr>\n",
       "      <th>max</th>\n",
       "      <td>9.200000</td>\n",
       "    </tr>\n",
       "  </tbody>\n",
       "</table>\n",
       "</div>"
      ],
      "text/plain": [
       "       XOne_summary\n",
       "count    182.000000\n",
       "mean       6.521429\n",
       "std        1.380941\n",
       "min        1.600000\n",
       "25%        5.800000\n",
       "50%        6.800000\n",
       "75%        7.500000\n",
       "max        9.200000"
      ]
     },
     "metadata": {},
     "output_type": "display_data"
    },
    {
     "data": {
      "text/html": [
       "<div>\n",
       "<style scoped>\n",
       "    .dataframe tbody tr th:only-of-type {\n",
       "        vertical-align: middle;\n",
       "    }\n",
       "\n",
       "    .dataframe tbody tr th {\n",
       "        vertical-align: top;\n",
       "    }\n",
       "\n",
       "    .dataframe thead th {\n",
       "        text-align: right;\n",
       "    }\n",
       "</style>\n",
       "<table border=\"1\" class=\"dataframe\">\n",
       "  <thead>\n",
       "    <tr style=\"text-align: right;\">\n",
       "      <th></th>\n",
       "      <th>PC_summary</th>\n",
       "    </tr>\n",
       "  </thead>\n",
       "  <tbody>\n",
       "    <tr>\n",
       "      <th>count</th>\n",
       "      <td>770.000000</td>\n",
       "    </tr>\n",
       "    <tr>\n",
       "      <th>mean</th>\n",
       "      <td>7.062468</td>\n",
       "    </tr>\n",
       "    <tr>\n",
       "      <th>std</th>\n",
       "      <td>1.529963</td>\n",
       "    </tr>\n",
       "    <tr>\n",
       "      <th>min</th>\n",
       "      <td>1.400000</td>\n",
       "    </tr>\n",
       "    <tr>\n",
       "      <th>25%</th>\n",
       "      <td>6.200000</td>\n",
       "    </tr>\n",
       "    <tr>\n",
       "      <th>50%</th>\n",
       "      <td>7.500000</td>\n",
       "    </tr>\n",
       "    <tr>\n",
       "      <th>75%</th>\n",
       "      <td>8.200000</td>\n",
       "    </tr>\n",
       "    <tr>\n",
       "      <th>max</th>\n",
       "      <td>9.300000</td>\n",
       "    </tr>\n",
       "  </tbody>\n",
       "</table>\n",
       "</div>"
      ],
      "text/plain": [
       "       PC_summary\n",
       "count  770.000000\n",
       "mean     7.062468\n",
       "std      1.529963\n",
       "min      1.400000\n",
       "25%      6.200000\n",
       "50%      7.500000\n",
       "75%      8.200000\n",
       "max      9.300000"
      ]
     },
     "metadata": {},
     "output_type": "display_data"
    }
   ],
   "source": [
    "# визуализация пользовательсикх рейтингов платформ Xbox One и PC\n",
    "plt.figure(figsize=(15, 6))\n",
    "\n",
    "plt.hist(df[df['platform'] == 'PC']['user_score'], \n",
    "         alpha=0.5, \n",
    "         bins=40, \n",
    "         label='PC_user_score_distribution')\n",
    "\n",
    "plt.hist(df[df['platform'] == 'XOne']['user_score'], \n",
    "         alpha=0.5, \n",
    "         bins=40, \n",
    "         label='XOne_user_score_distribution')\n",
    "\n",
    "plt.axvline(df[df['platform'] == 'XOne']['user_score'].mean(),\n",
    "           color='r', \n",
    "            linestyle='dashed', \n",
    "            linewidth=1, \n",
    "            label='XOne_user_score_mean')\n",
    "\n",
    "plt.axvline(df[df['platform'] == 'PC']['user_score'].mean(),\n",
    "           color='b', \n",
    "            linestyle='dashed', \n",
    "            linewidth=1, \n",
    "            label='PC_user_score_mean')\n",
    "\n",
    "plt.title('Распределения пользовательских оценок платформ Xbox One и PC', fontsize=15)\n",
    "plt.legend()\n",
    "plt.show()\n",
    "\n",
    "# статистики распределений пользовательских оценок платформ Xbox One и PC\n",
    "display(df[df['platform'] == 'XOne'][['user_score']]\n",
    "        .describe()\n",
    "        .rename({'user_score': 'XOne_summary'}, axis=1))\n",
    "\n",
    "display(df[df['platform'] == 'PC'][['user_score']]\n",
    "        .describe()\n",
    "        .rename({'user_score': 'PC_summary'}, axis=1))"
   ]
  },
  {
   "cell_type": "markdown",
   "metadata": {},
   "source": [
    "Итак, статистической проверки подлежат выборки пользовательских оценок игр, выпущенных на платформах Xbox One и PC.\n",
    "\n",
    "Выборка пользовательских оценок для платформы РС представлена 770 наблюдениями, со средним значением в 7 и стандартным отклонением в 1,5.\n",
    "\n",
    "Выборка пользовательских оценок для платформы XOne представлена 182 наблюдениями, со средним значением в 6,5 и стандартным отклонением в 1,4.\n",
    "\n",
    "Оба распредления не имеют выбросов. Наблюдений достаточно. Будем исходить из предпосылки о независимости выборок, - игроки на РС и игроки на XOne - не связанные наблюдения. Даное предполжение сделаем исходя из того, что для разных платформ выходят разные игры в разное время и польщователи не имеют возможности поиграть в одну и туже игру в одно время, но на различных платформах. Таким образом, для проверки гипотезы представляется возможным использователь t-тест, с уловием неравенста дисперсий (тест Уэлча) - в виду различного характера платформ и выпускаемым для этих платформ игр, а также двусторонний характер проверки гипотезы - средние пользовательские оценки могут разниться, как в большую, так и в меньшую стороны. В виду достаточного количества наблюдений, допущение t-теста о необходимости нормального распределения средних величин будет также выполнено (согласно теореме Центрального предела).\n",
    "\n",
    "Таким образом, нулевая гипотеза следующая (Н0): средние пользовательские рейтинги платформы Xbox One равны средним пользовательсикм рейтингам платформы PС.\n",
    "\n",
    "Альтернатия гипотеза сформулирована следующим образом(Н1): средние пользовательские рейтинги платформы Xbox One не равны средним пользовательсикм рейтингам платформы PС.\n",
    "\n",
    "Определим зону критической значимости в 0,05."
   ]
  },
  {
   "cell_type": "code",
   "execution_count": 36,
   "metadata": {},
   "outputs": [
    {
     "name": "stdout",
     "output_type": "stream",
     "text": [
      "p_value: 4.935072360183565e-06\n"
     ]
    }
   ],
   "source": [
    "# двусторонний t-test для независимых выборок\n",
    "print('p_value:', st.ttest_ind(df[df['platform'] == 'XOne']['user_score'].dropna(),\n",
    "             df[df['platform'] == 'PC']['user_score'].dropna(), \n",
    "             equal_var=False, \n",
    "             alternative='two-sided').pvalue)"
   ]
  },
  {
   "cell_type": "markdown",
   "metadata": {},
   "source": [
    "Итак, полученное в результате t-теста значение p-value меньше заявленного погорового значения alpha. Таким образом, есть основания отклонить H0. Таким образом, средние пользовательские рейтинги платформы Xbox One и PС статистически-значимо отличаются."
   ]
  },
  {
   "cell_type": "markdown",
   "metadata": {},
   "source": [
    "### Средние пользовательские рейтинги жанров Action и Sports разные"
   ]
  },
  {
   "cell_type": "code",
   "execution_count": 37,
   "metadata": {},
   "outputs": [
    {
     "data": {
      "image/png": "[encoded data removed]",
      "text/plain": [
       "<Figure size 1080x432 with 1 Axes>"
      ]
     },
     "metadata": {
      "needs_background": "light"
     },
     "output_type": "display_data"
    },
    {
     "data": {
      "text/html": [
       "<div>\n",
       "<style scoped>\n",
       "    .dataframe tbody tr th:only-of-type {\n",
       "        vertical-align: middle;\n",
       "    }\n",
       "\n",
       "    .dataframe tbody tr th {\n",
       "        vertical-align: top;\n",
       "    }\n",
       "\n",
       "    .dataframe thead th {\n",
       "        text-align: right;\n",
       "    }\n",
       "</style>\n",
       "<table border=\"1\" class=\"dataframe\">\n",
       "  <thead>\n",
       "    <tr style=\"text-align: right;\">\n",
       "      <th></th>\n",
       "      <th>Action_summary</th>\n",
       "    </tr>\n",
       "  </thead>\n",
       "  <tbody>\n",
       "    <tr>\n",
       "      <th>count</th>\n",
       "      <td>1830.000000</td>\n",
       "    </tr>\n",
       "    <tr>\n",
       "      <th>mean</th>\n",
       "      <td>7.054044</td>\n",
       "    </tr>\n",
       "    <tr>\n",
       "      <th>std</th>\n",
       "      <td>1.425394</td>\n",
       "    </tr>\n",
       "    <tr>\n",
       "      <th>min</th>\n",
       "      <td>0.300000</td>\n",
       "    </tr>\n",
       "    <tr>\n",
       "      <th>25%</th>\n",
       "      <td>6.300000</td>\n",
       "    </tr>\n",
       "    <tr>\n",
       "      <th>50%</th>\n",
       "      <td>7.400000</td>\n",
       "    </tr>\n",
       "    <tr>\n",
       "      <th>75%</th>\n",
       "      <td>8.100000</td>\n",
       "    </tr>\n",
       "    <tr>\n",
       "      <th>max</th>\n",
       "      <td>9.500000</td>\n",
       "    </tr>\n",
       "  </tbody>\n",
       "</table>\n",
       "</div>"
      ],
      "text/plain": [
       "       Action_summary\n",
       "count     1830.000000\n",
       "mean         7.054044\n",
       "std          1.425394\n",
       "min          0.300000\n",
       "25%          6.300000\n",
       "50%          7.400000\n",
       "75%          8.100000\n",
       "max          9.500000"
      ]
     },
     "metadata": {},
     "output_type": "display_data"
    },
    {
     "data": {
      "text/html": [
       "<div>\n",
       "<style scoped>\n",
       "    .dataframe tbody tr th:only-of-type {\n",
       "        vertical-align: middle;\n",
       "    }\n",
       "\n",
       "    .dataframe tbody tr th {\n",
       "        vertical-align: top;\n",
       "    }\n",
       "\n",
       "    .dataframe thead th {\n",
       "        text-align: right;\n",
       "    }\n",
       "</style>\n",
       "<table border=\"1\" class=\"dataframe\">\n",
       "  <thead>\n",
       "    <tr style=\"text-align: right;\">\n",
       "      <th></th>\n",
       "      <th>Sports_summary</th>\n",
       "    </tr>\n",
       "  </thead>\n",
       "  <tbody>\n",
       "    <tr>\n",
       "      <th>count</th>\n",
       "      <td>1103.000000</td>\n",
       "    </tr>\n",
       "    <tr>\n",
       "      <th>mean</th>\n",
       "      <td>6.961197</td>\n",
       "    </tr>\n",
       "    <tr>\n",
       "      <th>std</th>\n",
       "      <td>1.611370</td>\n",
       "    </tr>\n",
       "    <tr>\n",
       "      <th>min</th>\n",
       "      <td>0.200000</td>\n",
       "    </tr>\n",
       "    <tr>\n",
       "      <th>25%</th>\n",
       "      <td>6.100000</td>\n",
       "    </tr>\n",
       "    <tr>\n",
       "      <th>50%</th>\n",
       "      <td>7.400000</td>\n",
       "    </tr>\n",
       "    <tr>\n",
       "      <th>75%</th>\n",
       "      <td>8.100000</td>\n",
       "    </tr>\n",
       "    <tr>\n",
       "      <th>max</th>\n",
       "      <td>9.500000</td>\n",
       "    </tr>\n",
       "  </tbody>\n",
       "</table>\n",
       "</div>"
      ],
      "text/plain": [
       "       Sports_summary\n",
       "count     1103.000000\n",
       "mean         6.961197\n",
       "std          1.611370\n",
       "min          0.200000\n",
       "25%          6.100000\n",
       "50%          7.400000\n",
       "75%          8.100000\n",
       "max          9.500000"
      ]
     },
     "metadata": {},
     "output_type": "display_data"
    }
   ],
   "source": [
    "# визуализация пользовательсикх рейтингов платформ Xbox One и PS\n",
    "plt.figure(figsize=(15, 6))\n",
    "\n",
    "plt.hist(df[df['genre'] == 'Action']['user_score'], \n",
    "         alpha=0.5, \n",
    "         bins=40, \n",
    "         label='Action_user_score_distribution')\n",
    "\n",
    "plt.hist(df[df['genre'] == 'Sports']['user_score'], \n",
    "         alpha=0.5, \n",
    "         bins=40, \n",
    "         label='Sports_user_score_distribution')\n",
    "\n",
    "plt.axvline(df[df['genre'] == 'Action']['user_score'].mean(),\n",
    "            color='b', \n",
    "            linestyle='dashed', \n",
    "            linewidth=1, \n",
    "            label='Action_user_score_mean')\n",
    "\n",
    "plt.axvline(df[df['genre'] == 'Sports']['user_score'].mean(),\n",
    "            color='r', \n",
    "            linestyle='dashed', \n",
    "            linewidth=1, \n",
    "            label='Sports_user_score_mean')\n",
    "\n",
    "plt.title('Распределения пользовательских оценок жанров Action и Sports', fontsize=15)\n",
    "plt.legend()\n",
    "plt.show()\n",
    "\n",
    "# статистики распределений пользовательских оценок жанров Action и Sports\n",
    "display(df[df['genre'] == 'Action'][['user_score']]\n",
    "        .describe()\n",
    "        .rename({'user_score': 'Action_summary'}, axis=1))\n",
    "\n",
    "display(df[df['genre'] == 'Sports'][['user_score']]\n",
    "        .describe()\n",
    "        .rename({'user_score': 'Sports_summary'}, axis=1))"
   ]
  },
  {
   "cell_type": "markdown",
   "metadata": {},
   "source": [
    "Выборка экшн-жанра представлена 1830 наблюдениями со средним значением в 7 и стандартным отклонением в 1,4. Выборка спортивных игр представлена 1103 наблюдениями со средним значением в 6,9 и стандартным отклонением в 1,6.\n",
    "\n",
    "Для статистической проверки гипотез будем испольщовать t-тест, по идентичным с проверкой различий пользовательсикх оценок в разрезе платформ причинам.\n",
    "\n",
    "Гипотезы:\n",
    "\n",
    "Н0: средние пользовательские рейтинги жанра Action равны средним пользовательским рейтингам жанра Sports;\n",
    "\n",
    "Н1: средние пользовательские рейтинги жанра Action не равны средним пользовательским рейтингам жанра Sports.\n",
    "\n",
    "Пороговое значние критической зоны значимости:\n",
    "\n",
    "alpha=0,05."
   ]
  },
  {
   "cell_type": "code",
   "execution_count": 38,
   "metadata": {},
   "outputs": [
    {
     "name": "stdout",
     "output_type": "stream",
     "text": [
      "p_value: 0.11483818791498286\n"
     ]
    }
   ],
   "source": [
    "# двусторонний t-test для независимых выборок\n",
    "print('p_value:', st.ttest_ind(df[df['genre'] == 'Action']['user_score'].dropna(),\n",
    "             df[df['genre'] == 'Sports']['user_score'].dropna(), \n",
    "             equal_var=False, \n",
    "             alternative='two-sided').pvalue)"
   ]
  },
  {
   "cell_type": "markdown",
   "metadata": {},
   "source": [
    "Расчетное p-value превышает определенное пороговое значение alpha. Таким образом, оснований отклонить нулевую гипотез нет. Таким образом, статетистически значимые различий между пользовательскими оценками игр жанров экшн и спортивных игр отсутствуют."
   ]
  },
  {
   "cell_type": "markdown",
   "metadata": {},
   "source": [
    "### Выводы по результатам проверки гипотез\n",
    "\n",
    "Требовалось проверить статистическую значимость различий оценок игроков в разрезе платформ (XOne и PC), в разрезе жанров (Action и Sports).\n",
    "\n",
    "Для проверки различий использовались среднии оценки и параметрический тест.\n",
    "\n",
    "Так, пользовательские оценки игр в разрезе платформ XOne и PC статистически значимо различаются: игроки по разному оценивают игры выпущенные на платформах XOne и PC.\n",
    "\n",
    "Пользовательские оценки жанров Action и Sports статисчески значимо не отличаются: игроки одинаково оценивают игры жанров Action и Sports."
   ]
  },
  {
   "cell_type": "markdown",
   "metadata": {},
   "source": [
    "## Выводы по результатам исследования\n",
    "\n",
    "В ходе исследования требовалось выделить паттерны успешности продукта на примере компьтерных игр. Мерой успешности продукта автор работы посчитал объем продаж\n",
    "\n",
    "Определяющие закономерности выявлялись аналитическим путем в динамике по годам, регионам продаж, игровым платформам, жанрам, оценкам пользователей и критиков, а также рейтинга ESRB. Составлены портреты пользователей по регионам продаж. Проверены гипотезы о различиях в пользовательсикх оценках игр в разрезе двух платформ и двух жанров.\n",
    "\n",
    "Проведенным анализом установлено следующее:\n",
    "\n",
    "1. Рост рынка видеоигр произошел в 1996 году с пиком в 2008 году и плавным спадом к 2016 году.\n",
    "2. Лидером среди рынков сбыта за весь анализируемый период является Севеная Америка, аутсайдером - Япония.\n",
    "3. Максимальные объемы продаж игр омечены на следующих платформах - DS, PS, PS2, PS3, Wii, X360, при этом платформа DS характерна для Японии, прочие выделенные платформы популярны во всех представленных регионах.\n",
    "4. Исходя из объема реализации игр, выделены актуальные данные для дальнейшего анализа - горизонт анализа - 2014 год, игровые платформы: PS3, Wii, X360.\n",
    "5. На примере платформы PS3 установлена прямая линейная зависимость объема продаж игр от оценок, как экспертов, так и игроков, при этом пик продаж игр наблюдается при скоре близком к 70-ти для критиков и оценке в  районе 6 для игроков. Вывод подтвержден на прочих платформах.\n",
    "6. Жанр прямо влияет на объем продаж, так шутеры лучше всего продаются всех регионах, а стратегии исключительно в Японии.\n",
    "\n",
    "Таким образом, по релультатам исследовательского анализа данных автором выделены следующие критерии успешности игры:\n",
    "\n",
    "- регион распрастранения - Северная Америка,\n",
    "- платформа - PS3,\n",
    "- жанр - шутер,\n",
    "- оценка в районе 70 от критиков и в районе 6 от игроков.\n",
    "\n",
    "В ходе составления портрета игроков по регионам рассмотрены предпочтения пользоватлей в разрезе платформ, жанров и содерания игр.\n",
    "\n",
    "Так, для северо-американский потребетилей определены следующие паттерны:\n",
    "\n",
    "- предпочитают платформу X360;\n",
    "- жанры спорт,шутеры и экшн;\n",
    "- игры для взрослых.\n",
    "\n",
    "Европейцы:\n",
    "\n",
    "- отдают предпочтение платформам PS;\n",
    "- жанрам спорт, экшн и шутеры;\n",
    "- игры общей игровой аудитории.\n",
    "\n",
    "Япония:\n",
    "\n",
    "- платформа PS;\n",
    "- жанр - экшн и спеифические файтинг и ролевые игры;\n",
    "- игры вне рейтинга ESRB.\n",
    "\n",
    "Результатами проверки гипотез стали следующие выводы:\n",
    "\n",
    "Пользовательские оценки игр в разрезе платформ XOne и PC статистически значимо различаются: игроки по разному оценивают игры выпущенные на платформах XOne и PC.\n",
    "\n",
    "Пользовательские оценки жанров Action и Sports статисчески значимо не отличаются: игроки одинаково оценивают игры жанров Action и Sports.\n",
    "\n",
    "Проведенное исследование позволит сделать ставку на потенциально популярный продукт и спланировать рекламные кампании."
   ]
  }
 ],
 "metadata": {
  "ExecuteTimeLog": [
   {
    "duration": 494,
    "start_time": "2022-04-14T12:31:44.532Z"
   },
   {
    "duration": 50,
    "start_time": "2022-04-14T12:32:34.665Z"
   },
   {
    "duration": 70,
    "start_time": "2022-04-14T12:32:44.079Z"
   },
   {
    "duration": 22,
    "start_time": "2022-04-14T12:33:18.473Z"
   },
   {
    "duration": 14,
    "start_time": "2022-04-14T12:33:42.931Z"
   },
   {
    "duration": 61,
    "start_time": "2022-04-14T12:39:33.358Z"
   },
   {
    "duration": 6,
    "start_time": "2022-04-14T12:40:46.993Z"
   },
   {
    "duration": 4,
    "start_time": "2022-04-14T12:40:59.924Z"
   },
   {
    "duration": 32,
    "start_time": "2022-04-14T12:41:04.937Z"
   },
   {
    "duration": 4,
    "start_time": "2022-04-14T12:41:26.985Z"
   },
   {
    "duration": 21,
    "start_time": "2022-04-14T12:45:33.448Z"
   },
   {
    "duration": 22,
    "start_time": "2022-04-14T12:46:13.075Z"
   },
   {
    "duration": 8,
    "start_time": "2022-04-14T12:46:25.122Z"
   },
   {
    "duration": 104,
    "start_time": "2022-04-14T12:48:29.881Z"
   },
   {
    "duration": 20,
    "start_time": "2022-04-14T12:48:57.036Z"
   },
   {
    "duration": 34,
    "start_time": "2022-04-14T12:52:49.367Z"
   },
   {
    "duration": 3,
    "start_time": "2022-04-14T13:09:44.200Z"
   },
   {
    "duration": 6,
    "start_time": "2022-04-14T13:09:50.557Z"
   },
   {
    "duration": 6,
    "start_time": "2022-04-14T13:09:55.239Z"
   },
   {
    "duration": 19,
    "start_time": "2022-04-14T13:10:08.353Z"
   },
   {
    "duration": 33,
    "start_time": "2022-04-14T13:10:47.496Z"
   },
   {
    "duration": 31,
    "start_time": "2022-04-14T13:11:06.759Z"
   },
   {
    "duration": 7,
    "start_time": "2022-04-14T13:12:08.183Z"
   },
   {
    "duration": 25,
    "start_time": "2022-04-14T13:12:19.566Z"
   },
   {
    "duration": 6,
    "start_time": "2022-04-14T13:12:36.274Z"
   },
   {
    "duration": 108,
    "start_time": "2022-04-14T13:15:22.982Z"
   },
   {
    "duration": 37,
    "start_time": "2022-04-14T13:15:27.524Z"
   },
   {
    "duration": 8,
    "start_time": "2022-04-14T13:20:30.111Z"
   },
   {
    "duration": 4,
    "start_time": "2022-04-14T13:25:52.702Z"
   },
   {
    "duration": 3,
    "start_time": "2022-04-14T13:28:17.275Z"
   },
   {
    "duration": 521,
    "start_time": "2022-04-14T13:28:17.767Z"
   },
   {
    "duration": 0,
    "start_time": "2022-04-14T13:28:18.290Z"
   },
   {
    "duration": 4,
    "start_time": "2022-04-14T13:28:38.218Z"
   },
   {
    "duration": 820,
    "start_time": "2022-04-14T13:28:38.808Z"
   },
   {
    "duration": 486,
    "start_time": "2022-04-14T13:29:11.394Z"
   },
   {
    "duration": 473,
    "start_time": "2022-04-14T13:29:18.061Z"
   },
   {
    "duration": 4,
    "start_time": "2022-04-14T13:29:31.147Z"
   },
   {
    "duration": 483,
    "start_time": "2022-04-14T13:29:31.659Z"
   },
   {
    "duration": 4,
    "start_time": "2022-04-14T13:29:44.877Z"
   },
   {
    "duration": 480,
    "start_time": "2022-04-14T13:29:45.273Z"
   },
   {
    "duration": 4,
    "start_time": "2022-04-14T13:30:32.971Z"
   },
   {
    "duration": 2287,
    "start_time": "2022-04-14T13:30:33.635Z"
   },
   {
    "duration": 62,
    "start_time": "2022-04-14T13:39:59.554Z"
   },
   {
    "duration": 8,
    "start_time": "2022-04-14T13:39:59.907Z"
   },
   {
    "duration": 20,
    "start_time": "2022-04-14T13:44:10.141Z"
   },
   {
    "duration": 36,
    "start_time": "2022-04-14T13:44:27.359Z"
   },
   {
    "duration": 5,
    "start_time": "2022-04-14T13:46:58.551Z"
   },
   {
    "duration": 13,
    "start_time": "2022-04-14T13:47:20.328Z"
   },
   {
    "duration": 8,
    "start_time": "2022-04-14T13:47:32.659Z"
   },
   {
    "duration": 52,
    "start_time": "2022-04-14T13:47:59.388Z"
   },
   {
    "duration": 5,
    "start_time": "2022-04-14T13:48:09.098Z"
   },
   {
    "duration": 90,
    "start_time": "2022-04-14T13:48:09.419Z"
   },
   {
    "duration": 5,
    "start_time": "2022-04-14T13:48:10.380Z"
   },
   {
    "duration": 98,
    "start_time": "2022-04-14T13:48:11.595Z"
   },
   {
    "duration": 7,
    "start_time": "2022-04-14T13:48:13.478Z"
   },
   {
    "duration": 11,
    "start_time": "2022-04-14T13:48:15.226Z"
   },
   {
    "duration": 48,
    "start_time": "2022-04-14T13:48:16.032Z"
   },
   {
    "duration": 7,
    "start_time": "2022-04-14T13:49:01.917Z"
   },
   {
    "duration": 124,
    "start_time": "2022-04-14T13:49:14.571Z"
   },
   {
    "duration": 33,
    "start_time": "2022-04-14T13:49:19.638Z"
   },
   {
    "duration": 9,
    "start_time": "2022-04-14T13:49:38.439Z"
   },
   {
    "duration": 8,
    "start_time": "2022-04-14T13:49:43.140Z"
   },
   {
    "duration": 9,
    "start_time": "2022-04-14T13:49:43.684Z"
   },
   {
    "duration": 18,
    "start_time": "2022-04-14T13:49:44.182Z"
   },
   {
    "duration": 13,
    "start_time": "2022-04-14T14:28:12.846Z"
   },
   {
    "duration": 65,
    "start_time": "2022-04-14T14:35:12.958Z"
   },
   {
    "duration": 32,
    "start_time": "2022-04-14T14:35:14.116Z"
   },
   {
    "duration": 12,
    "start_time": "2022-04-14T14:35:53.928Z"
   },
   {
    "duration": 4,
    "start_time": "2022-04-14T14:38:40.655Z"
   },
   {
    "duration": 6,
    "start_time": "2022-04-14T14:39:14.359Z"
   },
   {
    "duration": 5,
    "start_time": "2022-04-14T14:39:26.100Z"
   },
   {
    "duration": 18,
    "start_time": "2022-04-14T14:39:27.620Z"
   },
   {
    "duration": 6,
    "start_time": "2022-04-14T14:40:17.251Z"
   },
   {
    "duration": 19,
    "start_time": "2022-04-14T14:40:20.252Z"
   },
   {
    "duration": 29,
    "start_time": "2022-04-14T14:40:35.059Z"
   },
   {
    "duration": 505,
    "start_time": "2022-04-14T14:42:59.184Z"
   },
   {
    "duration": 8,
    "start_time": "2022-04-14T14:45:40.614Z"
   },
   {
    "duration": 31,
    "start_time": "2022-04-14T14:45:42.950Z"
   },
   {
    "duration": 19,
    "start_time": "2022-04-14T14:45:50.961Z"
   },
   {
    "duration": 16,
    "start_time": "2022-04-14T14:46:06.122Z"
   },
   {
    "duration": 17,
    "start_time": "2022-04-14T14:47:08.102Z"
   },
   {
    "duration": 6,
    "start_time": "2022-04-14T14:47:17.391Z"
   },
   {
    "duration": 31,
    "start_time": "2022-04-14T14:47:19.542Z"
   },
   {
    "duration": 18,
    "start_time": "2022-04-14T14:47:24.941Z"
   },
   {
    "duration": 3,
    "start_time": "2022-04-14T14:49:14.638Z"
   },
   {
    "duration": 59,
    "start_time": "2022-04-14T14:49:14.939Z"
   },
   {
    "duration": 4,
    "start_time": "2022-04-14T14:49:16.738Z"
   },
   {
    "duration": 11,
    "start_time": "2022-04-14T14:49:17.928Z"
   },
   {
    "duration": 13,
    "start_time": "2022-04-14T14:49:48.325Z"
   },
   {
    "duration": 19,
    "start_time": "2022-04-14T14:51:42.837Z"
   },
   {
    "duration": 20,
    "start_time": "2022-04-14T14:52:49.605Z"
   },
   {
    "duration": 21,
    "start_time": "2022-04-14T14:53:47.651Z"
   },
   {
    "duration": 9,
    "start_time": "2022-04-14T14:59:32.438Z"
   },
   {
    "duration": 14,
    "start_time": "2022-04-14T14:59:46.994Z"
   },
   {
    "duration": 69,
    "start_time": "2022-04-14T15:08:22.852Z"
   },
   {
    "duration": 13,
    "start_time": "2022-04-14T15:08:23.371Z"
   },
   {
    "duration": 7,
    "start_time": "2022-04-14T15:09:04.210Z"
   },
   {
    "duration": 9,
    "start_time": "2022-04-14T15:13:57.740Z"
   },
   {
    "duration": 11,
    "start_time": "2022-04-14T15:20:10.025Z"
   },
   {
    "duration": 20,
    "start_time": "2022-04-14T15:20:10.554Z"
   },
   {
    "duration": 7,
    "start_time": "2022-04-14T15:20:54.199Z"
   },
   {
    "duration": 29,
    "start_time": "2022-04-14T15:20:54.838Z"
   },
   {
    "duration": 27,
    "start_time": "2022-04-14T15:24:53.433Z"
   },
   {
    "duration": 20,
    "start_time": "2022-04-14T15:25:05.892Z"
   },
   {
    "duration": 42,
    "start_time": "2022-04-15T13:11:54.552Z"
   },
   {
    "duration": 7,
    "start_time": "2022-04-15T13:11:59.710Z"
   },
   {
    "duration": 497,
    "start_time": "2022-04-15T13:12:04.811Z"
   },
   {
    "duration": 67,
    "start_time": "2022-04-15T13:12:05.311Z"
   },
   {
    "duration": 4,
    "start_time": "2022-04-15T13:12:05.380Z"
   },
   {
    "duration": 21,
    "start_time": "2022-04-15T13:12:05.386Z"
   },
   {
    "duration": 15,
    "start_time": "2022-04-15T13:12:05.409Z"
   },
   {
    "duration": 12,
    "start_time": "2022-04-15T13:12:05.426Z"
   },
   {
    "duration": 7,
    "start_time": "2022-04-15T13:12:05.439Z"
   },
   {
    "duration": 89,
    "start_time": "2022-04-15T13:12:05.448Z"
   },
   {
    "duration": 7,
    "start_time": "2022-04-15T13:12:05.539Z"
   },
   {
    "duration": 12,
    "start_time": "2022-04-15T13:12:05.548Z"
   },
   {
    "duration": 9,
    "start_time": "2022-04-15T13:12:05.562Z"
   },
   {
    "duration": 28,
    "start_time": "2022-04-15T13:12:05.572Z"
   },
   {
    "duration": 0,
    "start_time": "2022-04-15T13:12:05.602Z"
   },
   {
    "duration": 7,
    "start_time": "2022-04-15T13:12:35.574Z"
   },
   {
    "duration": 7,
    "start_time": "2022-04-15T13:13:41.885Z"
   },
   {
    "duration": 1623,
    "start_time": "2022-04-15T13:14:25.091Z"
   },
   {
    "duration": 22,
    "start_time": "2022-04-15T13:14:44.405Z"
   },
   {
    "duration": 6,
    "start_time": "2022-04-15T13:15:22.651Z"
   },
   {
    "duration": 13,
    "start_time": "2022-04-15T13:15:24.603Z"
   },
   {
    "duration": 21,
    "start_time": "2022-04-15T13:17:05.195Z"
   },
   {
    "duration": 407,
    "start_time": "2022-04-15T13:17:49.467Z"
   },
   {
    "duration": 11,
    "start_time": "2022-04-15T13:18:36.042Z"
   },
   {
    "duration": 45,
    "start_time": "2022-04-15T13:19:27.261Z"
   },
   {
    "duration": 9,
    "start_time": "2022-04-15T13:19:32.250Z"
   },
   {
    "duration": 6,
    "start_time": "2022-04-15T13:19:33.610Z"
   },
   {
    "duration": 4,
    "start_time": "2022-04-15T13:19:34.460Z"
   },
   {
    "duration": 6,
    "start_time": "2022-04-15T13:19:35.158Z"
   },
   {
    "duration": 12,
    "start_time": "2022-04-15T13:19:35.455Z"
   },
   {
    "duration": 7,
    "start_time": "2022-04-15T13:19:37.193Z"
   },
   {
    "duration": 2,
    "start_time": "2022-04-15T13:19:44.108Z"
   },
   {
    "duration": 59,
    "start_time": "2022-04-15T13:19:44.112Z"
   },
   {
    "duration": 3,
    "start_time": "2022-04-15T13:19:44.173Z"
   },
   {
    "duration": 18,
    "start_time": "2022-04-15T13:19:44.178Z"
   },
   {
    "duration": 9,
    "start_time": "2022-04-15T13:19:44.198Z"
   },
   {
    "duration": 32,
    "start_time": "2022-04-15T13:19:44.208Z"
   },
   {
    "duration": 6,
    "start_time": "2022-04-15T13:19:44.242Z"
   },
   {
    "duration": 43,
    "start_time": "2022-04-15T13:19:44.249Z"
   },
   {
    "duration": 8,
    "start_time": "2022-04-15T13:19:44.293Z"
   },
   {
    "duration": 23,
    "start_time": "2022-04-15T13:19:44.303Z"
   },
   {
    "duration": 11,
    "start_time": "2022-04-15T13:19:44.328Z"
   },
   {
    "duration": 11,
    "start_time": "2022-04-15T13:19:44.341Z"
   },
   {
    "duration": 11,
    "start_time": "2022-04-15T13:19:44.354Z"
   },
   {
    "duration": 7,
    "start_time": "2022-04-15T13:19:44.367Z"
   },
   {
    "duration": 3,
    "start_time": "2022-04-15T13:19:59.289Z"
   },
   {
    "duration": 52,
    "start_time": "2022-04-15T13:19:59.618Z"
   },
   {
    "duration": 3,
    "start_time": "2022-04-15T13:20:00.179Z"
   },
   {
    "duration": 16,
    "start_time": "2022-04-15T13:20:00.766Z"
   },
   {
    "duration": 9,
    "start_time": "2022-04-15T13:20:01.056Z"
   },
   {
    "duration": 13,
    "start_time": "2022-04-15T13:20:01.642Z"
   },
   {
    "duration": 6,
    "start_time": "2022-04-15T13:20:02.233Z"
   },
   {
    "duration": 97,
    "start_time": "2022-04-15T13:20:02.837Z"
   },
   {
    "duration": 9,
    "start_time": "2022-04-15T13:20:04.114Z"
   },
   {
    "duration": 20,
    "start_time": "2022-04-15T13:20:04.125Z"
   },
   {
    "duration": 7,
    "start_time": "2022-04-15T13:20:04.342Z"
   },
   {
    "duration": 5,
    "start_time": "2022-04-15T13:20:04.958Z"
   },
   {
    "duration": 12,
    "start_time": "2022-04-15T13:20:05.259Z"
   },
   {
    "duration": 7,
    "start_time": "2022-04-15T13:20:06.236Z"
   },
   {
    "duration": 46,
    "start_time": "2022-04-15T13:20:59.073Z"
   },
   {
    "duration": 8,
    "start_time": "2022-04-15T13:21:00.137Z"
   },
   {
    "duration": 5,
    "start_time": "2022-04-15T13:21:01.388Z"
   },
   {
    "duration": 6,
    "start_time": "2022-04-15T13:21:02.037Z"
   },
   {
    "duration": 5,
    "start_time": "2022-04-15T13:21:02.697Z"
   },
   {
    "duration": 15,
    "start_time": "2022-04-15T13:21:03.045Z"
   },
   {
    "duration": 7,
    "start_time": "2022-04-15T13:21:04.760Z"
   },
   {
    "duration": 55,
    "start_time": "2022-04-15T13:21:38.119Z"
   },
   {
    "duration": 55,
    "start_time": "2022-04-15T13:21:50.304Z"
   },
   {
    "duration": 42,
    "start_time": "2022-04-15T13:22:04.874Z"
   },
   {
    "duration": 8,
    "start_time": "2022-04-15T13:22:22.292Z"
   },
   {
    "duration": 479,
    "start_time": "2022-04-15T13:23:35.053Z"
   },
   {
    "duration": 36,
    "start_time": "2022-04-15T13:24:03.824Z"
   },
   {
    "duration": 22,
    "start_time": "2022-04-15T13:24:27.823Z"
   },
   {
    "duration": 456,
    "start_time": "2022-04-15T13:24:58.137Z"
   },
   {
    "duration": 20,
    "start_time": "2022-04-15T13:25:35.568Z"
   },
   {
    "duration": 518,
    "start_time": "2022-04-15T13:26:02.083Z"
   },
   {
    "duration": 414,
    "start_time": "2022-04-15T13:26:35.547Z"
   },
   {
    "duration": 986,
    "start_time": "2022-04-15T13:26:49.939Z"
   },
   {
    "duration": 436,
    "start_time": "2022-04-15T13:27:47.735Z"
   },
   {
    "duration": 25,
    "start_time": "2022-04-15T13:28:57.812Z"
   },
   {
    "duration": 7,
    "start_time": "2022-04-15T13:29:00.414Z"
   },
   {
    "duration": 2,
    "start_time": "2022-04-15T13:29:41.058Z"
   },
   {
    "duration": 58,
    "start_time": "2022-04-15T13:29:41.062Z"
   },
   {
    "duration": 3,
    "start_time": "2022-04-15T13:29:41.122Z"
   },
   {
    "duration": 36,
    "start_time": "2022-04-15T13:29:41.127Z"
   },
   {
    "duration": 10,
    "start_time": "2022-04-15T13:29:41.165Z"
   },
   {
    "duration": 20,
    "start_time": "2022-04-15T13:29:41.177Z"
   },
   {
    "duration": 12,
    "start_time": "2022-04-15T13:29:41.199Z"
   },
   {
    "duration": 40,
    "start_time": "2022-04-15T13:29:41.212Z"
   },
   {
    "duration": 10,
    "start_time": "2022-04-15T13:29:41.254Z"
   },
   {
    "duration": 13,
    "start_time": "2022-04-15T13:29:41.266Z"
   },
   {
    "duration": 16,
    "start_time": "2022-04-15T13:29:41.281Z"
   },
   {
    "duration": 24,
    "start_time": "2022-04-15T13:29:41.298Z"
   },
   {
    "duration": 0,
    "start_time": "2022-04-15T13:29:41.324Z"
   },
   {
    "duration": 0,
    "start_time": "2022-04-15T13:29:41.325Z"
   },
   {
    "duration": 0,
    "start_time": "2022-04-15T13:29:41.327Z"
   },
   {
    "duration": 37,
    "start_time": "2022-04-15T13:31:06.460Z"
   },
   {
    "duration": 7,
    "start_time": "2022-04-15T13:31:08.450Z"
   },
   {
    "duration": 31,
    "start_time": "2022-04-15T13:32:06.717Z"
   },
   {
    "duration": 16,
    "start_time": "2022-04-15T13:32:31.477Z"
   },
   {
    "duration": 17,
    "start_time": "2022-04-15T13:32:54.605Z"
   },
   {
    "duration": 17,
    "start_time": "2022-04-15T13:34:41.268Z"
   },
   {
    "duration": 6,
    "start_time": "2022-04-15T13:34:51.572Z"
   },
   {
    "duration": 6,
    "start_time": "2022-04-15T13:34:55.408Z"
   },
   {
    "duration": 12,
    "start_time": "2022-04-15T13:34:55.887Z"
   },
   {
    "duration": 10,
    "start_time": "2022-04-15T13:37:41.966Z"
   },
   {
    "duration": 6,
    "start_time": "2022-04-15T13:37:44.544Z"
   },
   {
    "duration": 12,
    "start_time": "2022-04-15T13:37:45.072Z"
   },
   {
    "duration": 14,
    "start_time": "2022-04-15T13:38:16.532Z"
   },
   {
    "duration": 5,
    "start_time": "2022-04-15T13:38:17.486Z"
   },
   {
    "duration": 13,
    "start_time": "2022-04-15T13:38:17.976Z"
   },
   {
    "duration": 7,
    "start_time": "2022-04-15T13:38:34.562Z"
   },
   {
    "duration": 6,
    "start_time": "2022-04-15T13:38:35.523Z"
   },
   {
    "duration": 15,
    "start_time": "2022-04-15T13:38:35.937Z"
   },
   {
    "duration": 28,
    "start_time": "2022-04-15T13:38:51.410Z"
   },
   {
    "duration": 8,
    "start_time": "2022-04-15T13:39:03.693Z"
   },
   {
    "duration": 136,
    "start_time": "2022-04-15T13:39:16.197Z"
   },
   {
    "duration": 14,
    "start_time": "2022-04-15T13:40:41.184Z"
   },
   {
    "duration": 16,
    "start_time": "2022-04-15T13:43:18.477Z"
   },
   {
    "duration": 6,
    "start_time": "2022-04-15T13:44:01.440Z"
   },
   {
    "duration": 13,
    "start_time": "2022-04-15T13:44:01.840Z"
   },
   {
    "duration": 16,
    "start_time": "2022-04-15T13:44:05.456Z"
   },
   {
    "duration": 35,
    "start_time": "2022-04-15T13:46:12.209Z"
   },
   {
    "duration": 183,
    "start_time": "2022-04-15T13:46:23.100Z"
   },
   {
    "duration": 30,
    "start_time": "2022-04-15T13:46:58.935Z"
   },
   {
    "duration": 183,
    "start_time": "2022-04-15T13:47:11.988Z"
   },
   {
    "duration": 202,
    "start_time": "2022-04-15T13:47:21.508Z"
   },
   {
    "duration": 281,
    "start_time": "2022-04-15T13:47:51.637Z"
   },
   {
    "duration": 1866,
    "start_time": "2022-04-15T13:48:31.693Z"
   },
   {
    "duration": 1823,
    "start_time": "2022-04-15T13:48:49.516Z"
   },
   {
    "duration": 299,
    "start_time": "2022-04-15T13:49:08.312Z"
   },
   {
    "duration": 39,
    "start_time": "2022-04-15T13:49:47.988Z"
   },
   {
    "duration": 294,
    "start_time": "2022-04-15T13:50:07.055Z"
   },
   {
    "duration": 219,
    "start_time": "2022-04-15T13:50:53.749Z"
   },
   {
    "duration": 197,
    "start_time": "2022-04-15T13:51:38.000Z"
   },
   {
    "duration": 219,
    "start_time": "2022-04-15T13:52:20.744Z"
   },
   {
    "duration": 344,
    "start_time": "2022-04-15T13:53:13.230Z"
   },
   {
    "duration": 319,
    "start_time": "2022-04-15T13:53:47.493Z"
   },
   {
    "duration": 161,
    "start_time": "2022-04-15T13:54:10.383Z"
   },
   {
    "duration": 143,
    "start_time": "2022-04-15T13:54:30.186Z"
   },
   {
    "duration": 296,
    "start_time": "2022-04-15T13:55:18.911Z"
   },
   {
    "duration": 218,
    "start_time": "2022-04-15T13:55:38.694Z"
   },
   {
    "duration": 216,
    "start_time": "2022-04-15T13:56:28.058Z"
   },
   {
    "duration": 164,
    "start_time": "2022-04-15T13:57:29.278Z"
   },
   {
    "duration": 896,
    "start_time": "2022-04-16T07:53:14.494Z"
   },
   {
    "duration": 110,
    "start_time": "2022-04-16T07:53:15.393Z"
   },
   {
    "duration": 4,
    "start_time": "2022-04-16T07:53:15.506Z"
   },
   {
    "duration": 21,
    "start_time": "2022-04-16T07:53:15.513Z"
   },
   {
    "duration": 13,
    "start_time": "2022-04-16T07:53:15.536Z"
   },
   {
    "duration": 17,
    "start_time": "2022-04-16T07:53:15.550Z"
   },
   {
    "duration": 10,
    "start_time": "2022-04-16T07:53:15.569Z"
   },
   {
    "duration": 53,
    "start_time": "2022-04-16T07:53:15.581Z"
   },
   {
    "duration": 11,
    "start_time": "2022-04-16T07:53:15.636Z"
   },
   {
    "duration": 14,
    "start_time": "2022-04-16T07:53:15.650Z"
   },
   {
    "duration": 117,
    "start_time": "2022-04-16T07:53:15.666Z"
   },
   {
    "duration": 0,
    "start_time": "2022-04-16T07:53:15.785Z"
   },
   {
    "duration": 0,
    "start_time": "2022-04-16T07:53:15.786Z"
   },
   {
    "duration": 0,
    "start_time": "2022-04-16T07:53:15.788Z"
   },
   {
    "duration": 0,
    "start_time": "2022-04-16T07:53:15.789Z"
   },
   {
    "duration": 25,
    "start_time": "2022-04-16T07:53:58.310Z"
   },
   {
    "duration": 23,
    "start_time": "2022-04-16T07:54:23.877Z"
   },
   {
    "duration": 7,
    "start_time": "2022-04-16T07:54:28.398Z"
   },
   {
    "duration": 17,
    "start_time": "2022-04-16T07:54:28.852Z"
   },
   {
    "duration": 13,
    "start_time": "2022-04-16T07:55:02.764Z"
   },
   {
    "duration": 7,
    "start_time": "2022-04-16T07:55:05.082Z"
   },
   {
    "duration": 15,
    "start_time": "2022-04-16T07:55:05.727Z"
   },
   {
    "duration": 16,
    "start_time": "2022-04-16T07:55:09.586Z"
   },
   {
    "duration": 232,
    "start_time": "2022-04-16T07:55:11.021Z"
   },
   {
    "duration": 292,
    "start_time": "2022-04-16T07:55:45.666Z"
   },
   {
    "duration": 291,
    "start_time": "2022-04-16T07:56:23.346Z"
   },
   {
    "duration": 226,
    "start_time": "2022-04-16T07:56:49.242Z"
   },
   {
    "duration": 304,
    "start_time": "2022-04-16T07:57:24.272Z"
   },
   {
    "duration": 234,
    "start_time": "2022-04-16T07:57:37.365Z"
   },
   {
    "duration": 69,
    "start_time": "2022-04-16T17:44:01.735Z"
   },
   {
    "duration": 1157,
    "start_time": "2022-04-16T17:44:06.682Z"
   },
   {
    "duration": 109,
    "start_time": "2022-04-16T17:44:07.842Z"
   },
   {
    "duration": 4,
    "start_time": "2022-04-16T17:44:07.954Z"
   },
   {
    "duration": 38,
    "start_time": "2022-04-16T17:44:07.961Z"
   },
   {
    "duration": 13,
    "start_time": "2022-04-16T17:44:08.001Z"
   },
   {
    "duration": 30,
    "start_time": "2022-04-16T17:44:08.016Z"
   },
   {
    "duration": 40,
    "start_time": "2022-04-16T17:44:08.048Z"
   },
   {
    "duration": 70,
    "start_time": "2022-04-16T17:44:08.091Z"
   },
   {
    "duration": 37,
    "start_time": "2022-04-16T17:44:08.163Z"
   },
   {
    "duration": 9,
    "start_time": "2022-04-16T17:44:08.205Z"
   },
   {
    "duration": 32,
    "start_time": "2022-04-16T17:44:08.217Z"
   },
   {
    "duration": 7,
    "start_time": "2022-04-16T17:44:08.282Z"
   },
   {
    "duration": 27,
    "start_time": "2022-04-16T17:44:08.291Z"
   },
   {
    "duration": 21,
    "start_time": "2022-04-16T17:44:08.320Z"
   },
   {
    "duration": 392,
    "start_time": "2022-04-16T17:44:08.343Z"
   },
   {
    "duration": 49,
    "start_time": "2022-04-16T17:44:08.738Z"
   },
   {
    "duration": 40,
    "start_time": "2022-04-16T17:44:44.900Z"
   },
   {
    "duration": 72,
    "start_time": "2022-04-16T17:45:25.764Z"
   },
   {
    "duration": 32,
    "start_time": "2022-04-16T17:46:25.161Z"
   },
   {
    "duration": 545,
    "start_time": "2022-04-16T17:46:32.553Z"
   },
   {
    "duration": 40,
    "start_time": "2022-04-16T17:50:38.997Z"
   },
   {
    "duration": 35,
    "start_time": "2022-04-16T17:50:44.768Z"
   },
   {
    "duration": 46,
    "start_time": "2022-04-16T17:50:53.409Z"
   },
   {
    "duration": 618,
    "start_time": "2022-04-16T17:51:26.895Z"
   },
   {
    "duration": 566,
    "start_time": "2022-04-16T17:51:42.369Z"
   },
   {
    "duration": 77,
    "start_time": "2022-04-16T17:52:03.910Z"
   },
   {
    "duration": 595,
    "start_time": "2022-04-16T17:52:11.506Z"
   },
   {
    "duration": 50,
    "start_time": "2022-04-16T17:52:31.331Z"
   },
   {
    "duration": 1451,
    "start_time": "2022-04-16T17:52:39.263Z"
   },
   {
    "duration": 1438,
    "start_time": "2022-04-16T17:53:15.963Z"
   },
   {
    "duration": 1508,
    "start_time": "2022-04-16T17:53:22.178Z"
   },
   {
    "duration": 2610,
    "start_time": "2022-04-16T17:53:28.859Z"
   },
   {
    "duration": 67,
    "start_time": "2022-04-16T17:54:04.818Z"
   },
   {
    "duration": 123,
    "start_time": "2022-04-16T17:56:15.873Z"
   },
   {
    "duration": 51,
    "start_time": "2022-04-16T17:58:32.785Z"
   },
   {
    "duration": 65,
    "start_time": "2022-04-16T18:02:06.349Z"
   },
   {
    "duration": 43,
    "start_time": "2022-04-16T18:02:26.135Z"
   },
   {
    "duration": 52,
    "start_time": "2022-04-16T18:02:34.191Z"
   },
   {
    "duration": 148,
    "start_time": "2022-04-16T18:04:29.009Z"
   },
   {
    "duration": 103,
    "start_time": "2022-04-16T18:05:26.627Z"
   },
   {
    "duration": 63,
    "start_time": "2022-04-16T18:05:35.492Z"
   },
   {
    "duration": 63,
    "start_time": "2022-04-16T18:05:40.946Z"
   },
   {
    "duration": 71,
    "start_time": "2022-04-16T18:08:20.062Z"
   },
   {
    "duration": 86,
    "start_time": "2022-04-16T18:08:39.374Z"
   },
   {
    "duration": 81,
    "start_time": "2022-04-16T18:08:54.488Z"
   },
   {
    "duration": 55,
    "start_time": "2022-04-16T18:24:43.948Z"
   },
   {
    "duration": 743,
    "start_time": "2022-04-16T18:26:28.192Z"
   },
   {
    "duration": 38,
    "start_time": "2022-04-16T18:29:19.914Z"
   },
   {
    "duration": 57,
    "start_time": "2022-04-16T18:29:48.930Z"
   },
   {
    "duration": 61,
    "start_time": "2022-04-16T18:30:12.068Z"
   },
   {
    "duration": 322,
    "start_time": "2022-04-16T18:32:36.125Z"
   },
   {
    "duration": 332,
    "start_time": "2022-04-16T18:32:52.598Z"
   },
   {
    "duration": 454,
    "start_time": "2022-04-16T18:33:32.111Z"
   },
   {
    "duration": 571,
    "start_time": "2022-04-16T18:34:15.872Z"
   },
   {
    "duration": 650,
    "start_time": "2022-04-16T18:35:48.989Z"
   },
   {
    "duration": 4,
    "start_time": "2022-04-16T18:47:53.801Z"
   },
   {
    "duration": 63,
    "start_time": "2022-04-16T18:47:53.808Z"
   },
   {
    "duration": 3,
    "start_time": "2022-04-16T18:47:53.874Z"
   },
   {
    "duration": 24,
    "start_time": "2022-04-16T18:47:53.881Z"
   },
   {
    "duration": 11,
    "start_time": "2022-04-16T18:47:53.908Z"
   },
   {
    "duration": 19,
    "start_time": "2022-04-16T18:47:53.922Z"
   },
   {
    "duration": 43,
    "start_time": "2022-04-16T18:47:53.943Z"
   },
   {
    "duration": 41,
    "start_time": "2022-04-16T18:47:53.988Z"
   },
   {
    "duration": 12,
    "start_time": "2022-04-16T18:47:54.032Z"
   },
   {
    "duration": 6,
    "start_time": "2022-04-16T18:47:54.047Z"
   },
   {
    "duration": 22,
    "start_time": "2022-04-16T18:47:54.082Z"
   },
   {
    "duration": 8,
    "start_time": "2022-04-16T18:47:54.106Z"
   },
   {
    "duration": 20,
    "start_time": "2022-04-16T18:47:54.118Z"
   },
   {
    "duration": 396,
    "start_time": "2022-04-16T18:47:54.140Z"
   },
   {
    "duration": 568,
    "start_time": "2022-04-16T18:47:54.539Z"
   },
   {
    "duration": 1886,
    "start_time": "2022-04-18T09:04:34.299Z"
   },
   {
    "duration": 76,
    "start_time": "2022-04-18T09:04:36.188Z"
   },
   {
    "duration": 4,
    "start_time": "2022-04-18T09:04:36.267Z"
   },
   {
    "duration": 30,
    "start_time": "2022-04-18T09:04:36.274Z"
   },
   {
    "duration": 29,
    "start_time": "2022-04-18T09:04:36.306Z"
   },
   {
    "duration": 22,
    "start_time": "2022-04-18T09:04:36.337Z"
   },
   {
    "duration": 15,
    "start_time": "2022-04-18T09:04:36.361Z"
   },
   {
    "duration": 101,
    "start_time": "2022-04-18T09:04:36.379Z"
   },
   {
    "duration": 18,
    "start_time": "2022-04-18T09:04:36.483Z"
   },
   {
    "duration": 24,
    "start_time": "2022-04-18T09:04:36.506Z"
   },
   {
    "duration": 22,
    "start_time": "2022-04-18T09:04:36.533Z"
   },
   {
    "duration": 7,
    "start_time": "2022-04-18T09:04:36.557Z"
   },
   {
    "duration": 22,
    "start_time": "2022-04-18T09:04:36.566Z"
   },
   {
    "duration": 374,
    "start_time": "2022-04-18T09:04:36.624Z"
   },
   {
    "duration": 620,
    "start_time": "2022-04-18T09:04:37.001Z"
   },
   {
    "duration": 46,
    "start_time": "2022-04-18T09:10:29.206Z"
   },
   {
    "duration": 23,
    "start_time": "2022-04-18T09:10:34.983Z"
   },
   {
    "duration": 71,
    "start_time": "2022-04-18T09:11:30.339Z"
   },
   {
    "duration": 56,
    "start_time": "2022-04-18T09:11:52.306Z"
   },
   {
    "duration": 312,
    "start_time": "2022-04-18T09:12:30.141Z"
   },
   {
    "duration": 896,
    "start_time": "2022-04-18T09:12:53.648Z"
   },
   {
    "duration": 408,
    "start_time": "2022-04-18T09:13:11.842Z"
   },
   {
    "duration": 63,
    "start_time": "2022-04-18T09:13:25.179Z"
   },
   {
    "duration": 71,
    "start_time": "2022-04-18T09:14:13.488Z"
   },
   {
    "duration": 156,
    "start_time": "2022-04-18T09:14:35.880Z"
   },
   {
    "duration": 61,
    "start_time": "2022-04-18T09:15:36.877Z"
   },
   {
    "duration": 64,
    "start_time": "2022-04-18T09:46:03.563Z"
   },
   {
    "duration": 56,
    "start_time": "2022-04-18T09:47:39.614Z"
   },
   {
    "duration": 161,
    "start_time": "2022-04-18T09:48:33.773Z"
   },
   {
    "duration": 129,
    "start_time": "2022-04-18T09:48:52.408Z"
   },
   {
    "duration": 141,
    "start_time": "2022-04-18T09:50:34.239Z"
   },
   {
    "duration": 184,
    "start_time": "2022-04-18T09:50:44.217Z"
   },
   {
    "duration": 15,
    "start_time": "2022-04-18T09:50:58.920Z"
   },
   {
    "duration": 13,
    "start_time": "2022-04-18T09:51:07.844Z"
   },
   {
    "duration": 45,
    "start_time": "2022-04-18T09:52:16.414Z"
   },
   {
    "duration": 39,
    "start_time": "2022-04-18T09:52:38.407Z"
   },
   {
    "duration": 308,
    "start_time": "2022-04-18T09:55:11.640Z"
   },
   {
    "duration": 354,
    "start_time": "2022-04-18T09:56:23.029Z"
   },
   {
    "duration": 354,
    "start_time": "2022-04-18T09:56:37.340Z"
   },
   {
    "duration": 342,
    "start_time": "2022-04-18T09:56:57.741Z"
   },
   {
    "duration": 356,
    "start_time": "2022-04-18T09:57:47.720Z"
   },
   {
    "duration": 9,
    "start_time": "2022-04-18T09:58:33.786Z"
   },
   {
    "duration": 558,
    "start_time": "2022-04-18T09:58:46.736Z"
   },
   {
    "duration": 367,
    "start_time": "2022-04-18T09:59:47.058Z"
   },
   {
    "duration": 368,
    "start_time": "2022-04-18T10:00:10.420Z"
   },
   {
    "duration": 468,
    "start_time": "2022-04-18T10:00:18.923Z"
   },
   {
    "duration": 378,
    "start_time": "2022-04-18T10:02:22.995Z"
   },
   {
    "duration": 23,
    "start_time": "2022-04-18T10:08:18.521Z"
   },
   {
    "duration": 7,
    "start_time": "2022-04-18T10:09:47.156Z"
   },
   {
    "duration": 6,
    "start_time": "2022-04-18T10:10:04.550Z"
   },
   {
    "duration": 130,
    "start_time": "2022-04-18T10:10:37.836Z"
   },
   {
    "duration": 153,
    "start_time": "2022-04-18T10:10:50.813Z"
   },
   {
    "duration": 140,
    "start_time": "2022-04-18T10:10:58.824Z"
   },
   {
    "duration": 37,
    "start_time": "2022-04-18T10:11:13.016Z"
   },
   {
    "duration": 47,
    "start_time": "2022-04-18T10:12:13.235Z"
   },
   {
    "duration": 45,
    "start_time": "2022-04-18T10:12:27.248Z"
   },
   {
    "duration": 1635,
    "start_time": "2022-04-18T10:28:11.926Z"
   },
   {
    "duration": 1654,
    "start_time": "2022-04-18T10:28:25.302Z"
   },
   {
    "duration": 1736,
    "start_time": "2022-04-18T10:28:33.800Z"
   },
   {
    "duration": 1742,
    "start_time": "2022-04-18T10:28:42.225Z"
   },
   {
    "duration": 2064,
    "start_time": "2022-04-18T10:29:18.960Z"
   },
   {
    "duration": 2850,
    "start_time": "2022-04-18T10:29:49.729Z"
   },
   {
    "duration": 1532,
    "start_time": "2022-04-18T10:30:40.941Z"
   },
   {
    "duration": 38,
    "start_time": "2022-04-18T10:33:19.774Z"
   },
   {
    "duration": 46,
    "start_time": "2022-04-18T10:34:48.282Z"
   },
   {
    "duration": 45,
    "start_time": "2022-04-18T10:35:10.593Z"
   },
   {
    "duration": 48,
    "start_time": "2022-04-18T10:35:39.871Z"
   },
   {
    "duration": 39,
    "start_time": "2022-04-18T10:36:08.622Z"
   },
   {
    "duration": 33,
    "start_time": "2022-04-18T10:36:27.035Z"
   },
   {
    "duration": 43,
    "start_time": "2022-04-18T10:36:36.154Z"
   },
   {
    "duration": 295,
    "start_time": "2022-04-18T10:36:42.482Z"
   },
   {
    "duration": 42,
    "start_time": "2022-04-18T10:38:25.090Z"
   },
   {
    "duration": 56,
    "start_time": "2022-04-18T10:38:37.555Z"
   },
   {
    "duration": 40,
    "start_time": "2022-04-18T10:38:46.862Z"
   },
   {
    "duration": 466,
    "start_time": "2022-04-18T10:41:14.681Z"
   },
   {
    "duration": 419,
    "start_time": "2022-04-18T10:41:20.978Z"
   },
   {
    "duration": 384,
    "start_time": "2022-04-18T10:43:16.245Z"
   },
   {
    "duration": 393,
    "start_time": "2022-04-18T10:43:37.195Z"
   },
   {
    "duration": 177,
    "start_time": "2022-04-18T10:44:12.394Z"
   },
   {
    "duration": 395,
    "start_time": "2022-04-18T10:44:18.244Z"
   },
   {
    "duration": 544,
    "start_time": "2022-04-18T10:56:23.965Z"
   },
   {
    "duration": 13,
    "start_time": "2022-04-18T10:57:46.004Z"
   },
   {
    "duration": 29,
    "start_time": "2022-04-18T10:58:14.408Z"
   },
   {
    "duration": 25,
    "start_time": "2022-04-18T10:58:36.198Z"
   },
   {
    "duration": 24,
    "start_time": "2022-04-18T10:59:59.765Z"
   },
   {
    "duration": 38,
    "start_time": "2022-04-18T11:01:39.705Z"
   },
   {
    "duration": 38,
    "start_time": "2022-04-18T11:03:56.696Z"
   },
   {
    "duration": 18,
    "start_time": "2022-04-18T11:52:43.387Z"
   },
   {
    "duration": 46,
    "start_time": "2022-04-18T11:53:00.521Z"
   },
   {
    "duration": 282,
    "start_time": "2022-04-18T11:53:20.275Z"
   },
   {
    "duration": 508,
    "start_time": "2022-04-18T11:53:55.094Z"
   },
   {
    "duration": 335,
    "start_time": "2022-04-18T11:55:00.210Z"
   },
   {
    "duration": 23,
    "start_time": "2022-04-18T12:02:18.685Z"
   },
   {
    "duration": 38,
    "start_time": "2022-04-18T12:21:05.009Z"
   },
   {
    "duration": 27,
    "start_time": "2022-04-18T12:22:35.642Z"
   },
   {
    "duration": 35,
    "start_time": "2022-04-18T12:23:27.344Z"
   },
   {
    "duration": 33,
    "start_time": "2022-04-18T12:23:40.741Z"
   },
   {
    "duration": 28,
    "start_time": "2022-04-18T12:23:56.240Z"
   },
   {
    "duration": 26,
    "start_time": "2022-04-18T12:24:34.690Z"
   },
   {
    "duration": 29,
    "start_time": "2022-04-18T12:24:43.173Z"
   },
   {
    "duration": 31,
    "start_time": "2022-04-18T12:25:08.711Z"
   },
   {
    "duration": 11,
    "start_time": "2022-04-18T12:26:20.591Z"
   },
   {
    "duration": 32,
    "start_time": "2022-04-18T12:26:31.320Z"
   },
   {
    "duration": 20,
    "start_time": "2022-04-18T12:26:31.372Z"
   },
   {
    "duration": 208,
    "start_time": "2022-04-18T12:27:41.444Z"
   },
   {
    "duration": 23,
    "start_time": "2022-04-18T12:28:51.025Z"
   },
   {
    "duration": 372,
    "start_time": "2022-04-18T12:29:23.340Z"
   },
   {
    "duration": 202,
    "start_time": "2022-04-18T12:29:39.592Z"
   },
   {
    "duration": 12,
    "start_time": "2022-04-18T12:35:40.348Z"
   },
   {
    "duration": 15,
    "start_time": "2022-04-18T12:36:03.453Z"
   },
   {
    "duration": 11,
    "start_time": "2022-04-18T12:37:08.956Z"
   },
   {
    "duration": 248,
    "start_time": "2022-04-18T12:37:16.252Z"
   },
   {
    "duration": 501,
    "start_time": "2022-04-18T12:38:45.789Z"
   },
   {
    "duration": 553,
    "start_time": "2022-04-18T12:39:08.896Z"
   },
   {
    "duration": 599,
    "start_time": "2022-04-18T12:39:22.996Z"
   },
   {
    "duration": 744,
    "start_time": "2022-04-18T12:39:35.826Z"
   },
   {
    "duration": 978,
    "start_time": "2022-04-18T12:40:36.881Z"
   },
   {
    "duration": 1054,
    "start_time": "2022-04-18T12:41:31.910Z"
   },
   {
    "duration": 902,
    "start_time": "2022-04-18T12:41:42.768Z"
   },
   {
    "duration": 1025,
    "start_time": "2022-04-18T12:42:06.222Z"
   },
   {
    "duration": 1367,
    "start_time": "2022-04-18T12:46:00.888Z"
   },
   {
    "duration": 1709,
    "start_time": "2022-04-18T12:47:45.209Z"
   },
   {
    "duration": 1296,
    "start_time": "2022-04-18T12:48:43.578Z"
   },
   {
    "duration": 1293,
    "start_time": "2022-04-18T12:50:36.409Z"
   },
   {
    "duration": 23,
    "start_time": "2022-04-18T12:57:50.667Z"
   },
   {
    "duration": 49,
    "start_time": "2022-04-18T12:58:38.758Z"
   },
   {
    "duration": 1287,
    "start_time": "2022-04-18T12:58:59.759Z"
   },
   {
    "duration": 33,
    "start_time": "2022-04-18T13:14:55.965Z"
   },
   {
    "duration": 14,
    "start_time": "2022-04-18T13:16:32.254Z"
   },
   {
    "duration": 10,
    "start_time": "2022-04-18T13:17:13.393Z"
   },
   {
    "duration": 45,
    "start_time": "2022-04-18T13:17:24.833Z"
   },
   {
    "duration": 43,
    "start_time": "2022-04-18T13:18:59.427Z"
   },
   {
    "duration": 62,
    "start_time": "2022-04-18T13:19:28.036Z"
   },
   {
    "duration": 5,
    "start_time": "2022-04-18T13:19:35.084Z"
   },
   {
    "duration": 88,
    "start_time": "2022-04-18T13:19:35.092Z"
   },
   {
    "duration": 4,
    "start_time": "2022-04-18T13:19:35.183Z"
   },
   {
    "duration": 44,
    "start_time": "2022-04-18T13:19:35.190Z"
   },
   {
    "duration": 25,
    "start_time": "2022-04-18T13:19:35.236Z"
   },
   {
    "duration": 22,
    "start_time": "2022-04-18T13:19:35.264Z"
   },
   {
    "duration": 38,
    "start_time": "2022-04-18T13:19:35.289Z"
   },
   {
    "duration": 53,
    "start_time": "2022-04-18T13:19:35.330Z"
   },
   {
    "duration": 51,
    "start_time": "2022-04-18T13:19:35.388Z"
   },
   {
    "duration": 8,
    "start_time": "2022-04-18T13:19:35.443Z"
   },
   {
    "duration": 23,
    "start_time": "2022-04-18T13:19:35.454Z"
   },
   {
    "duration": 7,
    "start_time": "2022-04-18T13:19:35.480Z"
   },
   {
    "duration": 52,
    "start_time": "2022-04-18T13:19:35.490Z"
   },
   {
    "duration": 373,
    "start_time": "2022-04-18T13:19:35.544Z"
   },
   {
    "duration": 742,
    "start_time": "2022-04-18T13:19:35.924Z"
   },
   {
    "duration": 83,
    "start_time": "2022-04-18T13:19:36.668Z"
   },
   {
    "duration": 411,
    "start_time": "2022-04-18T13:19:36.754Z"
   },
   {
    "duration": 522,
    "start_time": "2022-04-18T13:19:37.168Z"
   },
   {
    "duration": 331,
    "start_time": "2022-04-18T13:19:37.693Z"
   },
   {
    "duration": 1311,
    "start_time": "2022-04-18T13:19:38.027Z"
   },
   {
    "duration": 1275,
    "start_time": "2022-04-18T13:19:39.341Z"
   },
   {
    "duration": 39,
    "start_time": "2022-04-18T13:19:40.618Z"
   },
   {
    "duration": 38,
    "start_time": "2022-04-18T13:21:17.841Z"
   },
   {
    "duration": 40,
    "start_time": "2022-04-18T13:27:02.849Z"
   },
   {
    "duration": 35,
    "start_time": "2022-04-18T13:27:12.297Z"
   },
   {
    "duration": 275,
    "start_time": "2022-04-18T13:27:40.240Z"
   },
   {
    "duration": 39,
    "start_time": "2022-04-18T13:28:02.204Z"
   },
   {
    "duration": 341,
    "start_time": "2022-04-18T13:30:50.969Z"
   },
   {
    "duration": 343,
    "start_time": "2022-04-18T13:31:44.758Z"
   },
   {
    "duration": 350,
    "start_time": "2022-04-18T13:32:01.532Z"
   },
   {
    "duration": 390,
    "start_time": "2022-04-18T13:32:30.612Z"
   },
   {
    "duration": 377,
    "start_time": "2022-04-18T13:33:04.087Z"
   },
   {
    "duration": 533,
    "start_time": "2022-04-18T13:33:17.261Z"
   },
   {
    "duration": 369,
    "start_time": "2022-04-18T13:33:30.430Z"
   },
   {
    "duration": 375,
    "start_time": "2022-04-18T13:34:01.283Z"
   },
   {
    "duration": 536,
    "start_time": "2022-04-18T13:34:52.025Z"
   },
   {
    "duration": 554,
    "start_time": "2022-04-18T13:35:31.714Z"
   },
   {
    "duration": 128,
    "start_time": "2022-04-18T13:35:42.120Z"
   },
   {
    "duration": 375,
    "start_time": "2022-04-18T13:35:54.852Z"
   },
   {
    "duration": 366,
    "start_time": "2022-04-18T13:36:11.046Z"
   },
   {
    "duration": 379,
    "start_time": "2022-04-18T13:36:42.424Z"
   },
   {
    "duration": 368,
    "start_time": "2022-04-18T13:37:35.981Z"
   },
   {
    "duration": 1248,
    "start_time": "2022-04-19T08:50:28.637Z"
   },
   {
    "duration": 50,
    "start_time": "2022-04-19T08:50:29.887Z"
   },
   {
    "duration": 3,
    "start_time": "2022-04-19T08:50:29.938Z"
   },
   {
    "duration": 17,
    "start_time": "2022-04-19T08:50:29.943Z"
   },
   {
    "duration": 14,
    "start_time": "2022-04-19T08:50:29.961Z"
   },
   {
    "duration": 11,
    "start_time": "2022-04-19T08:50:29.976Z"
   },
   {
    "duration": 6,
    "start_time": "2022-04-19T08:50:29.989Z"
   },
   {
    "duration": 48,
    "start_time": "2022-04-19T08:50:29.996Z"
   },
   {
    "duration": 14,
    "start_time": "2022-04-19T08:50:30.045Z"
   },
   {
    "duration": 6,
    "start_time": "2022-04-19T08:50:30.062Z"
   },
   {
    "duration": 14,
    "start_time": "2022-04-19T08:50:30.069Z"
   },
   {
    "duration": 4,
    "start_time": "2022-04-19T08:50:30.084Z"
   },
   {
    "duration": 33,
    "start_time": "2022-04-19T08:50:30.090Z"
   },
   {
    "duration": 207,
    "start_time": "2022-04-19T08:50:30.125Z"
   },
   {
    "duration": 352,
    "start_time": "2022-04-19T08:50:30.334Z"
   },
   {
    "duration": 48,
    "start_time": "2022-04-19T08:50:30.688Z"
   },
   {
    "duration": 219,
    "start_time": "2022-04-19T08:50:30.738Z"
   },
   {
    "duration": 258,
    "start_time": "2022-04-19T08:50:30.959Z"
   },
   {
    "duration": 244,
    "start_time": "2022-04-19T08:50:31.220Z"
   },
   {
    "duration": 941,
    "start_time": "2022-04-19T08:50:31.465Z"
   },
   {
    "duration": 747,
    "start_time": "2022-04-19T08:50:32.408Z"
   },
   {
    "duration": 208,
    "start_time": "2022-04-19T08:50:33.156Z"
   },
   {
    "duration": 169,
    "start_time": "2022-04-19T08:53:53.937Z"
   },
   {
    "duration": 169,
    "start_time": "2022-04-19T08:54:01.940Z"
   },
   {
    "duration": 167,
    "start_time": "2022-04-19T08:54:10.394Z"
   },
   {
    "duration": 166,
    "start_time": "2022-04-19T08:55:01.955Z"
   },
   {
    "duration": 162,
    "start_time": "2022-04-19T08:55:16.325Z"
   },
   {
    "duration": 246,
    "start_time": "2022-04-19T08:55:21.906Z"
   },
   {
    "duration": 173,
    "start_time": "2022-04-19T08:56:08.307Z"
   },
   {
    "duration": 167,
    "start_time": "2022-04-19T08:56:38.989Z"
   },
   {
    "duration": 172,
    "start_time": "2022-04-19T08:57:21.882Z"
   },
   {
    "duration": 162,
    "start_time": "2022-04-19T08:57:32.308Z"
   },
   {
    "duration": 167,
    "start_time": "2022-04-19T08:58:22.419Z"
   },
   {
    "duration": 181,
    "start_time": "2022-04-19T09:01:35.695Z"
   },
   {
    "duration": 174,
    "start_time": "2022-04-19T09:02:43.813Z"
   },
   {
    "duration": 8,
    "start_time": "2022-04-19T09:02:54.377Z"
   },
   {
    "duration": 169,
    "start_time": "2022-04-19T09:02:59.238Z"
   },
   {
    "duration": 15,
    "start_time": "2022-04-19T09:09:31.096Z"
   },
   {
    "duration": 91,
    "start_time": "2022-04-19T09:11:25.628Z"
   },
   {
    "duration": 7,
    "start_time": "2022-04-19T09:11:42.101Z"
   },
   {
    "duration": 24,
    "start_time": "2022-04-19T09:11:52.620Z"
   },
   {
    "duration": 3,
    "start_time": "2022-04-19T09:12:40.516Z"
   },
   {
    "duration": 39,
    "start_time": "2022-04-19T09:12:50.331Z"
   },
   {
    "duration": 985,
    "start_time": "2022-04-19T09:15:12.602Z"
   },
   {
    "duration": 921,
    "start_time": "2022-04-19T09:15:55.968Z"
   },
   {
    "duration": 189,
    "start_time": "2022-04-19T09:16:14.676Z"
   },
   {
    "duration": 198,
    "start_time": "2022-04-19T09:16:35.180Z"
   },
   {
    "duration": 191,
    "start_time": "2022-04-19T09:16:43.447Z"
   },
   {
    "duration": 185,
    "start_time": "2022-04-19T09:17:42.109Z"
   },
   {
    "duration": 178,
    "start_time": "2022-04-19T09:18:45.017Z"
   },
   {
    "duration": 207,
    "start_time": "2022-04-19T09:22:48.433Z"
   },
   {
    "duration": 15,
    "start_time": "2022-04-19T09:23:05.653Z"
   },
   {
    "duration": 219,
    "start_time": "2022-04-19T09:23:50.803Z"
   },
   {
    "duration": 22,
    "start_time": "2022-04-19T09:25:34.229Z"
   },
   {
    "duration": 31,
    "start_time": "2022-04-19T09:42:06.488Z"
   },
   {
    "duration": 31,
    "start_time": "2022-04-19T09:44:45.151Z"
   },
   {
    "duration": 29,
    "start_time": "2022-04-19T09:45:07.414Z"
   },
   {
    "duration": 32,
    "start_time": "2022-04-19T09:45:41.934Z"
   },
   {
    "duration": 31,
    "start_time": "2022-04-19T09:46:07.169Z"
   },
   {
    "duration": 20,
    "start_time": "2022-04-19T09:46:23.645Z"
   },
   {
    "duration": 32,
    "start_time": "2022-04-19T09:46:31.552Z"
   },
   {
    "duration": 24,
    "start_time": "2022-04-19T09:48:14.503Z"
   },
   {
    "duration": 26,
    "start_time": "2022-04-19T09:48:32.614Z"
   },
   {
    "duration": 40,
    "start_time": "2022-04-19T09:50:20.106Z"
   },
   {
    "duration": 31,
    "start_time": "2022-04-19T09:51:10.497Z"
   },
   {
    "duration": 29,
    "start_time": "2022-04-19T09:51:27.871Z"
   },
   {
    "duration": 36,
    "start_time": "2022-04-19T09:52:10.308Z"
   },
   {
    "duration": 35,
    "start_time": "2022-04-19T09:53:03.051Z"
   },
   {
    "duration": 35,
    "start_time": "2022-04-19T09:53:15.050Z"
   },
   {
    "duration": 35,
    "start_time": "2022-04-19T09:53:49.247Z"
   },
   {
    "duration": 13,
    "start_time": "2022-04-19T11:08:08.360Z"
   },
   {
    "duration": 13,
    "start_time": "2022-04-19T11:08:54.801Z"
   },
   {
    "duration": 24,
    "start_time": "2022-04-19T11:18:05.964Z"
   },
   {
    "duration": 24,
    "start_time": "2022-04-19T11:19:11.458Z"
   },
   {
    "duration": 13,
    "start_time": "2022-04-19T11:20:19.638Z"
   },
   {
    "duration": 20,
    "start_time": "2022-04-19T11:21:05.792Z"
   },
   {
    "duration": 23,
    "start_time": "2022-04-19T11:21:22.173Z"
   },
   {
    "duration": 1623,
    "start_time": "2022-04-19T11:28:39.372Z"
   },
   {
    "duration": 21,
    "start_time": "2022-04-19T11:29:19.202Z"
   },
   {
    "duration": 23,
    "start_time": "2022-04-19T11:29:46.147Z"
   },
   {
    "duration": 101,
    "start_time": "2022-04-19T11:31:47.977Z"
   },
   {
    "duration": 10,
    "start_time": "2022-04-19T11:32:19.124Z"
   },
   {
    "duration": 24,
    "start_time": "2022-04-19T11:32:31.387Z"
   },
   {
    "duration": 25,
    "start_time": "2022-04-19T11:33:55.552Z"
   },
   {
    "duration": 26,
    "start_time": "2022-04-19T11:34:24.280Z"
   },
   {
    "duration": 28,
    "start_time": "2022-04-19T11:35:07.441Z"
   },
   {
    "duration": 24,
    "start_time": "2022-04-19T11:36:07.968Z"
   },
   {
    "duration": 22,
    "start_time": "2022-04-19T11:36:34.881Z"
   },
   {
    "duration": 1583,
    "start_time": "2022-04-19T11:38:26.561Z"
   },
   {
    "duration": 23,
    "start_time": "2022-04-19T11:38:35.976Z"
   },
   {
    "duration": 13,
    "start_time": "2022-04-19T12:58:08.378Z"
   },
   {
    "duration": 16,
    "start_time": "2022-04-19T12:58:25.739Z"
   },
   {
    "duration": 15,
    "start_time": "2022-04-19T12:58:50.115Z"
   },
   {
    "duration": 10,
    "start_time": "2022-04-19T12:59:44.416Z"
   },
   {
    "duration": 9,
    "start_time": "2022-04-19T13:00:47.504Z"
   },
   {
    "duration": 27,
    "start_time": "2022-04-19T13:01:13.352Z"
   },
   {
    "duration": 25,
    "start_time": "2022-04-19T13:03:38.905Z"
   },
   {
    "duration": 23,
    "start_time": "2022-04-19T13:10:06.840Z"
   },
   {
    "duration": 6,
    "start_time": "2022-04-19T13:11:01.581Z"
   },
   {
    "duration": 23,
    "start_time": "2022-04-19T13:23:36.487Z"
   },
   {
    "duration": 21,
    "start_time": "2022-04-19T13:23:51.877Z"
   },
   {
    "duration": 24,
    "start_time": "2022-04-19T13:24:00.801Z"
   },
   {
    "duration": 25,
    "start_time": "2022-04-19T13:25:39.723Z"
   },
   {
    "duration": 24,
    "start_time": "2022-04-19T13:26:02.818Z"
   },
   {
    "duration": 23,
    "start_time": "2022-04-19T13:26:14.418Z"
   },
   {
    "duration": 25,
    "start_time": "2022-04-19T13:26:24.182Z"
   },
   {
    "duration": 26,
    "start_time": "2022-04-19T13:26:52.770Z"
   },
   {
    "duration": 25,
    "start_time": "2022-04-19T13:27:11.325Z"
   },
   {
    "duration": 23,
    "start_time": "2022-04-19T13:27:17.525Z"
   },
   {
    "duration": 6,
    "start_time": "2022-04-19T13:27:19.486Z"
   },
   {
    "duration": 23,
    "start_time": "2022-04-19T13:27:19.968Z"
   },
   {
    "duration": 23,
    "start_time": "2022-04-19T13:27:28.994Z"
   },
   {
    "duration": 23,
    "start_time": "2022-04-19T13:27:38.607Z"
   },
   {
    "duration": 22,
    "start_time": "2022-04-19T13:27:43.131Z"
   },
   {
    "duration": 24,
    "start_time": "2022-04-19T13:27:48.376Z"
   },
   {
    "duration": 23,
    "start_time": "2022-04-19T13:28:20.621Z"
   },
   {
    "duration": 24,
    "start_time": "2022-04-19T13:28:52.354Z"
   },
   {
    "duration": 25,
    "start_time": "2022-04-19T13:49:26.844Z"
   },
   {
    "duration": 1269,
    "start_time": "2022-04-20T08:10:49.101Z"
   },
   {
    "duration": 54,
    "start_time": "2022-04-20T08:10:50.372Z"
   },
   {
    "duration": 4,
    "start_time": "2022-04-20T08:10:50.428Z"
   },
   {
    "duration": 19,
    "start_time": "2022-04-20T08:10:50.435Z"
   },
   {
    "duration": 17,
    "start_time": "2022-04-20T08:10:50.456Z"
   },
   {
    "duration": 13,
    "start_time": "2022-04-20T08:10:50.475Z"
   },
   {
    "duration": 37,
    "start_time": "2022-04-20T08:10:50.489Z"
   },
   {
    "duration": 31,
    "start_time": "2022-04-20T08:10:50.528Z"
   },
   {
    "duration": 17,
    "start_time": "2022-04-20T08:10:50.560Z"
   },
   {
    "duration": 5,
    "start_time": "2022-04-20T08:10:50.580Z"
   },
   {
    "duration": 44,
    "start_time": "2022-04-20T08:10:50.587Z"
   },
   {
    "duration": 7,
    "start_time": "2022-04-20T08:10:50.632Z"
   },
   {
    "duration": 18,
    "start_time": "2022-04-20T08:10:50.641Z"
   },
   {
    "duration": 204,
    "start_time": "2022-04-20T08:10:50.661Z"
   },
   {
    "duration": 348,
    "start_time": "2022-04-20T08:10:50.866Z"
   },
   {
    "duration": 43,
    "start_time": "2022-04-20T08:10:51.216Z"
   },
   {
    "duration": 215,
    "start_time": "2022-04-20T08:10:51.260Z"
   },
   {
    "duration": 249,
    "start_time": "2022-04-20T08:10:51.477Z"
   },
   {
    "duration": 7,
    "start_time": "2022-04-20T08:10:51.727Z"
   },
   {
    "duration": 193,
    "start_time": "2022-04-20T08:10:51.736Z"
   },
   {
    "duration": 865,
    "start_time": "2022-04-20T08:10:51.931Z"
   },
   {
    "duration": 693,
    "start_time": "2022-04-20T08:10:52.798Z"
   },
   {
    "duration": 190,
    "start_time": "2022-04-20T08:10:53.493Z"
   },
   {
    "duration": 188,
    "start_time": "2022-04-20T08:10:53.684Z"
   },
   {
    "duration": 35,
    "start_time": "2022-04-20T08:10:53.873Z"
   },
   {
    "duration": 38,
    "start_time": "2022-04-20T08:10:53.909Z"
   },
   {
    "duration": 23,
    "start_time": "2022-04-20T08:10:53.949Z"
   },
   {
    "duration": 22,
    "start_time": "2022-04-20T08:10:53.975Z"
   },
   {
    "duration": 44,
    "start_time": "2022-04-20T08:10:53.999Z"
   },
   {
    "duration": 21,
    "start_time": "2022-04-20T08:10:54.045Z"
   },
   {
    "duration": 21,
    "start_time": "2022-04-20T08:10:54.067Z"
   },
   {
    "duration": 46,
    "start_time": "2022-04-20T08:10:54.090Z"
   },
   {
    "duration": 23,
    "start_time": "2022-04-20T08:10:54.137Z"
   },
   {
    "duration": 23,
    "start_time": "2022-04-20T08:10:54.161Z"
   },
   {
    "duration": 14,
    "start_time": "2022-04-20T08:11:29.311Z"
   },
   {
    "duration": 21,
    "start_time": "2022-04-20T08:12:13.717Z"
   },
   {
    "duration": 7,
    "start_time": "2022-04-20T08:12:32.711Z"
   },
   {
    "duration": 100,
    "start_time": "2022-04-20T08:12:44.697Z"
   },
   {
    "duration": 108,
    "start_time": "2022-04-20T08:13:45.583Z"
   },
   {
    "duration": 135,
    "start_time": "2022-04-20T08:14:19.879Z"
   },
   {
    "duration": 139,
    "start_time": "2022-04-20T08:14:34.917Z"
   },
   {
    "duration": 170,
    "start_time": "2022-04-20T08:15:27.149Z"
   },
   {
    "duration": 213,
    "start_time": "2022-04-20T08:16:50.020Z"
   },
   {
    "duration": 135,
    "start_time": "2022-04-20T08:17:50.533Z"
   },
   {
    "duration": 116,
    "start_time": "2022-04-20T08:18:03.198Z"
   },
   {
    "duration": 6,
    "start_time": "2022-04-20T08:18:19.969Z"
   },
   {
    "duration": 5,
    "start_time": "2022-04-20T08:18:45.985Z"
   },
   {
    "duration": 123,
    "start_time": "2022-04-20T08:18:59.148Z"
   },
   {
    "duration": 157,
    "start_time": "2022-04-20T08:19:41.251Z"
   },
   {
    "duration": 145,
    "start_time": "2022-04-20T08:19:55.196Z"
   },
   {
    "duration": 257,
    "start_time": "2022-04-20T08:22:07.637Z"
   },
   {
    "duration": 288,
    "start_time": "2022-04-20T08:22:29.795Z"
   },
   {
    "duration": 364,
    "start_time": "2022-04-20T08:23:25.966Z"
   },
   {
    "duration": 252,
    "start_time": "2022-04-20T08:23:47.971Z"
   },
   {
    "duration": 92,
    "start_time": "2022-04-20T08:23:55.854Z"
   },
   {
    "duration": 363,
    "start_time": "2022-04-20T08:24:00.936Z"
   },
   {
    "duration": 256,
    "start_time": "2022-04-20T08:24:09.873Z"
   },
   {
    "duration": 283,
    "start_time": "2022-04-20T08:24:51.811Z"
   },
   {
    "duration": 271,
    "start_time": "2022-04-20T08:25:12.469Z"
   },
   {
    "duration": 302,
    "start_time": "2022-04-20T08:25:37.191Z"
   },
   {
    "duration": 284,
    "start_time": "2022-04-20T08:26:25.472Z"
   },
   {
    "duration": 316,
    "start_time": "2022-04-20T08:26:48.937Z"
   },
   {
    "duration": 303,
    "start_time": "2022-04-20T08:26:58.448Z"
   },
   {
    "duration": 523,
    "start_time": "2022-04-20T08:27:06.579Z"
   },
   {
    "duration": 463,
    "start_time": "2022-04-20T08:28:56.243Z"
   },
   {
    "duration": 347,
    "start_time": "2022-04-20T08:29:09.634Z"
   },
   {
    "duration": 382,
    "start_time": "2022-04-20T08:29:59.178Z"
   },
   {
    "duration": 3,
    "start_time": "2022-04-20T08:31:12.931Z"
   },
   {
    "duration": 9,
    "start_time": "2022-04-20T08:33:54.917Z"
   },
   {
    "duration": 7,
    "start_time": "2022-04-20T08:34:32.815Z"
   },
   {
    "duration": 7,
    "start_time": "2022-04-20T08:34:38.174Z"
   },
   {
    "duration": 8,
    "start_time": "2022-04-20T08:34:53.035Z"
   },
   {
    "duration": 7,
    "start_time": "2022-04-20T08:36:31.229Z"
   },
   {
    "duration": 8,
    "start_time": "2022-04-20T08:37:06.155Z"
   },
   {
    "duration": 14,
    "start_time": "2022-04-20T08:40:51.452Z"
   },
   {
    "duration": 278,
    "start_time": "2022-04-20T08:42:33.785Z"
   },
   {
    "duration": 358,
    "start_time": "2022-04-20T08:42:45.937Z"
   },
   {
    "duration": 360,
    "start_time": "2022-04-20T08:43:33.831Z"
   },
   {
    "duration": 8,
    "start_time": "2022-04-20T08:44:25.560Z"
   },
   {
    "duration": 3,
    "start_time": "2022-04-20T09:34:28.974Z"
   },
   {
    "duration": 44,
    "start_time": "2022-04-20T09:34:28.979Z"
   },
   {
    "duration": 3,
    "start_time": "2022-04-20T09:34:29.024Z"
   },
   {
    "duration": 19,
    "start_time": "2022-04-20T09:34:29.028Z"
   },
   {
    "duration": 15,
    "start_time": "2022-04-20T09:34:29.048Z"
   },
   {
    "duration": 12,
    "start_time": "2022-04-20T09:34:29.064Z"
   },
   {
    "duration": 8,
    "start_time": "2022-04-20T09:34:29.077Z"
   },
   {
    "duration": 170,
    "start_time": "2022-04-20T09:34:29.086Z"
   },
   {
    "duration": 16,
    "start_time": "2022-04-20T09:34:29.258Z"
   },
   {
    "duration": 5,
    "start_time": "2022-04-20T09:34:29.275Z"
   },
   {
    "duration": 14,
    "start_time": "2022-04-20T09:34:29.282Z"
   },
   {
    "duration": 28,
    "start_time": "2022-04-20T09:34:29.297Z"
   },
   {
    "duration": 11,
    "start_time": "2022-04-20T09:34:29.327Z"
   },
   {
    "duration": 195,
    "start_time": "2022-04-20T09:34:29.340Z"
   },
   {
    "duration": 296,
    "start_time": "2022-04-20T09:34:29.536Z"
   },
   {
    "duration": 34,
    "start_time": "2022-04-20T09:34:29.833Z"
   },
   {
    "duration": 221,
    "start_time": "2022-04-20T09:34:29.869Z"
   },
   {
    "duration": 217,
    "start_time": "2022-04-20T09:34:30.092Z"
   },
   {
    "duration": 13,
    "start_time": "2022-04-20T09:34:30.310Z"
   },
   {
    "duration": 174,
    "start_time": "2022-04-20T09:34:30.325Z"
   },
   {
    "duration": 718,
    "start_time": "2022-04-20T09:34:30.500Z"
   },
   {
    "duration": 745,
    "start_time": "2022-04-20T09:34:31.223Z"
   },
   {
    "duration": 295,
    "start_time": "2022-04-20T09:34:31.970Z"
   },
   {
    "duration": 202,
    "start_time": "2022-04-20T09:34:32.267Z"
   },
   {
    "duration": 34,
    "start_time": "2022-04-20T09:34:32.470Z"
   },
   {
    "duration": 40,
    "start_time": "2022-04-20T09:34:32.505Z"
   },
   {
    "duration": 23,
    "start_time": "2022-04-20T09:34:32.547Z"
   },
   {
    "duration": 21,
    "start_time": "2022-04-20T09:34:32.572Z"
   },
   {
    "duration": 47,
    "start_time": "2022-04-20T09:34:32.596Z"
   },
   {
    "duration": 24,
    "start_time": "2022-04-20T09:34:32.645Z"
   },
   {
    "duration": 22,
    "start_time": "2022-04-20T09:34:32.671Z"
   },
   {
    "duration": 54,
    "start_time": "2022-04-20T09:34:32.694Z"
   },
   {
    "duration": 30,
    "start_time": "2022-04-20T09:34:32.750Z"
   },
   {
    "duration": 21,
    "start_time": "2022-04-20T09:34:32.781Z"
   },
   {
    "duration": 372,
    "start_time": "2022-04-20T09:34:32.824Z"
   },
   {
    "duration": 9,
    "start_time": "2022-04-20T09:34:33.197Z"
   },
   {
    "duration": 376,
    "start_time": "2022-04-20T09:34:33.207Z"
   },
   {
    "duration": 7,
    "start_time": "2022-04-20T09:34:33.585Z"
   },
   {
    "duration": 8,
    "start_time": "2022-04-20T09:34:54.766Z"
   },
   {
    "duration": 8,
    "start_time": "2022-04-20T09:35:13.250Z"
   },
   {
    "duration": 12,
    "start_time": "2022-04-20T09:35:40.109Z"
   },
   {
    "duration": 7,
    "start_time": "2022-04-20T09:36:03.217Z"
   },
   {
    "duration": 9,
    "start_time": "2022-04-20T09:36:18.083Z"
   },
   {
    "duration": 12,
    "start_time": "2022-04-20T09:37:07.694Z"
   },
   {
    "duration": 9,
    "start_time": "2022-04-20T09:37:20.547Z"
   },
   {
    "duration": 9,
    "start_time": "2022-04-20T09:37:46.580Z"
   },
   {
    "duration": 8,
    "start_time": "2022-04-20T09:38:51.534Z"
   },
   {
    "duration": 9,
    "start_time": "2022-04-20T09:39:04.937Z"
   },
   {
    "duration": 10,
    "start_time": "2022-04-20T09:39:19.302Z"
   },
   {
    "duration": 7,
    "start_time": "2022-04-20T09:43:03.922Z"
   },
   {
    "duration": 399,
    "start_time": "2022-04-20T09:44:58.588Z"
   },
   {
    "duration": 397,
    "start_time": "2022-04-20T09:45:21.192Z"
   },
   {
    "duration": 672,
    "start_time": "2022-04-20T09:45:32.416Z"
   },
   {
    "duration": 390,
    "start_time": "2022-04-20T09:45:38.997Z"
   },
   {
    "duration": 409,
    "start_time": "2022-04-20T09:46:03.859Z"
   },
   {
    "duration": 391,
    "start_time": "2022-04-20T09:46:43.360Z"
   },
   {
    "duration": 378,
    "start_time": "2022-04-20T09:47:03.824Z"
   },
   {
    "duration": 9,
    "start_time": "2022-04-20T09:48:11.546Z"
   },
   {
    "duration": 385,
    "start_time": "2022-04-20T09:49:05.922Z"
   },
   {
    "duration": 527,
    "start_time": "2022-04-20T09:49:23.749Z"
   },
   {
    "duration": 429,
    "start_time": "2022-04-20T09:49:51.295Z"
   },
   {
    "duration": 449,
    "start_time": "2022-04-20T09:49:59.241Z"
   },
   {
    "duration": 407,
    "start_time": "2022-04-20T09:50:50.096Z"
   },
   {
    "duration": 8,
    "start_time": "2022-04-20T10:09:56.491Z"
   },
   {
    "duration": 363,
    "start_time": "2022-04-20T10:13:59.131Z"
   },
   {
    "duration": 10,
    "start_time": "2022-04-20T10:14:14.563Z"
   },
   {
    "duration": 9,
    "start_time": "2022-04-20T10:14:57.874Z"
   },
   {
    "duration": 513,
    "start_time": "2022-04-20T10:16:27.292Z"
   },
   {
    "duration": 424,
    "start_time": "2022-04-20T10:16:59.135Z"
   },
   {
    "duration": 9,
    "start_time": "2022-04-20T10:47:53.231Z"
   },
   {
    "duration": 396,
    "start_time": "2022-04-20T10:54:31.732Z"
   },
   {
    "duration": 4,
    "start_time": "2022-04-20T12:05:36.954Z"
   },
   {
    "duration": 43,
    "start_time": "2022-04-20T12:05:38.332Z"
   },
   {
    "duration": 3,
    "start_time": "2022-04-20T12:05:48.360Z"
   },
   {
    "duration": 21,
    "start_time": "2022-04-20T12:05:49.612Z"
   },
   {
    "duration": 16,
    "start_time": "2022-04-20T12:05:51.207Z"
   },
   {
    "duration": 14,
    "start_time": "2022-04-20T12:06:20.896Z"
   },
   {
    "duration": 7,
    "start_time": "2022-04-20T12:07:01.303Z"
   },
   {
    "duration": 3,
    "start_time": "2022-04-20T12:07:35.413Z"
   },
   {
    "duration": 27,
    "start_time": "2022-04-20T12:07:46.668Z"
   },
   {
    "duration": 21,
    "start_time": "2022-04-20T12:07:48.214Z"
   },
   {
    "duration": 22,
    "start_time": "2022-04-20T12:16:31.610Z"
   },
   {
    "duration": 204,
    "start_time": "2022-04-20T12:17:09.924Z"
   },
   {
    "duration": 18,
    "start_time": "2022-04-20T12:17:37.837Z"
   },
   {
    "duration": 14,
    "start_time": "2022-04-20T12:18:03.392Z"
   },
   {
    "duration": 6,
    "start_time": "2022-04-20T12:18:14.384Z"
   },
   {
    "duration": 206,
    "start_time": "2022-04-20T12:18:20.800Z"
   },
   {
    "duration": 15,
    "start_time": "2022-04-20T12:18:25.171Z"
   },
   {
    "duration": 3,
    "start_time": "2022-04-20T12:36:15.254Z"
   },
   {
    "duration": 46,
    "start_time": "2022-04-20T12:36:15.259Z"
   },
   {
    "duration": 3,
    "start_time": "2022-04-20T12:36:15.306Z"
   },
   {
    "duration": 16,
    "start_time": "2022-04-20T12:36:15.310Z"
   },
   {
    "duration": 13,
    "start_time": "2022-04-20T12:36:15.327Z"
   },
   {
    "duration": 11,
    "start_time": "2022-04-20T12:36:15.342Z"
   },
   {
    "duration": 7,
    "start_time": "2022-04-20T12:36:15.354Z"
   },
   {
    "duration": 26,
    "start_time": "2022-04-20T12:36:15.363Z"
   },
   {
    "duration": 40,
    "start_time": "2022-04-20T12:36:15.391Z"
   },
   {
    "duration": 5,
    "start_time": "2022-04-20T12:36:15.432Z"
   },
   {
    "duration": 14,
    "start_time": "2022-04-20T12:36:15.438Z"
   },
   {
    "duration": 5,
    "start_time": "2022-04-20T12:36:15.453Z"
   },
   {
    "duration": 17,
    "start_time": "2022-04-20T12:36:15.459Z"
   },
   {
    "duration": 212,
    "start_time": "2022-04-20T12:36:15.478Z"
   },
   {
    "duration": 293,
    "start_time": "2022-04-20T12:36:15.692Z"
   },
   {
    "duration": 47,
    "start_time": "2022-04-20T12:36:15.987Z"
   },
   {
    "duration": 328,
    "start_time": "2022-04-20T12:36:16.036Z"
   },
   {
    "duration": 215,
    "start_time": "2022-04-20T12:36:16.366Z"
   },
   {
    "duration": 7,
    "start_time": "2022-04-20T12:36:16.583Z"
   },
   {
    "duration": 185,
    "start_time": "2022-04-20T12:36:16.592Z"
   },
   {
    "duration": 755,
    "start_time": "2022-04-20T12:36:16.779Z"
   },
   {
    "duration": 802,
    "start_time": "2022-04-20T12:36:17.536Z"
   },
   {
    "duration": 217,
    "start_time": "2022-04-20T12:36:18.339Z"
   },
   {
    "duration": 199,
    "start_time": "2022-04-20T12:36:18.558Z"
   },
   {
    "duration": 35,
    "start_time": "2022-04-20T12:36:18.758Z"
   },
   {
    "duration": 43,
    "start_time": "2022-04-20T12:36:18.795Z"
   },
   {
    "duration": 25,
    "start_time": "2022-04-20T12:36:18.839Z"
   },
   {
    "duration": 30,
    "start_time": "2022-04-20T12:36:18.865Z"
   },
   {
    "duration": 45,
    "start_time": "2022-04-20T12:36:18.896Z"
   },
   {
    "duration": 24,
    "start_time": "2022-04-20T12:36:18.943Z"
   },
   {
    "duration": 25,
    "start_time": "2022-04-20T12:36:18.968Z"
   },
   {
    "duration": 44,
    "start_time": "2022-04-20T12:36:18.995Z"
   },
   {
    "duration": 22,
    "start_time": "2022-04-20T12:36:19.040Z"
   },
   {
    "duration": 24,
    "start_time": "2022-04-20T12:36:19.063Z"
   },
   {
    "duration": 435,
    "start_time": "2022-04-20T12:36:19.089Z"
   },
   {
    "duration": 8,
    "start_time": "2022-04-20T12:36:19.526Z"
   },
   {
    "duration": 578,
    "start_time": "2022-04-20T12:36:19.536Z"
   },
   {
    "duration": 14,
    "start_time": "2022-04-20T12:36:20.116Z"
   },
   {
    "duration": 2952,
    "start_time": "2022-04-27T13:39:46.174Z"
   },
   {
    "duration": 61,
    "start_time": "2022-04-27T13:39:49.128Z"
   },
   {
    "duration": 3,
    "start_time": "2022-04-27T13:39:49.191Z"
   },
   {
    "duration": 19,
    "start_time": "2022-04-27T13:39:49.196Z"
   },
   {
    "duration": 17,
    "start_time": "2022-04-27T13:39:49.217Z"
   },
   {
    "duration": 13,
    "start_time": "2022-04-27T13:39:49.236Z"
   },
   {
    "duration": 8,
    "start_time": "2022-04-27T13:39:49.278Z"
   },
   {
    "duration": 32,
    "start_time": "2022-04-27T13:39:49.289Z"
   },
   {
    "duration": 17,
    "start_time": "2022-04-27T13:39:49.323Z"
   },
   {
    "duration": 4,
    "start_time": "2022-04-27T13:39:49.343Z"
   },
   {
    "duration": 45,
    "start_time": "2022-04-27T13:39:49.349Z"
   },
   {
    "duration": 6,
    "start_time": "2022-04-27T13:39:49.395Z"
   },
   {
    "duration": 14,
    "start_time": "2022-04-27T13:39:49.402Z"
   },
   {
    "duration": 246,
    "start_time": "2022-04-27T13:39:49.417Z"
   },
   {
    "duration": 427,
    "start_time": "2022-04-27T13:39:49.667Z"
   },
   {
    "duration": 38,
    "start_time": "2022-04-27T13:39:50.096Z"
   },
   {
    "duration": 262,
    "start_time": "2022-04-27T13:39:50.136Z"
   },
   {
    "duration": 278,
    "start_time": "2022-04-27T13:39:50.400Z"
   },
   {
    "duration": 11,
    "start_time": "2022-04-27T13:39:50.680Z"
   },
   {
    "duration": 211,
    "start_time": "2022-04-27T13:39:50.693Z"
   },
   {
    "duration": 853,
    "start_time": "2022-04-27T13:39:50.905Z"
   },
   {
    "duration": 962,
    "start_time": "2022-04-27T13:39:51.760Z"
   },
   {
    "duration": 225,
    "start_time": "2022-04-27T13:39:52.724Z"
   },
   {
    "duration": 238,
    "start_time": "2022-04-27T13:39:52.951Z"
   },
   {
    "duration": 38,
    "start_time": "2022-04-27T13:39:53.191Z"
   },
   {
    "duration": 50,
    "start_time": "2022-04-27T13:39:53.230Z"
   },
   {
    "duration": 28,
    "start_time": "2022-04-27T13:39:53.281Z"
   },
   {
    "duration": 26,
    "start_time": "2022-04-27T13:39:53.312Z"
   },
   {
    "duration": 55,
    "start_time": "2022-04-27T13:39:53.340Z"
   },
   {
    "duration": 26,
    "start_time": "2022-04-27T13:39:53.397Z"
   },
   {
    "duration": 25,
    "start_time": "2022-04-27T13:39:53.425Z"
   },
   {
    "duration": 29,
    "start_time": "2022-04-27T13:39:53.482Z"
   },
   {
    "duration": 28,
    "start_time": "2022-04-27T13:39:53.512Z"
   },
   {
    "duration": 51,
    "start_time": "2022-04-27T13:39:53.542Z"
   },
   {
    "duration": 545,
    "start_time": "2022-04-27T13:39:53.594Z"
   },
   {
    "duration": 10,
    "start_time": "2022-04-27T13:39:54.141Z"
   },
   {
    "duration": 473,
    "start_time": "2022-04-27T13:39:54.152Z"
   },
   {
    "duration": 9,
    "start_time": "2022-04-27T13:39:54.627Z"
   },
   {
    "duration": 97,
    "start_time": "2022-04-27T13:56:29.092Z"
   },
   {
    "duration": 103,
    "start_time": "2022-04-27T14:13:28.083Z"
   },
   {
    "duration": 46,
    "start_time": "2022-04-28T09:50:44.317Z"
   },
   {
    "duration": 1302,
    "start_time": "2022-04-28T09:50:51.843Z"
   },
   {
    "duration": 56,
    "start_time": "2022-04-28T09:50:53.147Z"
   },
   {
    "duration": 5,
    "start_time": "2022-04-28T09:50:53.208Z"
   },
   {
    "duration": 18,
    "start_time": "2022-04-28T09:50:53.215Z"
   },
   {
    "duration": 16,
    "start_time": "2022-04-28T09:50:53.235Z"
   },
   {
    "duration": 13,
    "start_time": "2022-04-28T09:50:53.253Z"
   },
   {
    "duration": 40,
    "start_time": "2022-04-28T09:50:53.268Z"
   },
   {
    "duration": 32,
    "start_time": "2022-04-28T09:50:53.310Z"
   },
   {
    "duration": 17,
    "start_time": "2022-04-28T09:50:53.344Z"
   },
   {
    "duration": 5,
    "start_time": "2022-04-28T09:50:53.362Z"
   },
   {
    "duration": 36,
    "start_time": "2022-04-28T09:50:53.368Z"
   },
   {
    "duration": 10,
    "start_time": "2022-04-28T09:50:53.406Z"
   },
   {
    "duration": 15,
    "start_time": "2022-04-28T09:50:53.417Z"
   },
   {
    "duration": 228,
    "start_time": "2022-04-28T09:50:53.434Z"
   },
   {
    "duration": 348,
    "start_time": "2022-04-28T09:50:53.663Z"
   },
   {
    "duration": 38,
    "start_time": "2022-04-28T09:50:54.013Z"
   },
   {
    "duration": 250,
    "start_time": "2022-04-28T09:50:54.053Z"
   },
   {
    "duration": 264,
    "start_time": "2022-04-28T09:50:54.306Z"
   },
   {
    "duration": 6,
    "start_time": "2022-04-28T09:50:54.572Z"
   },
   {
    "duration": 215,
    "start_time": "2022-04-28T09:50:54.580Z"
   },
   {
    "duration": 413,
    "start_time": "2022-04-28T09:51:42.998Z"
   },
   {
    "duration": 453,
    "start_time": "2022-04-28T09:51:53.789Z"
   },
   {
    "duration": 365,
    "start_time": "2022-04-28T09:52:27.573Z"
   },
   {
    "duration": 370,
    "start_time": "2022-04-28T09:53:35.882Z"
   },
   {
    "duration": 425,
    "start_time": "2022-04-28T09:53:46.510Z"
   },
   {
    "duration": 583,
    "start_time": "2022-04-28T09:54:03.549Z"
   },
   {
    "duration": 471,
    "start_time": "2022-04-28T09:54:42.662Z"
   },
   {
    "duration": 371,
    "start_time": "2022-04-28T09:55:05.907Z"
   },
   {
    "duration": 14,
    "start_time": "2022-04-28T10:13:25.025Z"
   },
   {
    "duration": 11,
    "start_time": "2022-04-28T10:18:56.991Z"
   },
   {
    "duration": 14,
    "start_time": "2022-04-28T10:18:58.343Z"
   },
   {
    "duration": 63,
    "start_time": "2022-04-28T10:24:12.886Z"
   },
   {
    "duration": 13,
    "start_time": "2022-04-28T10:24:30.137Z"
   },
   {
    "duration": 36,
    "start_time": "2022-04-28T10:25:16.030Z"
   },
   {
    "duration": 202,
    "start_time": "2022-04-28T10:33:32.786Z"
   },
   {
    "duration": 207,
    "start_time": "2022-04-28T10:34:36.654Z"
   },
   {
    "duration": 223,
    "start_time": "2022-04-28T10:36:19.490Z"
   },
   {
    "duration": 233,
    "start_time": "2022-04-28T10:37:16.036Z"
   },
   {
    "duration": 5,
    "start_time": "2022-04-28T10:38:25.628Z"
   },
   {
    "duration": 6,
    "start_time": "2022-04-28T10:42:29.552Z"
   },
   {
    "duration": 20,
    "start_time": "2022-04-28T10:43:25.860Z"
   },
   {
    "duration": 6,
    "start_time": "2022-04-28T11:01:27.491Z"
   },
   {
    "duration": 402,
    "start_time": "2022-04-28T11:01:33.249Z"
   },
   {
    "duration": 1298,
    "start_time": "2022-04-28T11:05:17.192Z"
   },
   {
    "duration": 870,
    "start_time": "2022-04-28T11:06:36.752Z"
   },
   {
    "duration": 758,
    "start_time": "2022-04-28T11:11:13.771Z"
   },
   {
    "duration": 159,
    "start_time": "2022-04-28T11:13:12.774Z"
   },
   {
    "duration": 162,
    "start_time": "2022-04-28T11:13:32.596Z"
   },
   {
    "duration": 19,
    "start_time": "2022-04-28T11:14:09.051Z"
   },
   {
    "duration": 172,
    "start_time": "2022-04-28T11:17:22.185Z"
   },
   {
    "duration": 160,
    "start_time": "2022-04-28T11:17:33.660Z"
   },
   {
    "duration": 35,
    "start_time": "2022-04-28T11:17:45.576Z"
   },
   {
    "duration": 33,
    "start_time": "2022-04-28T11:29:03.693Z"
   },
   {
    "duration": 36,
    "start_time": "2022-04-28T11:29:46.833Z"
   },
   {
    "duration": 31,
    "start_time": "2022-04-28T11:44:23.204Z"
   },
   {
    "duration": 25,
    "start_time": "2022-04-28T11:48:21.279Z"
   },
   {
    "duration": 28,
    "start_time": "2022-04-28T13:10:18.381Z"
   },
   {
    "duration": 35,
    "start_time": "2022-04-28T13:12:50.758Z"
   },
   {
    "duration": 26,
    "start_time": "2022-04-28T13:16:31.084Z"
   },
   {
    "duration": 23,
    "start_time": "2022-04-28T13:16:35.978Z"
   },
   {
    "duration": 23,
    "start_time": "2022-04-28T13:16:39.316Z"
   },
   {
    "duration": 31,
    "start_time": "2022-04-28T13:23:38.242Z"
   },
   {
    "duration": 23,
    "start_time": "2022-04-28T13:26:38.472Z"
   },
   {
    "duration": 9,
    "start_time": "2022-04-28T13:28:27.051Z"
   },
   {
    "duration": 25,
    "start_time": "2022-04-28T13:28:51.461Z"
   },
   {
    "duration": 22,
    "start_time": "2022-04-28T13:30:51.968Z"
   },
   {
    "duration": 31,
    "start_time": "2022-04-28T13:33:19.109Z"
   },
   {
    "duration": 22,
    "start_time": "2022-04-28T13:38:27.441Z"
   },
   {
    "duration": 3,
    "start_time": "2022-04-28T14:12:36.832Z"
   },
   {
    "duration": 51,
    "start_time": "2022-04-28T14:12:36.836Z"
   },
   {
    "duration": 3,
    "start_time": "2022-04-28T14:12:36.889Z"
   },
   {
    "duration": 23,
    "start_time": "2022-04-28T14:12:36.894Z"
   },
   {
    "duration": 15,
    "start_time": "2022-04-28T14:12:36.919Z"
   },
   {
    "duration": 11,
    "start_time": "2022-04-28T14:12:36.935Z"
   },
   {
    "duration": 10,
    "start_time": "2022-04-28T14:12:36.947Z"
   },
   {
    "duration": 25,
    "start_time": "2022-04-28T14:12:36.958Z"
   },
   {
    "duration": 17,
    "start_time": "2022-04-28T14:12:36.999Z"
   },
   {
    "duration": 5,
    "start_time": "2022-04-28T14:12:37.017Z"
   },
   {
    "duration": 17,
    "start_time": "2022-04-28T14:12:37.023Z"
   },
   {
    "duration": 5,
    "start_time": "2022-04-28T14:12:37.041Z"
   },
   {
    "duration": 16,
    "start_time": "2022-04-28T14:12:37.047Z"
   },
   {
    "duration": 298,
    "start_time": "2022-04-28T14:12:37.064Z"
   },
   {
    "duration": 286,
    "start_time": "2022-04-28T14:12:37.363Z"
   },
   {
    "duration": 33,
    "start_time": "2022-04-28T14:12:37.651Z"
   },
   {
    "duration": 228,
    "start_time": "2022-04-28T14:12:37.685Z"
   },
   {
    "duration": 223,
    "start_time": "2022-04-28T14:12:37.916Z"
   },
   {
    "duration": 6,
    "start_time": "2022-04-28T14:12:38.140Z"
   },
   {
    "duration": 309,
    "start_time": "2022-04-28T14:12:38.148Z"
   },
   {
    "duration": 772,
    "start_time": "2022-04-28T14:12:38.458Z"
   },
   {
    "duration": 835,
    "start_time": "2022-04-28T14:12:39.231Z"
   },
   {
    "duration": 259,
    "start_time": "2022-04-28T14:12:40.069Z"
   },
   {
    "duration": 257,
    "start_time": "2022-04-28T14:12:40.330Z"
   },
   {
    "duration": 40,
    "start_time": "2022-04-28T14:12:40.588Z"
   },
   {
    "duration": 28,
    "start_time": "2022-04-28T14:12:40.629Z"
   },
   {
    "duration": 21,
    "start_time": "2022-04-28T14:12:40.659Z"
   },
   {
    "duration": 40,
    "start_time": "2022-04-28T14:12:40.681Z"
   },
   {
    "duration": 23,
    "start_time": "2022-04-28T14:12:40.723Z"
   },
   {
    "duration": 22,
    "start_time": "2022-04-28T14:12:40.748Z"
   },
   {
    "duration": 48,
    "start_time": "2022-04-28T14:12:40.771Z"
   },
   {
    "duration": 20,
    "start_time": "2022-04-28T14:12:40.821Z"
   },
   {
    "duration": 20,
    "start_time": "2022-04-28T14:12:40.842Z"
   },
   {
    "duration": 46,
    "start_time": "2022-04-28T14:12:40.863Z"
   },
   {
    "duration": 397,
    "start_time": "2022-04-28T14:12:40.910Z"
   },
   {
    "duration": 8,
    "start_time": "2022-04-28T14:12:41.308Z"
   },
   {
    "duration": 400,
    "start_time": "2022-04-28T14:12:41.318Z"
   },
   {
    "duration": 9,
    "start_time": "2022-04-28T14:12:41.719Z"
   },
   {
    "duration": 1820,
    "start_time": "2022-04-29T06:54:31.232Z"
   },
   {
    "duration": 69,
    "start_time": "2022-04-29T06:54:33.055Z"
   },
   {
    "duration": 5,
    "start_time": "2022-04-29T06:54:33.126Z"
   },
   {
    "duration": 30,
    "start_time": "2022-04-29T06:54:33.133Z"
   },
   {
    "duration": 23,
    "start_time": "2022-04-29T06:54:33.165Z"
   },
   {
    "duration": 19,
    "start_time": "2022-04-29T06:54:33.190Z"
   },
   {
    "duration": 8,
    "start_time": "2022-04-29T06:54:33.211Z"
   },
   {
    "duration": 44,
    "start_time": "2022-04-29T06:54:33.222Z"
   },
   {
    "duration": 30,
    "start_time": "2022-04-29T06:54:33.268Z"
   },
   {
    "duration": 7,
    "start_time": "2022-04-29T06:54:33.302Z"
   },
   {
    "duration": 26,
    "start_time": "2022-04-29T06:54:33.311Z"
   },
   {
    "duration": 8,
    "start_time": "2022-04-29T06:54:33.340Z"
   },
   {
    "duration": 35,
    "start_time": "2022-04-29T06:54:33.351Z"
   },
   {
    "duration": 375,
    "start_time": "2022-04-29T06:54:33.388Z"
   },
   {
    "duration": 780,
    "start_time": "2022-04-29T06:54:33.765Z"
   },
   {
    "duration": 76,
    "start_time": "2022-04-29T06:54:34.548Z"
   },
   {
    "duration": 445,
    "start_time": "2022-04-29T06:54:34.627Z"
   },
   {
    "duration": 415,
    "start_time": "2022-04-29T06:54:35.076Z"
   },
   {
    "duration": 8,
    "start_time": "2022-04-29T06:54:35.494Z"
   },
   {
    "duration": 668,
    "start_time": "2022-04-29T06:54:35.505Z"
   },
   {
    "duration": 1558,
    "start_time": "2022-04-29T06:54:36.182Z"
   },
   {
    "duration": 1305,
    "start_time": "2022-04-29T06:54:37.742Z"
   },
   {
    "duration": 324,
    "start_time": "2022-04-29T06:54:39.049Z"
   },
   {
    "duration": 328,
    "start_time": "2022-04-29T06:54:39.375Z"
   },
   {
    "duration": 53,
    "start_time": "2022-04-29T06:54:39.705Z"
   },
   {
    "duration": 62,
    "start_time": "2022-04-29T06:54:39.760Z"
   },
   {
    "duration": 61,
    "start_time": "2022-04-29T06:54:39.824Z"
   },
   {
    "duration": 38,
    "start_time": "2022-04-29T06:54:39.890Z"
   },
   {
    "duration": 61,
    "start_time": "2022-04-29T06:54:39.930Z"
   },
   {
    "duration": 36,
    "start_time": "2022-04-29T06:54:39.993Z"
   },
   {
    "duration": 61,
    "start_time": "2022-04-29T06:54:40.031Z"
   },
   {
    "duration": 37,
    "start_time": "2022-04-29T06:54:40.095Z"
   },
   {
    "duration": 58,
    "start_time": "2022-04-29T06:54:40.134Z"
   },
   {
    "duration": 40,
    "start_time": "2022-04-29T06:54:40.195Z"
   },
   {
    "duration": 713,
    "start_time": "2022-04-29T06:54:40.238Z"
   },
   {
    "duration": 28,
    "start_time": "2022-04-29T06:54:40.953Z"
   },
   {
    "duration": 677,
    "start_time": "2022-04-29T06:54:40.984Z"
   },
   {
    "duration": 31,
    "start_time": "2022-04-29T06:54:41.664Z"
   }
  ],
  "kernelspec": {
   "display_name": "Python 3 (ipykernel)",
   "language": "python",
   "name": "python3"
  },
  "language_info": {
   "codemirror_mode": {
    "name": "ipython",
    "version": 3
   },
   "file_extension": ".py",
   "mimetype": "text/x-python",
   "name": "python",
   "nbconvert_exporter": "python",
   "pygments_lexer": "ipython3",
   "version": "3.9.5"
  },
  "toc": {
   "base_numbering": 1,
   "nav_menu": {},
   "number_sections": true,
   "sideBar": true,
   "skip_h1_title": true,
   "title_cell": "Table of Contents",
   "title_sidebar": "Contents",
   "toc_cell": false,
   "toc_position": {
    "height": "calc(100% - 180px)",
    "left": "10px",
    "top": "150px",
    "width": "329px"
   },
   "toc_section_display": true,
   "toc_window_display": true
  }
 },
 "nbformat": 4,
 "nbformat_minor": 2
}
